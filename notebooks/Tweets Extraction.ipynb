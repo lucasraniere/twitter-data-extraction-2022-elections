{
 "cells": [
  {
   "cell_type": "markdown",
   "id": "9fb92c31-2fcb-426a-a7aa-ecc1f21944cf",
   "metadata": {},
   "source": [
    "# __Tweet Extraction__"
   ]
  },
  {
   "cell_type": "code",
   "execution_count": 1,
   "id": "17052776-4fab-4f42-bd5e-ad95a01a7876",
   "metadata": {},
   "outputs": [],
   "source": [
    "import sys\n",
    "\n",
    "sys.path.append('../')\n",
    "from modules.search import Search\n",
    "import pandas as pd\n",
    "from config import*"
   ]
  },
  {
   "cell_type": "code",
   "execution_count": 2,
   "id": "12e38a58-b2f6-464d-b7b2-fb73f24e5a84",
   "metadata": {},
   "outputs": [],
   "source": [
    "search = Search(API_KEY, API_SECRET, ACCESS_TOKEN, ACCESS_TOKEN_SECRET, BEARER_TOKEN, SANDBOX_LABEL, wait_on_rate_limit=True)"
   ]
  },
  {
   "cell_type": "markdown",
   "id": "19bb75d5-18da-4841-854b-d25511fc79ee",
   "metadata": {},
   "source": [
    "### API V2 Archive"
   ]
  },
  {
   "cell_type": "code",
   "execution_count": null,
   "id": "acb95c46-b254-45d4-806d-d366fc3da77b",
   "metadata": {},
   "outputs": [],
   "source": [
    "days = [\n",
    "    {\n",
    "        'begin': '2022-08-28 00:00',\n",
    "        'ending': '2022-08-28 23:59',\n",
    "        'terms': ['#DebateNaBand']\n",
    "    },\n",
    "    # {\n",
    "    #     'begin': '2022-08-29 00:00',\n",
    "    #     'ending': '2022-08-31 23:59',\n",
    "    #     'terms': ['BOLSONARO ODEIA MULHERES', '#SouMulherEVotoBolsonaro']\n",
    "    # }\n",
    "]"
   ]
  },
  {
   "cell_type": "code",
   "execution_count": null,
   "id": "88849b78-7c40-4795-b21d-7e810978c1a0",
   "metadata": {},
   "outputs": [],
   "source": [
    "for day in days:\n",
    "    date = day['begin']\n",
    "    for term in day['terms']:\n",
    "        print(f'Starting data extraction, term: {term}')\n",
    "        tweets = search._archive_api2_wait_false(query=term, lang='pt', since=day['begin'], until=day['ending'])\n",
    "        print('Generating dataframe...')\n",
    "        df = tweets.get_dataframe()\n",
    "        df.to_csv(f'../data/tweets/{date[:10]}-{term}.csv', index=False)\n",
    "        print(f'Finished term: {term}; Info: {tweets._info}')"
   ]
  },
  {
   "cell_type": "code",
   "execution_count": null,
   "id": "5c347869-491c-4421-a890-19523e2bdefa",
   "metadata": {},
   "outputs": [],
   "source": [
    "df_complete.to_csv('../data/tweets/2022-08-28-#DebateNaBand--incomplete.csv', index=False)"
   ]
  },
  {
   "cell_type": "markdown",
   "id": "40ba3001-f951-4a0c-b02f-2e1760738b2b",
   "metadata": {},
   "source": [
    "## API V2 Recent"
   ]
  },
  {
   "cell_type": "code",
   "execution_count": 3,
   "id": "54824b60-a5fc-4ae1-8c5d-6685ca78584e",
   "metadata": {},
   "outputs": [],
   "source": [
    "term = 'Polícia Rodoviária Federal'\n",
    "begin = '2022-10-30 00:00'"
   ]
  },
  {
   "cell_type": "code",
   "execution_count": 6,
   "id": "47159eba-4b35-4a68-8566-279739b39ca2",
   "metadata": {},
   "outputs": [],
   "source": [
    "tts = search._archive_api2_wait_true(query=term, since=begin, until='2022-10-30 23:59', lang='pt')"
   ]
  },
  {
   "cell_type": "code",
   "execution_count": 8,
   "id": "c2614b97-9d8c-426d-a583-9e57710a759c",
   "metadata": {},
   "outputs": [
    {
     "data": {
      "text/plain": [
       "'This collection contains 498480 tweets. Extraction method: archive_apiV2.'"
      ]
     },
     "execution_count": 8,
     "metadata": {},
     "output_type": "execute_result"
    }
   ],
   "source": [
    "tts._info"
   ]
  },
  {
   "cell_type": "code",
   "execution_count": 9,
   "id": "3523001e-2da2-4586-8255-49bc512ac85a",
   "metadata": {},
   "outputs": [],
   "source": [
    "tweets, includes = tts.get_tweets_dict()"
   ]
  },
  {
   "cell_type": "code",
   "execution_count": 10,
   "id": "6eea178d-174b-4af5-80ae-c3fdc7cf297a",
   "metadata": {},
   "outputs": [
    {
     "data": {
      "text/plain": [
       "(498480, 14)"
      ]
     },
     "execution_count": 10,
     "metadata": {},
     "output_type": "execute_result"
    }
   ],
   "source": [
    "df = tts.get_dataframe()\n",
    "df.shape"
   ]
  },
  {
   "cell_type": "code",
   "execution_count": 11,
   "id": "91b17f02-20bf-44b2-a7ab-c6c44a60f721",
   "metadata": {},
   "outputs": [
    {
     "data": {
      "text/html": [
       "<div>\n",
       "<style scoped>\n",
       "    .dataframe tbody tr th:only-of-type {\n",
       "        vertical-align: middle;\n",
       "    }\n",
       "\n",
       "    .dataframe tbody tr th {\n",
       "        vertical-align: top;\n",
       "    }\n",
       "\n",
       "    .dataframe thead th {\n",
       "        text-align: right;\n",
       "    }\n",
       "</style>\n",
       "<table border=\"1\" class=\"dataframe\">\n",
       "  <thead>\n",
       "    <tr style=\"text-align: right;\">\n",
       "      <th></th>\n",
       "      <th>created_at</th>\n",
       "      <th>tweet_id</th>\n",
       "      <th>tweet_content</th>\n",
       "      <th>user</th>\n",
       "      <th>user_info</th>\n",
       "      <th>has_mention</th>\n",
       "      <th>mentions</th>\n",
       "      <th>is_reply</th>\n",
       "      <th>reply_to</th>\n",
       "      <th>is_quote</th>\n",
       "      <th>quoted_from</th>\n",
       "      <th>is_retweet</th>\n",
       "      <th>retweeted_from</th>\n",
       "      <th>hashtags</th>\n",
       "    </tr>\n",
       "  </thead>\n",
       "  <tbody>\n",
       "    <tr>\n",
       "      <th>0</th>\n",
       "      <td>2022-10-31 02:58:58</td>\n",
       "      <td>1586915603809710080</td>\n",
       "      <td>Ganhar roubando já é um constrangimento. Perde...</td>\n",
       "      <td>NakazakiTadashi</td>\n",
       "      <td>{'id': 1492519630719438851, 'name': 'carlos ta...</td>\n",
       "      <td>False</td>\n",
       "      <td>None</td>\n",
       "      <td>False</td>\n",
       "      <td>None</td>\n",
       "      <td>False</td>\n",
       "      <td>None</td>\n",
       "      <td>True</td>\n",
       "      <td>{'user': 'antoniotabet', 'user_id': 9722452, '...</td>\n",
       "      <td>None</td>\n",
       "    </tr>\n",
       "    <tr>\n",
       "      <th>1</th>\n",
       "      <td>2022-10-31 02:58:57</td>\n",
       "      <td>1586915600353329153</td>\n",
       "      <td>Ganhar roubando já é um constrangimento. Perde...</td>\n",
       "      <td>Fe_Dutra</td>\n",
       "      <td>{'id': 62388852, 'name': 'Fernanda Dutra', 'de...</td>\n",
       "      <td>False</td>\n",
       "      <td>None</td>\n",
       "      <td>False</td>\n",
       "      <td>None</td>\n",
       "      <td>False</td>\n",
       "      <td>None</td>\n",
       "      <td>True</td>\n",
       "      <td>{'user': 'antoniotabet', 'user_id': 9722452, '...</td>\n",
       "      <td>None</td>\n",
       "    </tr>\n",
       "    <tr>\n",
       "      <th>2</th>\n",
       "      <td>2022-10-31 02:58:55</td>\n",
       "      <td>1586915593147633664</td>\n",
       "      <td>Ganhar roubando já é um constrangimento. Perde...</td>\n",
       "      <td>ntmotjdsc</td>\n",
       "      <td>{'id': 151161303, 'name': 'xlap', 'description...</td>\n",
       "      <td>False</td>\n",
       "      <td>None</td>\n",
       "      <td>False</td>\n",
       "      <td>None</td>\n",
       "      <td>False</td>\n",
       "      <td>None</td>\n",
       "      <td>True</td>\n",
       "      <td>{'user': 'antoniotabet', 'user_id': 9722452, '...</td>\n",
       "      <td>None</td>\n",
       "    </tr>\n",
       "    <tr>\n",
       "      <th>3</th>\n",
       "      <td>2022-10-31 02:58:55</td>\n",
       "      <td>1586915591058857987</td>\n",
       "      <td>Ganhar roubando já é um constrangimento. Perde...</td>\n",
       "      <td>AlfieMind</td>\n",
       "      <td>{'id': 1496906061416181764, 'name': 'mind the ...</td>\n",
       "      <td>False</td>\n",
       "      <td>None</td>\n",
       "      <td>False</td>\n",
       "      <td>None</td>\n",
       "      <td>False</td>\n",
       "      <td>None</td>\n",
       "      <td>True</td>\n",
       "      <td>{'user': 'antoniotabet', 'user_id': 9722452, '...</td>\n",
       "      <td>None</td>\n",
       "    </tr>\n",
       "    <tr>\n",
       "      <th>4</th>\n",
       "      <td>2022-10-31 02:58:52</td>\n",
       "      <td>1586915579310608384</td>\n",
       "      <td>Ganhar roubando já é um constrangimento. Perde...</td>\n",
       "      <td>BetoMandetta</td>\n",
       "      <td>{'id': 2997281541, 'name': 'Beto Mandetta', 'd...</td>\n",
       "      <td>False</td>\n",
       "      <td>None</td>\n",
       "      <td>False</td>\n",
       "      <td>None</td>\n",
       "      <td>False</td>\n",
       "      <td>None</td>\n",
       "      <td>True</td>\n",
       "      <td>{'user': 'antoniotabet', 'user_id': 9722452, '...</td>\n",
       "      <td>None</td>\n",
       "    </tr>\n",
       "  </tbody>\n",
       "</table>\n",
       "</div>"
      ],
      "text/plain": [
       "            created_at             tweet_id  \\\n",
       "0  2022-10-31 02:58:58  1586915603809710080   \n",
       "1  2022-10-31 02:58:57  1586915600353329153   \n",
       "2  2022-10-31 02:58:55  1586915593147633664   \n",
       "3  2022-10-31 02:58:55  1586915591058857987   \n",
       "4  2022-10-31 02:58:52  1586915579310608384   \n",
       "\n",
       "                                       tweet_content             user  \\\n",
       "0  Ganhar roubando já é um constrangimento. Perde...  NakazakiTadashi   \n",
       "1  Ganhar roubando já é um constrangimento. Perde...         Fe_Dutra   \n",
       "2  Ganhar roubando já é um constrangimento. Perde...        ntmotjdsc   \n",
       "3  Ganhar roubando já é um constrangimento. Perde...        AlfieMind   \n",
       "4  Ganhar roubando já é um constrangimento. Perde...     BetoMandetta   \n",
       "\n",
       "                                           user_info  has_mention mentions  \\\n",
       "0  {'id': 1492519630719438851, 'name': 'carlos ta...        False     None   \n",
       "1  {'id': 62388852, 'name': 'Fernanda Dutra', 'de...        False     None   \n",
       "2  {'id': 151161303, 'name': 'xlap', 'description...        False     None   \n",
       "3  {'id': 1496906061416181764, 'name': 'mind the ...        False     None   \n",
       "4  {'id': 2997281541, 'name': 'Beto Mandetta', 'd...        False     None   \n",
       "\n",
       "   is_reply reply_to  is_quote quoted_from  is_retweet  \\\n",
       "0     False     None     False        None        True   \n",
       "1     False     None     False        None        True   \n",
       "2     False     None     False        None        True   \n",
       "3     False     None     False        None        True   \n",
       "4     False     None     False        None        True   \n",
       "\n",
       "                                      retweeted_from hashtags  \n",
       "0  {'user': 'antoniotabet', 'user_id': 9722452, '...     None  \n",
       "1  {'user': 'antoniotabet', 'user_id': 9722452, '...     None  \n",
       "2  {'user': 'antoniotabet', 'user_id': 9722452, '...     None  \n",
       "3  {'user': 'antoniotabet', 'user_id': 9722452, '...     None  \n",
       "4  {'user': 'antoniotabet', 'user_id': 9722452, '...     None  "
      ]
     },
     "execution_count": 11,
     "metadata": {},
     "output_type": "execute_result"
    }
   ],
   "source": [
    "df.head()"
   ]
  },
  {
   "cell_type": "code",
   "execution_count": 12,
   "id": "6e866f43-beda-4ac5-b049-ddee90c6370b",
   "metadata": {},
   "outputs": [
    {
     "data": {
      "text/html": [
       "<div>\n",
       "<style scoped>\n",
       "    .dataframe tbody tr th:only-of-type {\n",
       "        vertical-align: middle;\n",
       "    }\n",
       "\n",
       "    .dataframe tbody tr th {\n",
       "        vertical-align: top;\n",
       "    }\n",
       "\n",
       "    .dataframe thead th {\n",
       "        text-align: right;\n",
       "    }\n",
       "</style>\n",
       "<table border=\"1\" class=\"dataframe\">\n",
       "  <thead>\n",
       "    <tr style=\"text-align: right;\">\n",
       "      <th></th>\n",
       "      <th>created_at</th>\n",
       "      <th>tweet_id</th>\n",
       "      <th>tweet_content</th>\n",
       "      <th>user</th>\n",
       "      <th>user_info</th>\n",
       "      <th>has_mention</th>\n",
       "      <th>mentions</th>\n",
       "      <th>is_reply</th>\n",
       "      <th>reply_to</th>\n",
       "      <th>is_quote</th>\n",
       "      <th>quoted_from</th>\n",
       "      <th>is_retweet</th>\n",
       "      <th>retweeted_from</th>\n",
       "      <th>hashtags</th>\n",
       "    </tr>\n",
       "  </thead>\n",
       "  <tbody>\n",
       "    <tr>\n",
       "      <th>498475</th>\n",
       "      <td>2022-10-30 03:00:00</td>\n",
       "      <td>1586553477911773186</td>\n",
       "      <td>URGENTE! O Ministro Alexandre de Moraes acaba ...</td>\n",
       "      <td>cin_milr</td>\n",
       "      <td>{'id': 1388913494213513221, 'name': 'cínthia_r...</td>\n",
       "      <td>False</td>\n",
       "      <td>None</td>\n",
       "      <td>False</td>\n",
       "      <td>None</td>\n",
       "      <td>False</td>\n",
       "      <td>None</td>\n",
       "      <td>True</td>\n",
       "      <td>{'user': 'AndreJanonesAdv', 'user_id': 1198004...</td>\n",
       "      <td>None</td>\n",
       "    </tr>\n",
       "    <tr>\n",
       "      <th>498476</th>\n",
       "      <td>2022-10-30 03:00:00</td>\n",
       "      <td>1586553477865639936</td>\n",
       "      <td>1) A PROIBIÇÃO, ATÉ O ENCERRAMENTO DO SEGUNDO ...</td>\n",
       "      <td>LucieneCaP</td>\n",
       "      <td>{'id': 3056257929, 'name': 'LucieneC', 'descri...</td>\n",
       "      <td>False</td>\n",
       "      <td>None</td>\n",
       "      <td>False</td>\n",
       "      <td>None</td>\n",
       "      <td>False</td>\n",
       "      <td>None</td>\n",
       "      <td>True</td>\n",
       "      <td>{'user': 'AndreJanonesAdv', 'user_id': 1198004...</td>\n",
       "      <td>None</td>\n",
       "    </tr>\n",
       "    <tr>\n",
       "      <th>498477</th>\n",
       "      <td>2022-10-30 03:00:00</td>\n",
       "      <td>1586553477471297537</td>\n",
       "      <td>🚨Ministro Alexandre de Moraes proíbe que Polic...</td>\n",
       "      <td>strangerguy96</td>\n",
       "      <td>{'id': 1049824144974594049, 'name': 'Eli. 1️⃣3...</td>\n",
       "      <td>False</td>\n",
       "      <td>None</td>\n",
       "      <td>False</td>\n",
       "      <td>None</td>\n",
       "      <td>False</td>\n",
       "      <td>None</td>\n",
       "      <td>True</td>\n",
       "      <td>{'user': 'bchartsnet', 'user_id': 788794760764...</td>\n",
       "      <td>None</td>\n",
       "    </tr>\n",
       "    <tr>\n",
       "      <th>498478</th>\n",
       "      <td>2022-10-30 03:00:00</td>\n",
       "      <td>1586553476980637698</td>\n",
       "      <td>URGENTE! O Ministro Alexandre de Moraes acaba ...</td>\n",
       "      <td>DantasLisane</td>\n",
       "      <td>{'id': 1390449700986294285, 'name': 'Lisane Te...</td>\n",
       "      <td>False</td>\n",
       "      <td>None</td>\n",
       "      <td>False</td>\n",
       "      <td>None</td>\n",
       "      <td>False</td>\n",
       "      <td>None</td>\n",
       "      <td>True</td>\n",
       "      <td>{'user': 'AndreJanonesAdv', 'user_id': 1198004...</td>\n",
       "      <td>None</td>\n",
       "    </tr>\n",
       "    <tr>\n",
       "      <th>498479</th>\n",
       "      <td>2022-10-30 03:00:00</td>\n",
       "      <td>1586553475864879104</td>\n",
       "      <td>URGENTE! O Ministro Alexandre de Moraes acaba ...</td>\n",
       "      <td>lapa_marcia</td>\n",
       "      <td>{'id': 760178905672286208, 'name': 'Marcia Lul...</td>\n",
       "      <td>False</td>\n",
       "      <td>None</td>\n",
       "      <td>False</td>\n",
       "      <td>None</td>\n",
       "      <td>False</td>\n",
       "      <td>None</td>\n",
       "      <td>True</td>\n",
       "      <td>{'user': 'AndreJanonesAdv', 'user_id': 1198004...</td>\n",
       "      <td>None</td>\n",
       "    </tr>\n",
       "  </tbody>\n",
       "</table>\n",
       "</div>"
      ],
      "text/plain": [
       "                 created_at             tweet_id  \\\n",
       "498475  2022-10-30 03:00:00  1586553477911773186   \n",
       "498476  2022-10-30 03:00:00  1586553477865639936   \n",
       "498477  2022-10-30 03:00:00  1586553477471297537   \n",
       "498478  2022-10-30 03:00:00  1586553476980637698   \n",
       "498479  2022-10-30 03:00:00  1586553475864879104   \n",
       "\n",
       "                                            tweet_content           user  \\\n",
       "498475  URGENTE! O Ministro Alexandre de Moraes acaba ...       cin_milr   \n",
       "498476  1) A PROIBIÇÃO, ATÉ O ENCERRAMENTO DO SEGUNDO ...     LucieneCaP   \n",
       "498477  🚨Ministro Alexandre de Moraes proíbe que Polic...  strangerguy96   \n",
       "498478  URGENTE! O Ministro Alexandre de Moraes acaba ...   DantasLisane   \n",
       "498479  URGENTE! O Ministro Alexandre de Moraes acaba ...    lapa_marcia   \n",
       "\n",
       "                                                user_info  has_mention  \\\n",
       "498475  {'id': 1388913494213513221, 'name': 'cínthia_r...        False   \n",
       "498476  {'id': 3056257929, 'name': 'LucieneC', 'descri...        False   \n",
       "498477  {'id': 1049824144974594049, 'name': 'Eli. 1️⃣3...        False   \n",
       "498478  {'id': 1390449700986294285, 'name': 'Lisane Te...        False   \n",
       "498479  {'id': 760178905672286208, 'name': 'Marcia Lul...        False   \n",
       "\n",
       "       mentions  is_reply reply_to  is_quote quoted_from  is_retweet  \\\n",
       "498475     None     False     None     False        None        True   \n",
       "498476     None     False     None     False        None        True   \n",
       "498477     None     False     None     False        None        True   \n",
       "498478     None     False     None     False        None        True   \n",
       "498479     None     False     None     False        None        True   \n",
       "\n",
       "                                           retweeted_from hashtags  \n",
       "498475  {'user': 'AndreJanonesAdv', 'user_id': 1198004...     None  \n",
       "498476  {'user': 'AndreJanonesAdv', 'user_id': 1198004...     None  \n",
       "498477  {'user': 'bchartsnet', 'user_id': 788794760764...     None  \n",
       "498478  {'user': 'AndreJanonesAdv', 'user_id': 1198004...     None  \n",
       "498479  {'user': 'AndreJanonesAdv', 'user_id': 1198004...     None  "
      ]
     },
     "execution_count": 12,
     "metadata": {},
     "output_type": "execute_result"
    }
   ],
   "source": [
    "df.tail()"
   ]
  },
  {
   "cell_type": "code",
   "execution_count": 13,
   "id": "72ef3716-0eb0-4ac3-b2c8-d2d823fe18e4",
   "metadata": {},
   "outputs": [],
   "source": [
    "df.to_csv(f'../data/tweets/{begin[:10]}-{term}.csv')"
   ]
  },
  {
   "cell_type": "code",
   "execution_count": null,
   "id": "1a744d9b-00e2-449d-90c5-5a133ad32ea6",
   "metadata": {},
   "outputs": [],
   "source": [
    "import json"
   ]
  },
  {
   "cell_type": "code",
   "execution_count": null,
   "id": "6dff6bb4-5fde-4aed-9d06-8f09d10d78dc",
   "metadata": {},
   "outputs": [],
   "source": [
    "tweets_list = [tweet.data for tweet in tweets]\n",
    "includes_users = [user.data for user in includes['users']]\n",
    "includes_tweets = [tweet.data for tweet in includes['tweets']]"
   ]
  },
  {
   "cell_type": "code",
   "execution_count": null,
   "id": "445e9de8-57b3-4c45-83f4-5317a647c071",
   "metadata": {},
   "outputs": [],
   "source": [
    "with open(f'../data/tweets/{begin[:10]}-{term}-tweets.json', 'w', encoding='utf-8') as f:\n",
    "    json.dump(tweets_list, f)\n",
    "with open(f'../data/tweets/{begin[:10]}-{term}-includes_users.json', 'w', encoding='utf-8') as f:\n",
    "    json.dump(includes_users, f)\n",
    "with open(f'../data/tweets/{begin[:10]}-{term}-includes_tweets.json', 'w', encoding='utf-8') as f:\n",
    "    json.dump(includes_tweets, f)"
   ]
  },
  {
   "cell_type": "code",
   "execution_count": null,
   "id": "88ef4d1f-47dc-4d37-9362-8821bbfc91dd",
   "metadata": {},
   "outputs": [],
   "source": []
  }
 ],
 "metadata": {
  "kernelspec": {
   "display_name": "Python 3 (ipykernel)",
   "language": "python",
   "name": "python3"
  },
  "language_info": {
   "codemirror_mode": {
    "name": "ipython",
    "version": 3
   },
   "file_extension": ".py",
   "mimetype": "text/x-python",
   "name": "python",
   "nbconvert_exporter": "python",
   "pygments_lexer": "ipython3",
   "version": "3.10.6"
  }
 },
 "nbformat": 4,
 "nbformat_minor": 5
}
