{
 "cells": [
  {
   "cell_type": "code",
   "execution_count": 1,
   "id": "148ff2a9-aa33-40f7-8466-0d2da4de5870",
   "metadata": {},
   "outputs": [],
   "source": [
    "import tweepy as tw\n",
    "from config import *\n",
    "from modules.utils import *\n",
    "from modules.search import Search\n",
    "import pandas as pd"
   ]
  },
  {
   "cell_type": "code",
   "execution_count": 2,
   "id": "e66f0a9b-425d-4be5-b6a6-deca5322cb2a",
   "metadata": {},
   "outputs": [],
   "source": [
    "search = Search(API_KEY, API_SECRET, ACCESS_TOKEN, ACCESS_TOKEN_SECRET, BEARER_TOKEN, SANDBOX_LABEL)"
   ]
  },
  {
   "cell_type": "code",
   "execution_count": 3,
   "id": "481cc774-321e-4704-bcd6-0d42fec98b0f",
   "metadata": {},
   "outputs": [],
   "source": [
    "tts = search._archive_api2('#RingsOfPower', lang='pt', since='2022-10-6 00:00', until='2022-10-07 17:00')"
   ]
  },
  {
   "cell_type": "code",
   "execution_count": 4,
   "id": "14fd9e99-dd71-4bd2-933b-3e2ffd232de6",
   "metadata": {},
   "outputs": [
    {
     "data": {
      "text/plain": [
       "'This collection contains 2 tweets. Extraction method: archive_apiV2.'"
      ]
     },
     "execution_count": 4,
     "metadata": {},
     "output_type": "execute_result"
    }
   ],
   "source": [
    "tts._info"
   ]
  },
  {
   "cell_type": "code",
   "execution_count": null,
   "id": "cfde29bb-b723-4405-a090-b524f987aa91",
   "metadata": {},
   "outputs": [],
   "source": [
    "tweets, includes = tts.get_tweets_dict()"
   ]
  },
  {
   "cell_type": "code",
   "execution_count": null,
   "id": "50f400f5-910f-4929-9ffd-39f75015b508",
   "metadata": {},
   "outputs": [],
   "source": [
    "len(tweets)"
   ]
  },
  {
   "cell_type": "code",
   "execution_count": null,
   "id": "2bd6abf3-c786-472c-aebc-b76b5b2019d3",
   "metadata": {},
   "outputs": [],
   "source": []
  },
  {
   "cell_type": "code",
   "execution_count": null,
   "id": "d53274ff-7358-4c27-92ee-a58e707d9b04",
   "metadata": {},
   "outputs": [],
   "source": []
  },
  {
   "cell_type": "code",
   "execution_count": null,
   "id": "22439764-cef9-4407-b25b-26355fcf8e64",
   "metadata": {},
   "outputs": [],
   "source": []
  },
  {
   "cell_type": "code",
   "execution_count": null,
   "id": "47c0dc81-0f1b-40a8-b68b-446fe36159f9",
   "metadata": {},
   "outputs": [],
   "source": []
  },
  {
   "cell_type": "code",
   "execution_count": null,
   "id": "25456ab9-5d83-446f-90e8-6315d5229ebf",
   "metadata": {},
   "outputs": [],
   "source": []
  },
  {
   "cell_type": "code",
   "execution_count": null,
   "id": "1c0de26c-74fa-43db-b12d-5fd7427ebf9b",
   "metadata": {},
   "outputs": [],
   "source": []
  },
  {
   "cell_type": "code",
   "execution_count": null,
   "id": "57b9b63c-5405-452f-aac1-a290c1b6faf3",
   "metadata": {},
   "outputs": [],
   "source": [
    "tweets_recent = search._recent('#HouseOfTheDragonEp6', amount=1000)"
   ]
  },
  {
   "cell_type": "code",
   "execution_count": null,
   "id": "3aefa722-c790-4f9b-b5c4-eb76c13cd499",
   "metadata": {},
   "outputs": [],
   "source": [
    "print(tweets_recent._info)"
   ]
  },
  {
   "cell_type": "code",
   "execution_count": null,
   "id": "01b57555-92ba-4022-b42e-e31a9587eb4a",
   "metadata": {},
   "outputs": [],
   "source": [
    "df_recent = tweets_recent.get_dataframe()\n",
    "df_recent.shape"
   ]
  },
  {
   "cell_type": "code",
   "execution_count": null,
   "id": "cfb4fba8-b1ee-471b-b2ba-219883d2d87a",
   "metadata": {},
   "outputs": [],
   "source": [
    "df_recent.query('is_reply==True')"
   ]
  },
  {
   "cell_type": "code",
   "execution_count": null,
   "id": "fa97a19f-aa68-4a25-b73d-daac00333637",
   "metadata": {},
   "outputs": [],
   "source": [
    "rt = {}\n",
    "\n",
    "for tweet in tweets_recent.get_tweets_dict():\n",
    "    if 'retweeted_status' in tweet.keys() and tweet['retweeted_status']['entities']['user_mentions']:\n",
    "        rt = tweet\n",
    "rt"
   ]
  },
  {
   "cell_type": "code",
   "execution_count": null,
   "id": "a819a894-07a0-4763-9221-6c062de7c4b5",
   "metadata": {},
   "outputs": [],
   "source": [
    "tweets_30_days = search._archive('#HouseOfTheDragonEp6', lang='pt', amount=500)"
   ]
  },
  {
   "cell_type": "code",
   "execution_count": null,
   "id": "0cda4d3a-6da3-4baa-9df0-bcdbc371de00",
   "metadata": {},
   "outputs": [],
   "source": [
    "tweets_30_days._info"
   ]
  },
  {
   "cell_type": "code",
   "execution_count": null,
   "id": "d05a7e30-e25d-42fc-804c-a7751c236db8",
   "metadata": {},
   "outputs": [],
   "source": [
    "df_old = tweets_30_days.get_dataframe()\n",
    "df_old.shape"
   ]
  },
  {
   "cell_type": "code",
   "execution_count": null,
   "id": "9da4a907-a1ab-4be4-9cd1-f324a39d35bd",
   "metadata": {},
   "outputs": [],
   "source": [
    "df_old.query('has_mention==True')"
   ]
  },
  {
   "cell_type": "code",
   "execution_count": null,
   "id": "3e8c65a2-b323-4657-a2d5-8920d128bf58",
   "metadata": {},
   "outputs": [],
   "source": [
    "df_old.sample(15)"
   ]
  },
  {
   "cell_type": "code",
   "execution_count": null,
   "id": "2735f681-ee80-4427-a939-e3be6188be48",
   "metadata": {},
   "outputs": [],
   "source": [
    "rt = {}\n",
    "\n",
    "for tweet in tweets_30_days.get_tweets_dict():\n",
    "    if 'retweeted_status' not in tweet.keys() and not tweet['truncated']:\n",
    "        rt = tweet\n",
    "rt"
   ]
  },
  {
   "cell_type": "code",
   "execution_count": null,
   "id": "a57dedb2-6dbc-4d15-93ea-46de9699e2c2",
   "metadata": {},
   "outputs": [],
   "source": [
    "for tweet in tweets_arquivo.get_tweets_dict():\n",
    "    if tweet['truncated'] == True:\n",
    "        trunc = tweet\n",
    "trunc"
   ]
  },
  {
   "cell_type": "code",
   "execution_count": null,
   "id": "bf333621-d0bd-4fda-9953-301541eaebc2",
   "metadata": {},
   "outputs": [],
   "source": [
    "tt_media= search._archive('Foils for the collection!', amount=10)"
   ]
  },
  {
   "cell_type": "code",
   "execution_count": null,
   "id": "f18ad7af-8a9b-42d5-8907-65ea07e39bd2",
   "metadata": {},
   "outputs": [],
   "source": [
    "tt_media.get_tweets_dict()[1]"
   ]
  },
  {
   "cell_type": "code",
   "execution_count": null,
   "id": "b6060a44-e500-422c-a334-d2e2d1b6fdbd",
   "metadata": {},
   "outputs": [],
   "source": [
    "one_media = search._recent('A direita tá se unindo né', amount=100).get_tweets_dict()"
   ]
  },
  {
   "cell_type": "code",
   "execution_count": null,
   "id": "9c9a2a7b-bf2b-44b0-b106-54a75b551d37",
   "metadata": {},
   "outputs": [],
   "source": [
    "one_media[23]"
   ]
  },
  {
   "cell_type": "code",
   "execution_count": null,
   "id": "f6ecd88f-65cb-4919-b85f-90680f5514c8",
   "metadata": {},
   "outputs": [],
   "source": [
    "tweets_hash = search._archive('#datafolha', amount=200)"
   ]
  },
  {
   "cell_type": "code",
   "execution_count": null,
   "id": "4881f7db-3197-4e4a-af60-2eadd200ea22",
   "metadata": {},
   "outputs": [],
   "source": [
    "tweets_hash.get_tweets_dict()[5]"
   ]
  },
  {
   "cell_type": "code",
   "execution_count": null,
   "id": "4a331a4b-d24c-4d4f-8e17-e7e7104cc91f",
   "metadata": {},
   "outputs": [],
   "source": [
    "tts = search._recent('#datafolha OR datafolha', lang='pt', amount=100000)"
   ]
  },
  {
   "cell_type": "code",
   "execution_count": null,
   "id": "bdcd698f-f942-4c96-800a-234efa698d48",
   "metadata": {},
   "outputs": [],
   "source": [
    "tts._info"
   ]
  },
  {
   "cell_type": "code",
   "execution_count": null,
   "id": "c562184c-32bf-4146-8c00-db280c2480e2",
   "metadata": {},
   "outputs": [],
   "source": [
    "df = tts.get_dataframe()\n",
    "df.sample(10)"
   ]
  },
  {
   "cell_type": "code",
   "execution_count": null,
   "id": "890df7c4-1d69-4f2e-bf60-ddc508df48c7",
   "metadata": {},
   "outputs": [],
   "source": [
    "df.to_csv('#datafolha.csv', index=False)"
   ]
  },
  {
   "cell_type": "code",
   "execution_count": null,
   "id": "bafdf1e8-5d3d-4a1b-8879-bc20b1faef72",
   "metadata": {},
   "outputs": [],
   "source": [
    "rt_df = df[df['retweeted_from'].notnull()]\n",
    "rt_df.shape"
   ]
  },
  {
   "cell_type": "code",
   "execution_count": null,
   "id": "594fbfef-615a-4812-9cd5-ab07642f229e",
   "metadata": {},
   "outputs": [],
   "source": [
    "rt_df.head()"
   ]
  },
  {
   "cell_type": "code",
   "execution_count": null,
   "id": "6bec17bf-6bb0-401e-98aa-772dfe559143",
   "metadata": {},
   "outputs": [],
   "source": [
    "rt_df[['user_info', 'retweeted_from']].sample()"
   ]
  },
  {
   "cell_type": "code",
   "execution_count": null,
   "id": "935fc910-b818-4481-9bfe-42bff66a33b8",
   "metadata": {},
   "outputs": [],
   "source": [
    "rt_match = []\n",
    "\n",
    "for idx, rt in rt_df[['user_info', 'retweeted_from']].iterrows():\n",
    "    rt_match.append((rt['user_info']['screen_name'], rt['retweeted_from']['user']))"
   ]
  },
  {
   "cell_type": "code",
   "execution_count": null,
   "id": "7dbba9f2-ab33-4078-9a41-30d6b0f179a6",
   "metadata": {},
   "outputs": [],
   "source": [
    "rt_match[:5]"
   ]
  },
  {
   "cell_type": "code",
   "execution_count": null,
   "id": "009a8266-61b6-4656-9692-ec085267fd34",
   "metadata": {},
   "outputs": [],
   "source": [
    "df_rt_match = pd.DataFrame(columns=['source', 'target'], data=rt_match)\n",
    "df_rt_match.head()"
   ]
  },
  {
   "cell_type": "code",
   "execution_count": null,
   "id": "537b42fa-833d-41fd-a324-24d434d63f53",
   "metadata": {},
   "outputs": [],
   "source": [
    "df_rt_match.value_counts()"
   ]
  },
  {
   "cell_type": "code",
   "execution_count": null,
   "id": "74c73b68-e5b7-4648-9ffe-027ed8c51401",
   "metadata": {},
   "outputs": [],
   "source": [
    "tts2 = search._30_days('#datafolha OR datafolha', since='2022-09-21', amount=10000)"
   ]
  },
  {
   "cell_type": "code",
   "execution_count": null,
   "id": "0e0b292a-453c-4174-a72e-73f3df5e1f4a",
   "metadata": {},
   "outputs": [],
   "source": [
    "tts2._info"
   ]
  },
  {
   "cell_type": "code",
   "execution_count": null,
   "id": "0f9f7ba5-6fd3-421f-8efb-831692c95955",
   "metadata": {},
   "outputs": [],
   "source": [
    "conv_date_ISO('2022-05-09 15:30')"
   ]
  },
  {
   "cell_type": "code",
   "execution_count": null,
   "id": "f12dca46-4fb5-4d37-afea-5b001bc232b1",
   "metadata": {},
   "outputs": [],
   "source": [
    "import tweepy as tw\n",
    "from config import *\n",
    "from modules.utils import *\n",
    "from modules.search import Search\n",
    "import pandas as pd"
   ]
  },
  {
   "cell_type": "code",
   "execution_count": null,
   "id": "6a8c02bf-d7e0-48d2-a891-f83076fa845d",
   "metadata": {},
   "outputs": [],
   "source": [
    "search = Search(API_KEY, API_SECRET, ACCESS_TOKEN, ACCESS_TOKEN_SECRET, BEARER_TOKEN, SANDBOX_LABEL)"
   ]
  },
  {
   "cell_type": "code",
   "execution_count": null,
   "id": "10991b50-4696-488e-8114-cc1e854d04de",
   "metadata": {},
   "outputs": [],
   "source": [
    "tt_list = search._archive_api2(query='magic the gathering', lang='pt', since='2022-10-02 12:30', until='2022-10-04 23:30', amount=100)"
   ]
  },
  {
   "cell_type": "code",
   "execution_count": null,
   "id": "000ba1fb-0137-4621-b434-bd3a08924156",
   "metadata": {},
   "outputs": [],
   "source": [
    "tt_list._info"
   ]
  },
  {
   "cell_type": "code",
   "execution_count": null,
   "id": "95aa1c0f-6c57-4b13-abaa-e61a5a26ee60",
   "metadata": {},
   "outputs": [],
   "source": [
    "tt_list.get_dataframe().head()"
   ]
  },
  {
   "cell_type": "code",
   "execution_count": null,
   "id": "51ad2210-a5ba-4422-ad5d-02605d3e7e9e",
   "metadata": {},
   "outputs": [],
   "source": [
    "tt_list.get_tweets_dict()[0].data."
   ]
  },
  {
   "cell_type": "code",
   "execution_count": null,
   "id": "ef71c3c1-1e6a-49c8-8117-45a609004b39",
   "metadata": {},
   "outputs": [],
   "source": [
    "client = search.get_client()"
   ]
  },
  {
   "cell_type": "code",
   "execution_count": null,
   "id": "beef4e2a-cc41-49a6-9a54-7460400524a8",
   "metadata": {},
   "outputs": [],
   "source": [
    "resp2 = client.search_recent_tweets(query='magic the gathering', next_token='b26v89c19zqg8o3fpzbmmcou6dzct5lznm2oeyglevibh')"
   ]
  }
 ],
 "metadata": {
  "kernelspec": {
   "display_name": "Python 3 (ipykernel)",
   "language": "python",
   "name": "python3"
  },
  "language_info": {
   "codemirror_mode": {
    "name": "ipython",
    "version": 3
   },
   "file_extension": ".py",
   "mimetype": "text/x-python",
   "name": "python",
   "nbconvert_exporter": "python",
   "pygments_lexer": "ipython3",
   "version": "3.10.4"
  }
 },
 "nbformat": 4,
 "nbformat_minor": 5
}
