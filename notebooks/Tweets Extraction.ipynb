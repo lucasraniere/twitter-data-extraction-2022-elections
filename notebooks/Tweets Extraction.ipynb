{
 "cells": [
  {
   "cell_type": "markdown",
   "id": "9fb92c31-2fcb-426a-a7aa-ecc1f21944cf",
   "metadata": {},
   "source": [
    "# __Tweet Extraction__"
   ]
  },
  {
   "cell_type": "code",
   "execution_count": 1,
   "id": "17052776-4fab-4f42-bd5e-ad95a01a7876",
   "metadata": {
    "execution": {
     "iopub.execute_input": "2022-12-09T15:05:06.087207Z",
     "iopub.status.busy": "2022-12-09T15:05:06.086954Z",
     "iopub.status.idle": "2022-12-09T15:05:06.620284Z",
     "shell.execute_reply": "2022-12-09T15:05:06.619695Z",
     "shell.execute_reply.started": "2022-12-09T15:05:06.087188Z"
    },
    "tags": []
   },
   "outputs": [],
   "source": [
    "import sys\n",
    "\n",
    "sys.path.append('../')\n",
    "from modules.search import Search\n",
    "import pandas as pd\n",
    "from config import*"
   ]
  },
  {
   "cell_type": "code",
   "execution_count": 2,
   "id": "12e38a58-b2f6-464d-b7b2-fb73f24e5a84",
   "metadata": {
    "execution": {
     "iopub.execute_input": "2022-12-09T15:05:06.626824Z",
     "iopub.status.busy": "2022-12-09T15:05:06.626462Z",
     "iopub.status.idle": "2022-12-09T15:05:06.629607Z",
     "shell.execute_reply": "2022-12-09T15:05:06.629166Z",
     "shell.execute_reply.started": "2022-12-09T15:05:06.626811Z"
    },
    "tags": []
   },
   "outputs": [],
   "source": [
    "search = Search(API_KEY, API_SECRET, ACCESS_TOKEN, ACCESS_TOKEN_SECRET, BEARER_TOKEN, SANDBOX_LABEL, wait_on_rate_limit=True)"
   ]
  },
  {
   "cell_type": "markdown",
   "id": "19bb75d5-18da-4841-854b-d25511fc79ee",
   "metadata": {},
   "source": [
    "### API V2 Archive"
   ]
  },
  {
   "cell_type": "code",
   "execution_count": null,
   "id": "acb95c46-b254-45d4-806d-d366fc3da77b",
   "metadata": {
    "tags": []
   },
   "outputs": [],
   "source": [
    "days = [\n",
    "    {\n",
    "        'begin': '2022-11-09 00:00',\n",
    "        'ending': '2022-11-09 23:59',\n",
    "        'terms': ['PEC DA TRANSIÇÃO SIM', 'AUXÍLIO 600', 'BOLSONARO ODEIA O POVO', 'Ministério da Defesa']\n",
    "    },\n",
    "    # {\n",
    "    #     'begin': '2022-08-29 00:00',\n",
    "    #     'ending': '2022-08-31 23:59',\n",
    "    #     'terms': ['BOLSONARO ODEIA MULHERES', '#SouMulherEVotoBolsonaro']\n",
    "    # }\n",
    "]"
   ]
  },
  {
   "cell_type": "code",
   "execution_count": null,
   "id": "88849b78-7c40-4795-b21d-7e810978c1a0",
   "metadata": {
    "tags": []
   },
   "outputs": [],
   "source": [
    "for day in days:\n",
    "    date = day['begin']\n",
    "    for term in day['terms']:\n",
    "        print(f'Starting data extraction, term: {term}')\n",
    "        tweets = search._archive_api2_wait_false(query=term, lang='pt', since=day['begin'], until=day['ending'])\n",
    "        print('Generating dataframe...')\n",
    "        df = tweets.get_dataframe()\n",
    "        df.to_csv(f'../data/tweets/{date[:10]}-{term}.csv', index=False)\n",
    "        print(f'Finished term: {term}; Info: {tweets._info}')"
   ]
  },
  {
   "cell_type": "code",
   "execution_count": null,
   "id": "5c347869-491c-4421-a890-19523e2bdefa",
   "metadata": {},
   "outputs": [],
   "source": [
    "df_complete.to_csv('../data/tweets/2022-08-28-#DebateNaBand--incomplete.csv', index=False)"
   ]
  },
  {
   "cell_type": "markdown",
   "id": "40ba3001-f951-4a0c-b02f-2e1760738b2b",
   "metadata": {},
   "source": [
    "## API V2 Recent"
   ]
  },
  {
   "cell_type": "code",
   "execution_count": 5,
   "id": "e8fc2968-9072-4fba-9be2-fc2578ab852d",
   "metadata": {
    "execution": {
     "iopub.execute_input": "2022-12-09T19:31:21.346424Z",
     "iopub.status.busy": "2022-12-09T19:31:21.346113Z",
     "iopub.status.idle": "2022-12-09T19:31:21.349437Z",
     "shell.execute_reply": "2022-12-09T19:31:21.348853Z",
     "shell.execute_reply.started": "2022-12-09T19:31:21.346396Z"
    },
    "tags": []
   },
   "outputs": [],
   "source": [
    "terms = ['BOLSONARO INIMIGO DA EDUCAÇÃO']\n",
    "begin = '2022-12-08 00:00'\n",
    "end = '2022-12-08 23:59'"
   ]
  },
  {
   "cell_type": "code",
   "execution_count": 6,
   "id": "c411da59-2844-4d08-9f8f-0b0591135105",
   "metadata": {
    "execution": {
     "iopub.execute_input": "2022-12-09T19:31:21.677381Z",
     "iopub.status.busy": "2022-12-09T19:31:21.677071Z",
     "iopub.status.idle": "2022-12-09T19:32:20.700384Z",
     "shell.execute_reply": "2022-12-09T19:32:20.699929Z",
     "shell.execute_reply.started": "2022-12-09T19:31:21.677360Z"
    },
    "tags": []
   },
   "outputs": [
    {
     "name": "stdout",
     "output_type": "stream",
     "text": [
      "Extracting tweets containing term: BOLSONARO INIMIGO DA EDUCAÇÃO\n"
     ]
    }
   ],
   "source": [
    "for term in terms:\n",
    "    print(f'Extracting tweets containing term: {term}')\n",
    "    tweets = search._recent_api2(query=term, since=begin, until=end, lang='pt')\n",
    "    df = tweets.get_dataframe()\n",
    "    df.to_csv(f'../data/tweets/{begin[:10]}-{term}.csv', index=False)"
   ]
  },
  {
   "cell_type": "code",
   "execution_count": null,
   "id": "54824b60-a5fc-4ae1-8c5d-6685ca78584e",
   "metadata": {
    "tags": []
   },
   "outputs": [],
   "source": [
    "term = 'O LULA TÁ ELEITO'\n",
    "begin = '2022-11-22 00:00'"
   ]
  },
  {
   "cell_type": "code",
   "execution_count": null,
   "id": "47159eba-4b35-4a68-8566-279739b39ca2",
   "metadata": {
    "tags": []
   },
   "outputs": [],
   "source": [
    "tts = search._recent_api2(query=term, since=begin, until='2022-11-22 23:59', lang='pt')"
   ]
  },
  {
   "cell_type": "code",
   "execution_count": null,
   "id": "c2614b97-9d8c-426d-a583-9e57710a759c",
   "metadata": {
    "tags": []
   },
   "outputs": [],
   "source": [
    "tts._info"
   ]
  },
  {
   "cell_type": "code",
   "execution_count": null,
   "id": "3523001e-2da2-4586-8255-49bc512ac85a",
   "metadata": {
    "tags": []
   },
   "outputs": [],
   "source": [
    "#tweets, includes = tts.get_tweets_dict()"
   ]
  },
  {
   "cell_type": "code",
   "execution_count": null,
   "id": "6eea178d-174b-4af5-80ae-c3fdc7cf297a",
   "metadata": {
    "tags": []
   },
   "outputs": [],
   "source": [
    "df = tts.get_dataframe()\n",
    "df.shape"
   ]
  },
  {
   "cell_type": "code",
   "execution_count": null,
   "id": "91b17f02-20bf-44b2-a7ab-c6c44a60f721",
   "metadata": {
    "tags": []
   },
   "outputs": [],
   "source": [
    "df.head()"
   ]
  },
  {
   "cell_type": "code",
   "execution_count": null,
   "id": "6e866f43-beda-4ac5-b049-ddee90c6370b",
   "metadata": {
    "tags": []
   },
   "outputs": [],
   "source": [
    "df.tail()"
   ]
  },
  {
   "cell_type": "code",
   "execution_count": null,
   "id": "72ef3716-0eb0-4ac3-b2c8-d2d823fe18e4",
   "metadata": {
    "tags": []
   },
   "outputs": [],
   "source": [
    "df.to_csv(f'../data/tweets/{begin[:10]}-{term}.csv', index=False)"
   ]
  },
  {
   "cell_type": "code",
   "execution_count": null,
   "id": "533ab555-082c-445f-a1aa-65f15984df2b",
   "metadata": {
    "tags": []
   },
   "outputs": [],
   "source": [
    "terms_list = ['RENUNCIA BOLSONARO', 'BRAGA NETO NA CADEIA']\n",
    "day = '2022-11-19 00:00'"
   ]
  },
  {
   "cell_type": "code",
   "execution_count": null,
   "id": "84f21fb7-92ad-4038-a7da-c512a747a155",
   "metadata": {
    "tags": []
   },
   "outputs": [],
   "source": [
    "for term in terms_list:\n",
    "    tts = search._recent_api2(query=term, since=day, until='2022-11-19 23:59', lang='pt')\n",
    "    df = tts.get_dataframe()\n",
    "    df.to_csv(f'../data/tweets/{day[:10]}-{term}.csv', index=False)"
   ]
  },
  {
   "cell_type": "code",
   "execution_count": null,
   "id": "1a744d9b-00e2-449d-90c5-5a133ad32ea6",
   "metadata": {},
   "outputs": [],
   "source": [
    "import json"
   ]
  },
  {
   "cell_type": "code",
   "execution_count": null,
   "id": "6dff6bb4-5fde-4aed-9d06-8f09d10d78dc",
   "metadata": {},
   "outputs": [],
   "source": [
    "tweets_list = [tweet.data for tweet in tweets]\n",
    "includes_users = [user.data for user in includes['users']]\n",
    "includes_tweets = [tweet.data for tweet in includes['tweets']]"
   ]
  },
  {
   "cell_type": "code",
   "execution_count": null,
   "id": "445e9de8-57b3-4c45-83f4-5317a647c071",
   "metadata": {},
   "outputs": [],
   "source": [
    "with open(f'../data/tweets/{begin[:10]}-{term}-tweets.json', 'w', encoding='utf-8') as f:\n",
    "    json.dump(tweets_list, f)\n",
    "with open(f'../data/tweets/{begin[:10]}-{term}-includes_users.json', 'w', encoding='utf-8') as f:\n",
    "    json.dump(includes_users, f)\n",
    "with open(f'../data/tweets/{begin[:10]}-{term}-includes_tweets.json', 'w', encoding='utf-8') as f:\n",
    "    json.dump(includes_tweets, f)"
   ]
  },
  {
   "cell_type": "code",
   "execution_count": null,
   "id": "88ef4d1f-47dc-4d37-9362-8821bbfc91dd",
   "metadata": {},
   "outputs": [],
   "source": []
  }
 ],
 "metadata": {
  "kernelspec": {
   "display_name": "Python 3 (ipykernel)",
   "language": "python",
   "name": "python3"
  },
  "language_info": {
   "codemirror_mode": {
    "name": "ipython",
    "version": 3
   },
   "file_extension": ".py",
   "mimetype": "text/x-python",
   "name": "python",
   "nbconvert_exporter": "python",
   "pygments_lexer": "ipython3",
   "version": "3.10.4"
  }
 },
 "nbformat": 4,
 "nbformat_minor": 5
}
