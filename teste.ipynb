{
 "cells": [
  {
   "cell_type": "code",
   "execution_count": 1,
   "id": "148ff2a9-aa33-40f7-8466-0d2da4de5870",
   "metadata": {},
   "outputs": [],
   "source": [
    "import tweepy as tw\n",
    "from config import *\n",
    "from modules.utils import *\n",
    "from modules.search import Search\n",
    "import pandas as pd"
   ]
  },
  {
   "cell_type": "code",
   "execution_count": 2,
   "id": "e66f0a9b-425d-4be5-b6a6-deca5322cb2a",
   "metadata": {},
   "outputs": [],
   "source": [
    "search = Search(API_KEY, API_SECRET, ACCESS_TOKEN, ACCESS_TOKEN_SECRET, BEARER_TOKEN, SANDBOX_LABEL)"
   ]
  },
  {
   "cell_type": "code",
   "execution_count": 3,
   "id": "481cc774-321e-4704-bcd6-0d42fec98b0f",
   "metadata": {},
   "outputs": [],
   "source": [
    "tts = search._archive_api2('#RingsOfPower', lang='pt', since='2022-10-6 00:00', until='2022-10-09 17:00')"
   ]
  },
  {
   "cell_type": "code",
   "execution_count": 4,
   "id": "14fd9e99-dd71-4bd2-933b-3e2ffd232de6",
   "metadata": {},
   "outputs": [
    {
     "data": {
      "text/plain": [
       "'This collection contains 1172 tweets. Extraction method: archive_apiV2.'"
      ]
     },
     "execution_count": 4,
     "metadata": {},
     "output_type": "execute_result"
    }
   ],
   "source": [
    "tts._info"
   ]
  },
  {
   "cell_type": "code",
   "execution_count": 5,
   "id": "cfde29bb-b723-4405-a090-b524f987aa91",
   "metadata": {},
   "outputs": [],
   "source": [
    "tweets, includes = tts.get_tweets_dict()"
   ]
  },
  {
   "cell_type": "code",
   "execution_count": 6,
   "id": "65f2af42-4caf-468e-b7c4-f0e192f9fcdc",
   "metadata": {},
   "outputs": [],
   "source": [
    "df = tts.get_dataframe()"
   ]
  },
  {
   "cell_type": "code",
   "execution_count": 19,
   "id": "f219a436-5ce0-462c-b129-9310fa006ffa",
   "metadata": {},
   "outputs": [
    {
     "data": {
      "text/plain": [
       "{'text': 'RT @ErrantePotato: Sério? Vai me falar de figurino? O figurino ficou perfeito mano, honrou todo figurino da trilogia, e me taca essa a vão…',\n",
       " 'author_id': '1152293665294958592',\n",
       " 'edit_history_tweet_ids': ['1578836717968453632'],\n",
       " 'referenced_tweets': [{'type': 'retweeted', 'id': '1578836569406210048'}],\n",
       " 'created_at': '2022-10-08T19:56:21.000Z',\n",
       " 'entities': {'mentions': [{'start': 3,\n",
       "    'end': 17,\n",
       "    'username': 'ErrantePotato',\n",
       "    'id': '1216405838614671360'}]},\n",
       " 'source': 'Poop retweet v1',\n",
       " 'conversation_id': '1578836717968453632',\n",
       " 'id': '1578836717968453632',\n",
       " 'public_metrics': {'retweet_count': 1,\n",
       "  'reply_count': 0,\n",
       "  'like_count': 0,\n",
       "  'quote_count': 0}}"
      ]
     },
     "execution_count": 19,
     "metadata": {},
     "output_type": "execute_result"
    }
   ],
   "source": [
    "tweets[194].data"
   ]
  },
  {
   "cell_type": "code",
   "execution_count": 22,
   "id": "753de2dc-6749-4733-94e5-75b05d14ee0a",
   "metadata": {},
   "outputs": [
    {
     "data": {
      "text/plain": [
       "'Sério? Vai me falar de figurino? O figurino ficou perfeito mano, honrou todo figurino da trilogia, e me taca essa a vão pra bosta  né. #RingsofPower  @lordoftherings https://t.co/A8DFHbfa33'"
      ]
     },
     "execution_count": 22,
     "metadata": {},
     "output_type": "execute_result"
    }
   ],
   "source": [
    "df.iloc[194].tweet_content"
   ]
  },
  {
   "cell_type": "code",
   "execution_count": 17,
   "id": "b985657f-2eb9-4668-bd04-0f3a3abe627e",
   "metadata": {},
   "outputs": [
    {
     "data": {
      "text/html": [
       "<div>\n",
       "<style scoped>\n",
       "    .dataframe tbody tr th:only-of-type {\n",
       "        vertical-align: middle;\n",
       "    }\n",
       "\n",
       "    .dataframe tbody tr th {\n",
       "        vertical-align: top;\n",
       "    }\n",
       "\n",
       "    .dataframe thead th {\n",
       "        text-align: right;\n",
       "    }\n",
       "</style>\n",
       "<table border=\"1\" class=\"dataframe\">\n",
       "  <thead>\n",
       "    <tr style=\"text-align: right;\">\n",
       "      <th></th>\n",
       "      <th>created_at</th>\n",
       "      <th>tweet_id</th>\n",
       "      <th>tweet_content</th>\n",
       "      <th>user</th>\n",
       "      <th>user_info</th>\n",
       "      <th>has_mention</th>\n",
       "      <th>mentions</th>\n",
       "      <th>is_reply</th>\n",
       "      <th>is_quote</th>\n",
       "      <th>is_retweet</th>\n",
       "      <th>referenced_user</th>\n",
       "      <th>referenced_tweet</th>\n",
       "      <th>hashtags</th>\n",
       "    </tr>\n",
       "  </thead>\n",
       "  <tbody>\n",
       "    <tr>\n",
       "      <th>143</th>\n",
       "      <td>2022-10-08 23:28:08</td>\n",
       "      <td>1578890013231951872</td>\n",
       "      <td>Quem se sensibilizar e poder ajudar, ele disse...</td>\n",
       "      <td>iamnaille</td>\n",
       "      <td>{'id': 1101057709, 'name': 'Natasha da vagaban...</td>\n",
       "      <td>True</td>\n",
       "      <td>[{'id': '17220817', 'username': 'PrimeVideo'}]</td>\n",
       "      <td>False</td>\n",
       "      <td>False</td>\n",
       "      <td>True</td>\n",
       "      <td>{'id': 1467954830085865478, 'name': 'Ricardo A...</td>\n",
       "      <td>{'created_at': '2022-10-07 15:51:07', 'id': 15...</td>\n",
       "      <td>[#TheRingsOfPower, #RingsofPower, #RingsOfPowe...</td>\n",
       "    </tr>\n",
       "    <tr>\n",
       "      <th>194</th>\n",
       "      <td>2022-10-08 19:56:21</td>\n",
       "      <td>1578836717968453632</td>\n",
       "      <td>Sério? Vai me falar de figurino? O figurino fi...</td>\n",
       "      <td>BotDoCoco</td>\n",
       "      <td>{'id': 1152293665294958592, 'name': 'Cocô Bot'...</td>\n",
       "      <td>True</td>\n",
       "      <td>[{'id': '1162346480063193088', 'username': 'lo...</td>\n",
       "      <td>False</td>\n",
       "      <td>False</td>\n",
       "      <td>True</td>\n",
       "      <td>{'id': 1216405838614671360, 'name': 'ρσтαтσ_єя...</td>\n",
       "      <td>{'created_at': '2022-10-08 19:55:46', 'id': 15...</td>\n",
       "      <td>[#RingsofPower]</td>\n",
       "    </tr>\n",
       "    <tr>\n",
       "      <th>259</th>\n",
       "      <td>2022-10-08 17:18:36</td>\n",
       "      <td>1578797016700051456</td>\n",
       "      <td>Quem se sensibilizar e poder ajudar, ele disse...</td>\n",
       "      <td>FaelZolanski</td>\n",
       "      <td>{'id': 902952576940998656, 'name': 'Rafael Zol...</td>\n",
       "      <td>True</td>\n",
       "      <td>[{'id': '17220817', 'username': 'PrimeVideo'}]</td>\n",
       "      <td>False</td>\n",
       "      <td>False</td>\n",
       "      <td>True</td>\n",
       "      <td>{'id': 1467954830085865478, 'name': 'Ricardo A...</td>\n",
       "      <td>{'created_at': '2022-10-07 15:51:07', 'id': 15...</td>\n",
       "      <td>[#TheRingsOfPower, #RingsofPower, #RingsOfPowe...</td>\n",
       "    </tr>\n",
       "    <tr>\n",
       "      <th>289</th>\n",
       "      <td>2022-10-08 15:55:40</td>\n",
       "      <td>1578776146669600768</td>\n",
       "      <td>Quem se sensibilizar e poder ajudar, ele disse...</td>\n",
       "      <td>rscxz_</td>\n",
       "      <td>{'id': 1347226990236094464, 'name': '𝓼𝓬𝓾𝓲𝓼𝓼𝓲𝓪𝓽...</td>\n",
       "      <td>True</td>\n",
       "      <td>[{'id': '17220817', 'username': 'PrimeVideo'}]</td>\n",
       "      <td>False</td>\n",
       "      <td>False</td>\n",
       "      <td>True</td>\n",
       "      <td>{'id': 1467954830085865478, 'name': 'Ricardo A...</td>\n",
       "      <td>{'created_at': '2022-10-07 15:51:07', 'id': 15...</td>\n",
       "      <td>[#TheRingsOfPower, #RingsofPower, #RingsOfPowe...</td>\n",
       "    </tr>\n",
       "    <tr>\n",
       "      <th>753</th>\n",
       "      <td>2022-10-07 16:59:26</td>\n",
       "      <td>1578429808328855552</td>\n",
       "      <td>Quem se sensibilizar e poder ajudar, ele disse...</td>\n",
       "      <td>wingless_balrog</td>\n",
       "      <td>{'id': 223373904, 'name': 'Balrog sem asa', 'd...</td>\n",
       "      <td>True</td>\n",
       "      <td>[{'id': '17220817', 'username': 'PrimeVideo'}]</td>\n",
       "      <td>False</td>\n",
       "      <td>False</td>\n",
       "      <td>True</td>\n",
       "      <td>{'id': 1467954830085865478, 'name': 'Ricardo A...</td>\n",
       "      <td>{'created_at': '2022-10-07 15:51:07', 'id': 15...</td>\n",
       "      <td>[#TheRingsOfPower, #RingsofPower, #RingsOfPowe...</td>\n",
       "    </tr>\n",
       "    <tr>\n",
       "      <th>773</th>\n",
       "      <td>2022-10-07 16:21:11</td>\n",
       "      <td>1578420181927268353</td>\n",
       "      <td>Quem se sensibilizar e poder ajudar, ele disse...</td>\n",
       "      <td>maxxie_1227</td>\n",
       "      <td>{'id': 1569329102179500033, 'name': 'max', 'de...</td>\n",
       "      <td>True</td>\n",
       "      <td>[{'id': '17220817', 'username': 'PrimeVideo'}]</td>\n",
       "      <td>False</td>\n",
       "      <td>False</td>\n",
       "      <td>True</td>\n",
       "      <td>{'id': 1467954830085865478, 'name': 'Ricardo A...</td>\n",
       "      <td>{'created_at': '2022-10-07 15:51:07', 'id': 15...</td>\n",
       "      <td>[#TheRingsOfPower, #RingsofPower, #RingsOfPowe...</td>\n",
       "    </tr>\n",
       "    <tr>\n",
       "      <th>786</th>\n",
       "      <td>2022-10-07 15:59:49</td>\n",
       "      <td>1578414804053921794</td>\n",
       "      <td>Quem se sensibilizar e poder ajudar, ele disse...</td>\n",
       "      <td>mael_oro</td>\n",
       "      <td>{'id': 1542526167135096833, 'name': 'Dio | ceo...</td>\n",
       "      <td>True</td>\n",
       "      <td>[{'id': '17220817', 'username': 'PrimeVideo'}]</td>\n",
       "      <td>False</td>\n",
       "      <td>False</td>\n",
       "      <td>True</td>\n",
       "      <td>{'id': 1467954830085865478, 'name': 'Ricardo A...</td>\n",
       "      <td>{'created_at': '2022-10-07 15:51:07', 'id': 15...</td>\n",
       "      <td>[#TheRingsOfPower, #RingsofPower, #RingsOfPowe...</td>\n",
       "    </tr>\n",
       "    <tr>\n",
       "      <th>871</th>\n",
       "      <td>2022-10-07 10:13:26</td>\n",
       "      <td>1578327634786025473</td>\n",
       "      <td>👁️🔥\\n\\nO sétimo e penúltimo episódio de 'O Sen...</td>\n",
       "      <td>mmarchesim_</td>\n",
       "      <td>{'id': 602443413, 'name': '+C | Eddie Munson S...</td>\n",
       "      <td>True</td>\n",
       "      <td>[{'id': '895261812370939907', 'username': 'Pri...</td>\n",
       "      <td>False</td>\n",
       "      <td>False</td>\n",
       "      <td>True</td>\n",
       "      <td>{'id': 1051812038954102784, 'name': 'The Geek'...</td>\n",
       "      <td>{'created_at': '2022-10-07 03:38:57', 'id': 15...</td>\n",
       "      <td>[#TheRingsOfPower, #RingsOfPower]</td>\n",
       "    </tr>\n",
       "    <tr>\n",
       "      <th>1003</th>\n",
       "      <td>2022-10-07 03:31:34</td>\n",
       "      <td>1578226499311673344</td>\n",
       "      <td>Petição para o @bearmccreary colocar um rock o...</td>\n",
       "      <td>maxxie_1227</td>\n",
       "      <td>{'id': 1569329102179500033, 'name': 'max', 'de...</td>\n",
       "      <td>True</td>\n",
       "      <td>[{'id': '53513002', 'username': 'bearmccreary'}]</td>\n",
       "      <td>False</td>\n",
       "      <td>False</td>\n",
       "      <td>True</td>\n",
       "      <td>{'id': 1467954830085865478, 'name': 'Ricardo A...</td>\n",
       "      <td>{'created_at': '2022-10-06 18:42:13', 'id': 15...</td>\n",
       "      <td>[#TheRingsOfPower, #sauron, #LOTRROP, #Ringsof...</td>\n",
       "    </tr>\n",
       "    <tr>\n",
       "      <th>1141</th>\n",
       "      <td>2022-10-06 18:53:35</td>\n",
       "      <td>1578096147629232128</td>\n",
       "      <td>Petição para o @bearmccreary colocar um rock o...</td>\n",
       "      <td>saturnozzy</td>\n",
       "      <td>{'id': 1075107431284387841, 'name': '𝓨𝓪𝓼𝓶𝓲𝓶 ☾'...</td>\n",
       "      <td>True</td>\n",
       "      <td>[{'id': '53513002', 'username': 'bearmccreary'}]</td>\n",
       "      <td>False</td>\n",
       "      <td>False</td>\n",
       "      <td>True</td>\n",
       "      <td>{'id': 1467954830085865478, 'name': 'Ricardo A...</td>\n",
       "      <td>{'created_at': '2022-10-06 18:42:13', 'id': 15...</td>\n",
       "      <td>[#TheRingsOfPower, #sauron, #LOTRROP, #Ringsof...</td>\n",
       "    </tr>\n",
       "    <tr>\n",
       "      <th>1142</th>\n",
       "      <td>2022-10-06 18:46:27</td>\n",
       "      <td>1578094352630304768</td>\n",
       "      <td>Petição para o @bearmccreary colocar um rock o...</td>\n",
       "      <td>MaryRocker18</td>\n",
       "      <td>{'id': 129274373, 'name': 'Andréa Glorfindel d...</td>\n",
       "      <td>True</td>\n",
       "      <td>[{'id': '53513002', 'username': 'bearmccreary'}]</td>\n",
       "      <td>False</td>\n",
       "      <td>False</td>\n",
       "      <td>True</td>\n",
       "      <td>{'id': 1467954830085865478, 'name': 'Ricardo A...</td>\n",
       "      <td>{'created_at': '2022-10-06 18:42:13', 'id': 15...</td>\n",
       "      <td>[#TheRingsOfPower, #sauron, #LOTRROP, #Ringsof...</td>\n",
       "    </tr>\n",
       "    <tr>\n",
       "      <th>1143</th>\n",
       "      <td>2022-10-06 18:45:34</td>\n",
       "      <td>1578094128449085440</td>\n",
       "      <td>Petição para o @bearmccreary colocar um rock o...</td>\n",
       "      <td>mael_oro</td>\n",
       "      <td>{'id': 1542526167135096833, 'name': 'Dio | ceo...</td>\n",
       "      <td>True</td>\n",
       "      <td>[{'id': '53513002', 'username': 'bearmccreary'}]</td>\n",
       "      <td>False</td>\n",
       "      <td>False</td>\n",
       "      <td>True</td>\n",
       "      <td>{'id': 1467954830085865478, 'name': 'Ricardo A...</td>\n",
       "      <td>{'created_at': '2022-10-06 18:42:13', 'id': 15...</td>\n",
       "      <td>[#TheRingsOfPower, #sauron, #LOTRROP, #Ringsof...</td>\n",
       "    </tr>\n",
       "  </tbody>\n",
       "</table>\n",
       "</div>"
      ],
      "text/plain": [
       "               created_at             tweet_id  \\\n",
       "143   2022-10-08 23:28:08  1578890013231951872   \n",
       "194   2022-10-08 19:56:21  1578836717968453632   \n",
       "259   2022-10-08 17:18:36  1578797016700051456   \n",
       "289   2022-10-08 15:55:40  1578776146669600768   \n",
       "753   2022-10-07 16:59:26  1578429808328855552   \n",
       "773   2022-10-07 16:21:11  1578420181927268353   \n",
       "786   2022-10-07 15:59:49  1578414804053921794   \n",
       "871   2022-10-07 10:13:26  1578327634786025473   \n",
       "1003  2022-10-07 03:31:34  1578226499311673344   \n",
       "1141  2022-10-06 18:53:35  1578096147629232128   \n",
       "1142  2022-10-06 18:46:27  1578094352630304768   \n",
       "1143  2022-10-06 18:45:34  1578094128449085440   \n",
       "\n",
       "                                          tweet_content             user  \\\n",
       "143   Quem se sensibilizar e poder ajudar, ele disse...        iamnaille   \n",
       "194   Sério? Vai me falar de figurino? O figurino fi...        BotDoCoco   \n",
       "259   Quem se sensibilizar e poder ajudar, ele disse...     FaelZolanski   \n",
       "289   Quem se sensibilizar e poder ajudar, ele disse...           rscxz_   \n",
       "753   Quem se sensibilizar e poder ajudar, ele disse...  wingless_balrog   \n",
       "773   Quem se sensibilizar e poder ajudar, ele disse...      maxxie_1227   \n",
       "786   Quem se sensibilizar e poder ajudar, ele disse...         mael_oro   \n",
       "871   👁️🔥\\n\\nO sétimo e penúltimo episódio de 'O Sen...      mmarchesim_   \n",
       "1003  Petição para o @bearmccreary colocar um rock o...      maxxie_1227   \n",
       "1141  Petição para o @bearmccreary colocar um rock o...       saturnozzy   \n",
       "1142  Petição para o @bearmccreary colocar um rock o...     MaryRocker18   \n",
       "1143  Petição para o @bearmccreary colocar um rock o...         mael_oro   \n",
       "\n",
       "                                              user_info  has_mention  \\\n",
       "143   {'id': 1101057709, 'name': 'Natasha da vagaban...         True   \n",
       "194   {'id': 1152293665294958592, 'name': 'Cocô Bot'...         True   \n",
       "259   {'id': 902952576940998656, 'name': 'Rafael Zol...         True   \n",
       "289   {'id': 1347226990236094464, 'name': '𝓼𝓬𝓾𝓲𝓼𝓼𝓲𝓪𝓽...         True   \n",
       "753   {'id': 223373904, 'name': 'Balrog sem asa', 'd...         True   \n",
       "773   {'id': 1569329102179500033, 'name': 'max', 'de...         True   \n",
       "786   {'id': 1542526167135096833, 'name': 'Dio | ceo...         True   \n",
       "871   {'id': 602443413, 'name': '+C | Eddie Munson S...         True   \n",
       "1003  {'id': 1569329102179500033, 'name': 'max', 'de...         True   \n",
       "1141  {'id': 1075107431284387841, 'name': '𝓨𝓪𝓼𝓶𝓲𝓶 ☾'...         True   \n",
       "1142  {'id': 129274373, 'name': 'Andréa Glorfindel d...         True   \n",
       "1143  {'id': 1542526167135096833, 'name': 'Dio | ceo...         True   \n",
       "\n",
       "                                               mentions  is_reply  is_quote  \\\n",
       "143      [{'id': '17220817', 'username': 'PrimeVideo'}]     False     False   \n",
       "194   [{'id': '1162346480063193088', 'username': 'lo...     False     False   \n",
       "259      [{'id': '17220817', 'username': 'PrimeVideo'}]     False     False   \n",
       "289      [{'id': '17220817', 'username': 'PrimeVideo'}]     False     False   \n",
       "753      [{'id': '17220817', 'username': 'PrimeVideo'}]     False     False   \n",
       "773      [{'id': '17220817', 'username': 'PrimeVideo'}]     False     False   \n",
       "786      [{'id': '17220817', 'username': 'PrimeVideo'}]     False     False   \n",
       "871   [{'id': '895261812370939907', 'username': 'Pri...     False     False   \n",
       "1003   [{'id': '53513002', 'username': 'bearmccreary'}]     False     False   \n",
       "1141   [{'id': '53513002', 'username': 'bearmccreary'}]     False     False   \n",
       "1142   [{'id': '53513002', 'username': 'bearmccreary'}]     False     False   \n",
       "1143   [{'id': '53513002', 'username': 'bearmccreary'}]     False     False   \n",
       "\n",
       "      is_retweet                                    referenced_user  \\\n",
       "143         True  {'id': 1467954830085865478, 'name': 'Ricardo A...   \n",
       "194         True  {'id': 1216405838614671360, 'name': 'ρσтαтσ_єя...   \n",
       "259         True  {'id': 1467954830085865478, 'name': 'Ricardo A...   \n",
       "289         True  {'id': 1467954830085865478, 'name': 'Ricardo A...   \n",
       "753         True  {'id': 1467954830085865478, 'name': 'Ricardo A...   \n",
       "773         True  {'id': 1467954830085865478, 'name': 'Ricardo A...   \n",
       "786         True  {'id': 1467954830085865478, 'name': 'Ricardo A...   \n",
       "871         True  {'id': 1051812038954102784, 'name': 'The Geek'...   \n",
       "1003        True  {'id': 1467954830085865478, 'name': 'Ricardo A...   \n",
       "1141        True  {'id': 1467954830085865478, 'name': 'Ricardo A...   \n",
       "1142        True  {'id': 1467954830085865478, 'name': 'Ricardo A...   \n",
       "1143        True  {'id': 1467954830085865478, 'name': 'Ricardo A...   \n",
       "\n",
       "                                       referenced_tweet  \\\n",
       "143   {'created_at': '2022-10-07 15:51:07', 'id': 15...   \n",
       "194   {'created_at': '2022-10-08 19:55:46', 'id': 15...   \n",
       "259   {'created_at': '2022-10-07 15:51:07', 'id': 15...   \n",
       "289   {'created_at': '2022-10-07 15:51:07', 'id': 15...   \n",
       "753   {'created_at': '2022-10-07 15:51:07', 'id': 15...   \n",
       "773   {'created_at': '2022-10-07 15:51:07', 'id': 15...   \n",
       "786   {'created_at': '2022-10-07 15:51:07', 'id': 15...   \n",
       "871   {'created_at': '2022-10-07 03:38:57', 'id': 15...   \n",
       "1003  {'created_at': '2022-10-06 18:42:13', 'id': 15...   \n",
       "1141  {'created_at': '2022-10-06 18:42:13', 'id': 15...   \n",
       "1142  {'created_at': '2022-10-06 18:42:13', 'id': 15...   \n",
       "1143  {'created_at': '2022-10-06 18:42:13', 'id': 15...   \n",
       "\n",
       "                                               hashtags  \n",
       "143   [#TheRingsOfPower, #RingsofPower, #RingsOfPowe...  \n",
       "194                                     [#RingsofPower]  \n",
       "259   [#TheRingsOfPower, #RingsofPower, #RingsOfPowe...  \n",
       "289   [#TheRingsOfPower, #RingsofPower, #RingsOfPowe...  \n",
       "753   [#TheRingsOfPower, #RingsofPower, #RingsOfPowe...  \n",
       "773   [#TheRingsOfPower, #RingsofPower, #RingsOfPowe...  \n",
       "786   [#TheRingsOfPower, #RingsofPower, #RingsOfPowe...  \n",
       "871                   [#TheRingsOfPower, #RingsOfPower]  \n",
       "1003  [#TheRingsOfPower, #sauron, #LOTRROP, #Ringsof...  \n",
       "1141  [#TheRingsOfPower, #sauron, #LOTRROP, #Ringsof...  \n",
       "1142  [#TheRingsOfPower, #sauron, #LOTRROP, #Ringsof...  \n",
       "1143  [#TheRingsOfPower, #sauron, #LOTRROP, #Ringsof...  "
      ]
     },
     "execution_count": 17,
     "metadata": {},
     "output_type": "execute_result"
    }
   ],
   "source": [
    "df.query('has_mention == True and is_retweet == True')"
   ]
  },
  {
   "cell_type": "code",
   "execution_count": 7,
   "id": "0d064191-05f4-4c3e-aeb7-f0c4026cb98b",
   "metadata": {},
   "outputs": [
    {
     "data": {
      "text/plain": [
       "{'id': '158199633',\n",
       " 'public_metrics': {'followers_count': 674,\n",
       "  'following_count': 1454,\n",
       "  'tweet_count': 64269,\n",
       "  'listed_count': 32},\n",
       " 'name': 'lavaboy 🌋',\n",
       " 'username': 'manassesvieira_',\n",
       " 'created_at': '2010-06-22T01:45:04.000Z',\n",
       " 'description': 'cada dia mais triste'}"
      ]
     },
     "execution_count": 7,
     "metadata": {},
     "output_type": "execute_result"
    }
   ],
   "source": [
    "includes['users'][0].data"
   ]
  },
  {
   "cell_type": "code",
   "execution_count": 8,
   "id": "232b315f-986d-44d5-a561-2e212748dddf",
   "metadata": {},
   "outputs": [
    {
     "data": {
      "text/plain": [
       "{'text': 'RT @ErrantePotato: Sério? Vai me falar de figurino? O figurino ficou perfeito mano, honrou todo figurino da trilogia, e me taca essa a vão…',\n",
       " 'author_id': '1152293665294958592',\n",
       " 'edit_history_tweet_ids': ['1578836717968453632'],\n",
       " 'referenced_tweets': [{'type': 'retweeted', 'id': '1578836569406210048'}],\n",
       " 'created_at': '2022-10-08T19:56:21.000Z',\n",
       " 'entities': {'mentions': [{'start': 3,\n",
       "    'end': 17,\n",
       "    'username': 'ErrantePotato',\n",
       "    'id': '1216405838614671360'}]},\n",
       " 'source': 'Poop retweet v1',\n",
       " 'conversation_id': '1578836717968453632',\n",
       " 'id': '1578836717968453632',\n",
       " 'public_metrics': {'retweet_count': 1,\n",
       "  'reply_count': 0,\n",
       "  'like_count': 0,\n",
       "  'quote_count': 0}}"
      ]
     },
     "execution_count": 8,
     "metadata": {},
     "output_type": "execute_result"
    }
   ],
   "source": [
    "tweets[194].data"
   ]
  },
  {
   "cell_type": "code",
   "execution_count": 9,
   "id": "775b4f38-2b03-466f-90b3-3cb92e30be53",
   "metadata": {},
   "outputs": [
    {
     "data": {
      "text/plain": [
       "{'id': 1216405838614671360,\n",
       " 'name': 'ρσтαтσ_єяяαηтє',\n",
       " 'username': 'ErrantePotato',\n",
       " 'description': 'O inutilismo em forma humana, e a desgraça em forma de ser vivo.',\n",
       " 'created_at': '2020-01-12 17:05:43',\n",
       " 'public_metrics': {'followers_count': 39,\n",
       "  'following_count': 591,\n",
       "  'tweet_count': 9858,\n",
       "  'listed_count': 0}}"
      ]
     },
     "execution_count": 9,
     "metadata": {},
     "output_type": "execute_result"
    }
   ],
   "source": [
    "df.iloc[194]['referenced_user']"
   ]
  },
  {
   "cell_type": "code",
   "execution_count": 10,
   "id": "a337d367-6486-4deb-a1c4-f3343643b137",
   "metadata": {},
   "outputs": [
    {
     "data": {
      "text/plain": [
       "created_at                                        2022-10-09 19:56:33\n",
       "tweet_id                                          1579199157323325440\n",
       "tweet_content       Eu assistindo #RingsOfPower https://t.co/r6T6h...\n",
       "user                                                  manassesvieira_\n",
       "user_info           {'id': 158199633, 'name': 'lavaboy 🌋', 'descri...\n",
       "has_mention                                                     False\n",
       "mentions                                                         None\n",
       "is_reply                                                        False\n",
       "is_quote                                                        False\n",
       "is_retweet                                                       True\n",
       "referenced_user     {'id': 4196683427, 'name': 'Coluna braço joelh...\n",
       "referenced_tweet    {'created_at': '2022-10-01 23:33:42', 'id': 15...\n",
       "hashtags                                              [#RingsOfPower]\n",
       "Name: 0, dtype: object"
      ]
     },
     "execution_count": 10,
     "metadata": {},
     "output_type": "execute_result"
    }
   ],
   "source": [
    "df.iloc[0]"
   ]
  },
  {
   "cell_type": "code",
   "execution_count": 37,
   "id": "b9fe47d5-94d9-4193-b45e-e1158aa8edef",
   "metadata": {},
   "outputs": [
    {
     "data": {
      "text/plain": [
       "{'author_id': '158199633',\n",
       " 'entities': {'hashtags': [{'start': 33, 'end': 46, 'tag': 'RingsOfPower'}],\n",
       "  'mentions': [{'start': 3,\n",
       "    'end': 17,\n",
       "    'username': 'brendavarejao',\n",
       "    'id': '4196683427'}],\n",
       "  'annotations': [{'start': 34,\n",
       "    'end': 45,\n",
       "    'probability': 0.8206,\n",
       "    'type': 'Other',\n",
       "    'normalized_text': 'RingsOfPower'}],\n",
       "  'urls': [{'start': 47,\n",
       "    'end': 70,\n",
       "    'url': 'https://t.co/r6T6hTeSIy',\n",
       "    'expanded_url': 'https://twitter.com/brendavarejao/status/1576354699678126080/photo/1',\n",
       "    'display_url': 'pic.twitter.com/r6T6hTeSIy',\n",
       "    'media_key': '3_1576354692493352960'}]},\n",
       " 'source': 'Twitter for Android',\n",
       " 'created_at': '2022-10-09T19:56:33.000Z',\n",
       " 'referenced_tweets': [{'type': 'retweeted', 'id': '1576354699678126080'}],\n",
       " 'id': '1579199157323325440',\n",
       " 'edit_history_tweet_ids': ['1579199157323325440'],\n",
       " 'text': 'RT @brendavarejao: Eu assistindo #RingsOfPower https://t.co/r6T6hTeSIy',\n",
       " 'public_metrics': {'retweet_count': 10,\n",
       "  'reply_count': 0,\n",
       "  'like_count': 0,\n",
       "  'quote_count': 0},\n",
       " 'conversation_id': '1579199157323325440',\n",
       " 'attachments': {'media_keys': ['3_1576354692493352960']}}"
      ]
     },
     "execution_count": 37,
     "metadata": {},
     "output_type": "execute_result"
    }
   ],
   "source": [
    "tweets[0].data"
   ]
  },
  {
   "cell_type": "code",
   "execution_count": 42,
   "id": "4a3bdf36-6b14-46d8-8150-d52101b48a68",
   "metadata": {},
   "outputs": [],
   "source": [
    "tt_sample = None\n",
    "ref_types = []\n",
    "\n",
    "for tweet in tweets:\n",
    "    if 'referenced_tweets' in tweet.data.keys() and len(tweet.data['referenced_tweets'])>1:\n",
    "        tt_sample=tweet\n",
    "        \n",
    "tt_sample"
   ]
  },
  {
   "cell_type": "code",
   "execution_count": 51,
   "id": "2fd652b5-855b-4fa0-aef8-a0fce0ca2253",
   "metadata": {},
   "outputs": [
    {
     "data": {
      "text/plain": [
       "{'author_id': '1453052758840467461',\n",
       " 'source': 'Twitter for Android',\n",
       " 'entities': {'mentions': [{'start': 275,\n",
       "    'end': 279,\n",
       "    'username': 'THR',\n",
       "    'id': '17446621'}],\n",
       "  'annotations': [{'start': 98,\n",
       "    'end': 102,\n",
       "    'probability': 0.799,\n",
       "    'type': 'Person',\n",
       "    'normalized_text': 'McKay'}],\n",
       "  'urls': [{'start': 280,\n",
       "    'end': 303,\n",
       "    'url': 'https://t.co/XEOH2Xcm74',\n",
       "    'expanded_url': 'https://twitter.com/LOTRROPBr/status/1577670057076965377/photo/1',\n",
       "    'display_url': 'pic.twitter.com/XEOH2Xcm74',\n",
       "    'media_key': '3_1577670048482791424'},\n",
       "   {'start': 280,\n",
       "    'end': 303,\n",
       "    'url': 'https://t.co/XEOH2Xcm74',\n",
       "    'expanded_url': 'https://twitter.com/LOTRROPBr/status/1577670057076965377/photo/1',\n",
       "    'display_url': 'pic.twitter.com/XEOH2Xcm74',\n",
       "    'media_key': '3_1577670054199627776'}]},\n",
       " 'created_at': '2022-10-05T14:40:27.000Z',\n",
       " 'id': '1577670057076965377',\n",
       " 'edit_history_tweet_ids': ['1577670057076965377'],\n",
       " 'text': '\"Os episódios da primeira temporada, acredita a equipe, melhoram à medida que a temporada avança. McKay diz que o objetivo da segunda temporada – que silenciosamente começou a ser filmada em 03/10 – é ser \\'maior e melhor\\' em \\'todos os níveis… por uma ordem de magnitude\\'.\" – @THR https://t.co/XEOH2Xcm74',\n",
       " 'public_metrics': {'retweet_count': 41,\n",
       "  'reply_count': 14,\n",
       "  'like_count': 557,\n",
       "  'quote_count': 11},\n",
       " 'conversation_id': '1577670057076965377',\n",
       " 'attachments': {'media_keys': ['3_1577670048482791424',\n",
       "   '3_1577670054199627776']}}"
      ]
     },
     "execution_count": 51,
     "metadata": {},
     "output_type": "execute_result"
    }
   ],
   "source": [
    "tweet.data"
   ]
  },
  {
   "cell_type": "code",
   "execution_count": 45,
   "id": "cdb22e97-5c5c-4810-8d3e-d9064339fb37",
   "metadata": {},
   "outputs": [
    {
     "data": {
      "text/plain": [
       "{'author_id': '1453052758840467461',\n",
       " 'source': 'Twitter for Android',\n",
       " 'entities': {'mentions': [{'start': 275,\n",
       "    'end': 279,\n",
       "    'username': 'THR',\n",
       "    'id': '17446621'}],\n",
       "  'annotations': [{'start': 98,\n",
       "    'end': 102,\n",
       "    'probability': 0.799,\n",
       "    'type': 'Person',\n",
       "    'normalized_text': 'McKay'}],\n",
       "  'urls': [{'start': 280,\n",
       "    'end': 303,\n",
       "    'url': 'https://t.co/XEOH2Xcm74',\n",
       "    'expanded_url': 'https://twitter.com/LOTRROPBr/status/1577670057076965377/photo/1',\n",
       "    'display_url': 'pic.twitter.com/XEOH2Xcm74',\n",
       "    'media_key': '3_1577670048482791424'},\n",
       "   {'start': 280,\n",
       "    'end': 303,\n",
       "    'url': 'https://t.co/XEOH2Xcm74',\n",
       "    'expanded_url': 'https://twitter.com/LOTRROPBr/status/1577670057076965377/photo/1',\n",
       "    'display_url': 'pic.twitter.com/XEOH2Xcm74',\n",
       "    'media_key': '3_1577670054199627776'}]},\n",
       " 'created_at': '2022-10-05T14:40:27.000Z',\n",
       " 'id': '1577670057076965377',\n",
       " 'edit_history_tweet_ids': ['1577670057076965377'],\n",
       " 'text': '\"Os episódios da primeira temporada, acredita a equipe, melhoram à medida que a temporada avança. McKay diz que o objetivo da segunda temporada – que silenciosamente começou a ser filmada em 03/10 – é ser \\'maior e melhor\\' em \\'todos os níveis… por uma ordem de magnitude\\'.\" – @THR https://t.co/XEOH2Xcm74',\n",
       " 'public_metrics': {'retweet_count': 41,\n",
       "  'reply_count': 14,\n",
       "  'like_count': 557,\n",
       "  'quote_count': 11},\n",
       " 'conversation_id': '1577670057076965377',\n",
       " 'attachments': {'media_keys': ['3_1577670048482791424',\n",
       "   '3_1577670054199627776']}}"
      ]
     },
     "execution_count": 45,
     "metadata": {},
     "output_type": "execute_result"
    }
   ],
   "source": [
    "tt=None\n",
    "for tweet in includes['tweets']:\n",
    "    if tweet.id==1577670057076965377:\n",
    "        tt=tweet\n",
    "\n",
    "tt.data"
   ]
  },
  {
   "cell_type": "code",
   "execution_count": null,
   "id": "9888bc70-357e-4712-905c-9b082612989e",
   "metadata": {},
   "outputs": [
    {
     "data": {
      "text/plain": [
       "{'public_metrics': {'followers_count': 14004,\n",
       "  'following_count': 406,\n",
       "  'tweet_count': 3118,\n",
       "  'listed_count': 27},\n",
       " 'username': 'LOTRROPBr',\n",
       " 'name': 'Os Anéis de Poder Brasil',\n",
       " 'id': '1453052758840467461',\n",
       " 'description': 'A maior FANPAGE do Brasil dedicada à nova série de O Senhor dos Anéis: #OsAnéisDePoder. Episódio 7 já disponível. Assista agora. #TheRingsOfPower 🔥💍',\n",
       " 'created_at': '2021-10-26T17:37:05.000Z'}"
      ]
     },
     "execution_count": 46,
     "metadata": {},
     "output_type": "execute_result"
    }
   ],
   "source": [
    "usr = None\n",
    "for user in includes['users']:\n",
    "    if user.id==1453052758840467461:\n",
    "        usr=user\n",
    "\n",
    "usr.data"
   ]
  },
  {
   "cell_type": "code",
   "execution_count": 39,
   "id": "64fbb27a-04a9-4a30-8e3e-45d4920474bb",
   "metadata": {},
   "outputs": [
    {
     "data": {
      "text/plain": [
       "array(['quoted', 'replied_to', 'retweeted'], dtype='<U10')"
      ]
     },
     "execution_count": 39,
     "metadata": {},
     "output_type": "execute_result"
    }
   ],
   "source": [
    "import numpy as np\n",
    "np.unique(np.array(ref_types))"
   ]
  },
  {
   "cell_type": "code",
   "execution_count": 60,
   "id": "9caa1c3e-52ae-4ab5-97fb-9ecdeded557a",
   "metadata": {},
   "outputs": [
    {
     "data": {
      "text/plain": [
       "{'public_metrics': {'followers_count': 674,\n",
       "  'following_count': 1454,\n",
       "  'tweet_count': 64266,\n",
       "  'listed_count': 32},\n",
       " 'username': 'manassesvieira_',\n",
       " 'name': 'lavaboy 🌋',\n",
       " 'id': '158199633',\n",
       " 'description': 'cada dia mais triste',\n",
       " 'created_at': '2010-06-22T01:45:04.000Z'}"
      ]
     },
     "execution_count": 60,
     "metadata": {},
     "output_type": "execute_result"
    }
   ],
   "source": [
    "includes['users'][0].data"
   ]
  },
  {
   "cell_type": "code",
   "execution_count": 7,
   "id": "50f400f5-910f-4929-9ffd-39f75015b508",
   "metadata": {},
   "outputs": [
    {
     "data": {
      "text/plain": [
       "474"
      ]
     },
     "execution_count": 7,
     "metadata": {},
     "output_type": "execute_result"
    }
   ],
   "source": [
    "len(tweets)"
   ]
  },
  {
   "cell_type": "code",
   "execution_count": 7,
   "id": "2bd6abf3-c786-472c-aebc-b76b5b2019d3",
   "metadata": {},
   "outputs": [
    {
     "data": {
      "text/plain": [
       "370"
      ]
     },
     "execution_count": 7,
     "metadata": {},
     "output_type": "execute_result"
    }
   ],
   "source": [
    "len(includes['users'])"
   ]
  },
  {
   "cell_type": "code",
   "execution_count": 9,
   "id": "d53274ff-7358-4c27-92ee-a58e707d9b04",
   "metadata": {},
   "outputs": [
    {
     "data": {
      "text/plain": [
       "{'author_id': '320835890',\n",
       " 'referenced_tweets': [{'type': 'quoted', 'id': '1578444304971796481'}],\n",
       " 'created_at': '2022-10-07T19:52:22.000Z',\n",
       " 'text': 'confirmo #RingsofPower https://t.co/WqLtKycMgN',\n",
       " 'entities': {'urls': [{'start': 23,\n",
       "    'end': 46,\n",
       "    'url': 'https://t.co/WqLtKycMgN',\n",
       "    'expanded_url': 'https://twitter.com/ToIkienverse/status/1578444304971796481',\n",
       "    'display_url': 'twitter.com/ToIkienverse/s…'}],\n",
       "  'hashtags': [{'start': 9, 'end': 22, 'tag': 'RingsofPower'}]},\n",
       " 'conversation_id': '1578473327785824256',\n",
       " 'edit_history_tweet_ids': ['1578473327785824256'],\n",
       " 'id': '1578473327785824256',\n",
       " 'public_metrics': {'retweet_count': 0,\n",
       "  'reply_count': 0,\n",
       "  'like_count': 0,\n",
       "  'quote_count': 0},\n",
       " 'source': 'Twitter Web App'}"
      ]
     },
     "execution_count": 9,
     "metadata": {},
     "output_type": "execute_result"
    }
   ],
   "source": [
    "tweets[0].data"
   ]
  },
  {
   "cell_type": "code",
   "execution_count": 10,
   "id": "22439764-cef9-4407-b25b-26355fcf8e64",
   "metadata": {},
   "outputs": [
    {
     "name": "stdout",
     "output_type": "stream",
     "text": [
      "{'author_id': '187485846', 'created_at': '2022-10-07T17:57:03.000Z', 'entities': {'annotations': [{'start': 14, 'end': 21, 'probability': 0.4196, 'type': 'Other', 'normalized_text': 'Durin IV'}], 'urls': [{'start': 95, 'end': 118, 'url': 'https://t.co/u8ZcoXkucS', 'expanded_url': 'https://twitter.com/ToIkienverse/status/1578444304971796481/photo/1', 'display_url': 'pic.twitter.com/u8ZcoXkucS', 'media_key': '3_1578444295769579520'}], 'hashtags': [{'start': 78, 'end': 94, 'tag': 'TheRingsOfPower'}]}, 'text': 'Os presento a Durin IV, también conocido como el mejor personaje de la serie. #TheRingsOfPower https://t.co/u8ZcoXkucS', 'attachments': {'media_keys': ['3_1578444295769579520']}, 'conversation_id': '1578444304971796481', 'edit_history_tweet_ids': ['1578444304971796481'], 'id': '1578444304971796481', 'public_metrics': {'retweet_count': 268, 'reply_count': 87, 'like_count': 3662, 'quote_count': 42}, 'source': 'Twitter Web App'}\n"
     ]
    }
   ],
   "source": [
    "for tweet in includes['tweets']:\n",
    "    if tweet.id == 1578444304971796481:\n",
    "        print(tweet.data)"
   ]
  },
  {
   "cell_type": "code",
   "execution_count": 13,
   "id": "47c0dc81-0f1b-40a8-b68b-446fe36159f9",
   "metadata": {},
   "outputs": [
    {
     "name": "stdout",
     "output_type": "stream",
     "text": [
      "{'name': 'Un Juan Mas', 'username': 'juan_k654', 'id': '320835890', 'public_metrics': {'followers_count': 77, 'following_count': 180, 'tweet_count': 1298, 'listed_count': 2}, 'created_at': '2011-06-20T16:17:18.000Z', 'description': 'abogado por conviccion, Rockero de corazon...music is my drug !!!'}\n"
     ]
    }
   ],
   "source": [
    "for user in includes['users']:\n",
    "    if user.id == 320835890:\n",
    "        print(user.data)"
   ]
  },
  {
   "cell_type": "code",
   "execution_count": 14,
   "id": "25456ab9-5d83-446f-90e8-6315d5229ebf",
   "metadata": {},
   "outputs": [
    {
     "name": "stdout",
     "output_type": "stream",
     "text": [
      "{'name': 'Tolkienverse ᚠ - #TheRingsOfPower', 'username': 'ToIkienverse', 'id': '187485846', 'public_metrics': {'followers_count': 98645, 'following_count': 443, 'tweet_count': 119889, 'listed_count': 208}, 'created_at': '2010-09-06T11:03:09.000Z', 'description': '💍Dando noticias sobre el mundo de la Tierra Media desde la primera Edad del Sol💍 \\n\\nContacto: Tolkienverse01@gmail.com'}\n"
     ]
    }
   ],
   "source": [
    "for user in includes['users']:\n",
    "    if user.id == 187485846:\n",
    "        print(user.data)"
   ]
  },
  {
   "cell_type": "code",
   "execution_count": 30,
   "id": "c089ab06-19a8-4546-aa07-0be501673c41",
   "metadata": {},
   "outputs": [],
   "source": [
    "for media in includes['media']:\n",
    "    if media.media_key == '3_1578444295769579520':\n",
    "        print(media.data)"
   ]
  },
  {
   "cell_type": "code",
   "execution_count": 36,
   "id": "907ae3f7-155e-426e-afd1-baf867083a9f",
   "metadata": {},
   "outputs": [
    {
     "data": {
      "text/plain": [
       "'abogado por conviccion, Rockero de corazon...music is my drug !!!'"
      ]
     },
     "execution_count": 36,
     "metadata": {},
     "output_type": "execute_result"
    }
   ],
   "source": [
    "includes['users'][0].description"
   ]
  },
  {
   "cell_type": "code",
   "execution_count": 31,
   "id": "aa7f2c29-89fe-4b05-ad31-b9acb2e8f617",
   "metadata": {},
   "outputs": [],
   "source": [
    "id_list = [user.id for user in includes['users']]"
   ]
  },
  {
   "cell_type": "code",
   "execution_count": 33,
   "id": "17a8c733-4288-4184-b4af-a9afccdf0c4a",
   "metadata": {},
   "outputs": [],
   "source": [
    "for idx,tweet in enumerate(tweets):\n",
    "    if tweet.author_id not in i\n",
    "    d_list:\n",
    "        print(f'author not found idx: {idx}')"
   ]
  },
  {
   "cell_type": "code",
   "execution_count": null,
   "id": "57b9b63c-5405-452f-aac1-a290c1b6faf3",
   "metadata": {},
   "outputs": [],
   "source": [
    "tweets_recent = search._recent('#HouseOfTheDragonEp6', amount=1000)"
   ]
  },
  {
   "cell_type": "code",
   "execution_count": null,
   "id": "3aefa722-c790-4f9b-b5c4-eb76c13cd499",
   "metadata": {},
   "outputs": [],
   "source": [
    "print(tweets_recent._info)"
   ]
  },
  {
   "cell_type": "code",
   "execution_count": null,
   "id": "01b57555-92ba-4022-b42e-e31a9587eb4a",
   "metadata": {},
   "outputs": [],
   "source": [
    "df_recent = tweets_recent.get_dataframe()\n",
    "df_recent.shape"
   ]
  },
  {
   "cell_type": "code",
   "execution_count": null,
   "id": "cfb4fba8-b1ee-471b-b2ba-219883d2d87a",
   "metadata": {},
   "outputs": [],
   "source": [
    "df_recent.query('is_reply==True')"
   ]
  },
  {
   "cell_type": "code",
   "execution_count": null,
   "id": "fa97a19f-aa68-4a25-b73d-daac00333637",
   "metadata": {},
   "outputs": [],
   "source": [
    "rt = {}\n",
    "\n",
    "for tweet in tweets_recent.get_tweets_dict():\n",
    "    if 'retweeted_status' in tweet.keys() and tweet['retweeted_status']['entities']['user_mentions']:\n",
    "        rt = tweet\n",
    "rt"
   ]
  },
  {
   "cell_type": "code",
   "execution_count": null,
   "id": "a819a894-07a0-4763-9221-6c062de7c4b5",
   "metadata": {},
   "outputs": [],
   "source": [
    "tweets_30_days = search._archive('#HouseOfTheDragonEp6', lang='pt', amount=500)"
   ]
  },
  {
   "cell_type": "code",
   "execution_count": null,
   "id": "0cda4d3a-6da3-4baa-9df0-bcdbc371de00",
   "metadata": {},
   "outputs": [],
   "source": [
    "tweets_30_days._info"
   ]
  },
  {
   "cell_type": "code",
   "execution_count": null,
   "id": "d05a7e30-e25d-42fc-804c-a7751c236db8",
   "metadata": {},
   "outputs": [],
   "source": [
    "df_old = tweets_30_days.get_dataframe()\n",
    "df_old.shape"
   ]
  },
  {
   "cell_type": "code",
   "execution_count": null,
   "id": "9da4a907-a1ab-4be4-9cd1-f324a39d35bd",
   "metadata": {},
   "outputs": [],
   "source": [
    "df_old.query('has_mention==True')"
   ]
  },
  {
   "cell_type": "code",
   "execution_count": null,
   "id": "3e8c65a2-b323-4657-a2d5-8920d128bf58",
   "metadata": {},
   "outputs": [],
   "source": [
    "df_old.sample(15)"
   ]
  },
  {
   "cell_type": "code",
   "execution_count": null,
   "id": "2735f681-ee80-4427-a939-e3be6188be48",
   "metadata": {},
   "outputs": [],
   "source": [
    "rt = {}\n",
    "\n",
    "for tweet in tweets_30_days.get_tweets_dict():\n",
    "    if 'retweeted_status' not in tweet.keys() and not tweet['truncated']:\n",
    "        rt = tweet\n",
    "rt"
   ]
  },
  {
   "cell_type": "code",
   "execution_count": null,
   "id": "a57dedb2-6dbc-4d15-93ea-46de9699e2c2",
   "metadata": {},
   "outputs": [],
   "source": [
    "for tweet in tweets_arquivo.get_tweets_dict():\n",
    "    if tweet['truncated'] == True:\n",
    "        trunc = tweet\n",
    "trunc"
   ]
  },
  {
   "cell_type": "code",
   "execution_count": null,
   "id": "bf333621-d0bd-4fda-9953-301541eaebc2",
   "metadata": {},
   "outputs": [],
   "source": [
    "tt_media= search._archive('Foils for the collection!', amount=10)"
   ]
  },
  {
   "cell_type": "code",
   "execution_count": null,
   "id": "f18ad7af-8a9b-42d5-8907-65ea07e39bd2",
   "metadata": {},
   "outputs": [],
   "source": [
    "tt_media.get_tweets_dict()[1]"
   ]
  },
  {
   "cell_type": "code",
   "execution_count": null,
   "id": "b6060a44-e500-422c-a334-d2e2d1b6fdbd",
   "metadata": {},
   "outputs": [],
   "source": [
    "one_media = search._recent('A direita tá se unindo né', amount=100).get_tweets_dict()"
   ]
  },
  {
   "cell_type": "code",
   "execution_count": null,
   "id": "9c9a2a7b-bf2b-44b0-b106-54a75b551d37",
   "metadata": {},
   "outputs": [],
   "source": [
    "one_media[23]"
   ]
  },
  {
   "cell_type": "code",
   "execution_count": null,
   "id": "f6ecd88f-65cb-4919-b85f-90680f5514c8",
   "metadata": {},
   "outputs": [],
   "source": [
    "tweets_hash = search._archive('#datafolha', amount=200)"
   ]
  },
  {
   "cell_type": "code",
   "execution_count": null,
   "id": "4881f7db-3197-4e4a-af60-2eadd200ea22",
   "metadata": {},
   "outputs": [],
   "source": [
    "tweets_hash.get_tweets_dict()[5]"
   ]
  },
  {
   "cell_type": "code",
   "execution_count": null,
   "id": "4a331a4b-d24c-4d4f-8e17-e7e7104cc91f",
   "metadata": {},
   "outputs": [],
   "source": [
    "tts = search._recent('#datafolha OR datafolha', lang='pt', amount=100000)"
   ]
  },
  {
   "cell_type": "code",
   "execution_count": null,
   "id": "bdcd698f-f942-4c96-800a-234efa698d48",
   "metadata": {},
   "outputs": [],
   "source": [
    "tts._info"
   ]
  },
  {
   "cell_type": "code",
   "execution_count": null,
   "id": "c562184c-32bf-4146-8c00-db280c2480e2",
   "metadata": {},
   "outputs": [],
   "source": [
    "df = tts.get_dataframe()\n",
    "df.sample(10)"
   ]
  },
  {
   "cell_type": "code",
   "execution_count": null,
   "id": "890df7c4-1d69-4f2e-bf60-ddc508df48c7",
   "metadata": {},
   "outputs": [],
   "source": [
    "df.to_csv('#datafolha.csv', index=False)"
   ]
  },
  {
   "cell_type": "code",
   "execution_count": null,
   "id": "bafdf1e8-5d3d-4a1b-8879-bc20b1faef72",
   "metadata": {},
   "outputs": [],
   "source": [
    "rt_df = df[df['retweeted_from'].notnull()]\n",
    "rt_df.shape"
   ]
  },
  {
   "cell_type": "code",
   "execution_count": null,
   "id": "594fbfef-615a-4812-9cd5-ab07642f229e",
   "metadata": {},
   "outputs": [],
   "source": [
    "rt_df.head()"
   ]
  },
  {
   "cell_type": "code",
   "execution_count": null,
   "id": "6bec17bf-6bb0-401e-98aa-772dfe559143",
   "metadata": {},
   "outputs": [],
   "source": [
    "rt_df[['user_info', 'retweeted_from']].sample()"
   ]
  },
  {
   "cell_type": "code",
   "execution_count": null,
   "id": "935fc910-b818-4481-9bfe-42bff66a33b8",
   "metadata": {},
   "outputs": [],
   "source": [
    "rt_match = []\n",
    "\n",
    "for idx, rt in rt_df[['user_info', 'retweeted_from']].iterrows():\n",
    "    rt_match.append((rt['user_info']['screen_name'], rt['retweeted_from']['user']))"
   ]
  },
  {
   "cell_type": "code",
   "execution_count": null,
   "id": "7dbba9f2-ab33-4078-9a41-30d6b0f179a6",
   "metadata": {},
   "outputs": [],
   "source": [
    "rt_match[:5]"
   ]
  },
  {
   "cell_type": "code",
   "execution_count": null,
   "id": "009a8266-61b6-4656-9692-ec085267fd34",
   "metadata": {},
   "outputs": [],
   "source": [
    "df_rt_match = pd.DataFrame(columns=['source', 'target'], data=rt_match)\n",
    "df_rt_match.head()"
   ]
  },
  {
   "cell_type": "code",
   "execution_count": null,
   "id": "537b42fa-833d-41fd-a324-24d434d63f53",
   "metadata": {},
   "outputs": [],
   "source": [
    "df_rt_match.value_counts()"
   ]
  },
  {
   "cell_type": "code",
   "execution_count": null,
   "id": "74c73b68-e5b7-4648-9ffe-027ed8c51401",
   "metadata": {},
   "outputs": [],
   "source": [
    "tts2 = search._30_days('#datafolha OR datafolha', since='2022-09-21', amount=10000)"
   ]
  },
  {
   "cell_type": "code",
   "execution_count": null,
   "id": "0e0b292a-453c-4174-a72e-73f3df5e1f4a",
   "metadata": {},
   "outputs": [],
   "source": [
    "tts2._info"
   ]
  },
  {
   "cell_type": "code",
   "execution_count": null,
   "id": "0f9f7ba5-6fd3-421f-8efb-831692c95955",
   "metadata": {},
   "outputs": [],
   "source": [
    "conv_date_ISO('2022-05-09 15:30')"
   ]
  },
  {
   "cell_type": "code",
   "execution_count": null,
   "id": "f12dca46-4fb5-4d37-afea-5b001bc232b1",
   "metadata": {},
   "outputs": [],
   "source": [
    "import tweepy as tw\n",
    "from config import *\n",
    "from modules.utils import *\n",
    "from modules.search import Search\n",
    "import pandas as pd"
   ]
  },
  {
   "cell_type": "code",
   "execution_count": null,
   "id": "6a8c02bf-d7e0-48d2-a891-f83076fa845d",
   "metadata": {},
   "outputs": [],
   "source": [
    "search = Search(API_KEY, API_SECRET, ACCESS_TOKEN, ACCESS_TOKEN_SECRET, BEARER_TOKEN, SANDBOX_LABEL)"
   ]
  },
  {
   "cell_type": "code",
   "execution_count": null,
   "id": "10991b50-4696-488e-8114-cc1e854d04de",
   "metadata": {},
   "outputs": [],
   "source": [
    "tt_list = search._archive_api2(query='magic the gathering', lang='pt', since='2022-10-02 12:30', until='2022-10-04 23:30', amount=100)"
   ]
  },
  {
   "cell_type": "code",
   "execution_count": null,
   "id": "000ba1fb-0137-4621-b434-bd3a08924156",
   "metadata": {},
   "outputs": [],
   "source": [
    "tt_list._info"
   ]
  },
  {
   "cell_type": "code",
   "execution_count": null,
   "id": "95aa1c0f-6c57-4b13-abaa-e61a5a26ee60",
   "metadata": {},
   "outputs": [],
   "source": [
    "tt_list.get_dataframe().head()"
   ]
  },
  {
   "cell_type": "code",
   "execution_count": null,
   "id": "51ad2210-a5ba-4422-ad5d-02605d3e7e9e",
   "metadata": {},
   "outputs": [],
   "source": [
    "tt_list.get_tweets_dict()[0].data."
   ]
  },
  {
   "cell_type": "code",
   "execution_count": null,
   "id": "ef71c3c1-1e6a-49c8-8117-45a609004b39",
   "metadata": {},
   "outputs": [],
   "source": [
    "client = search.get_client()"
   ]
  },
  {
   "cell_type": "code",
   "execution_count": null,
   "id": "beef4e2a-cc41-49a6-9a54-7460400524a8",
   "metadata": {},
   "outputs": [],
   "source": [
    "resp2 = client.search_recent_tweets(query='magic the gathering', next_token='b26v89c19zqg8o3fpzbmmcou6dzct5lznm2oeyglevibh')"
   ]
  }
 ],
 "metadata": {
  "kernelspec": {
   "display_name": "Python 3 (ipykernel)",
   "language": "python",
   "name": "python3"
  },
  "language_info": {
   "codemirror_mode": {
    "name": "ipython",
    "version": 3
   },
   "file_extension": ".py",
   "mimetype": "text/x-python",
   "name": "python",
   "nbconvert_exporter": "python",
   "pygments_lexer": "ipython3",
   "version": "3.10.4"
  }
 },
 "nbformat": 4,
 "nbformat_minor": 5
}
