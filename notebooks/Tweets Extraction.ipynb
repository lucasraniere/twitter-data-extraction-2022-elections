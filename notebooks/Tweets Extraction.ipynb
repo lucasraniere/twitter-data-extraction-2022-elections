{
 "cells": [
  {
   "cell_type": "markdown",
   "id": "9fb92c31-2fcb-426a-a7aa-ecc1f21944cf",
   "metadata": {},
   "source": [
    "# __Tweet Extraction__"
   ]
  },
  {
   "cell_type": "code",
   "execution_count": null,
   "id": "17052776-4fab-4f42-bd5e-ad95a01a7876",
   "metadata": {},
   "outputs": [],
   "source": [
    "import sys\n",
    "\n",
    "sys.path.append('../')\n",
    "from modules.search import Search\n",
    "import pandas as pd\n",
    "from config import*"
   ]
  },
  {
   "cell_type": "code",
   "execution_count": null,
   "id": "12e38a58-b2f6-464d-b7b2-fb73f24e5a84",
   "metadata": {},
   "outputs": [],
   "source": [
    "search = Search(API_KEY, API_SECRET, ACCESS_TOKEN, ACCESS_TOKEN_SECRET, BEARER_TOKEN, SANDBOX_LABEL)"
   ]
  },
  {
   "cell_type": "markdown",
   "id": "19bb75d5-18da-4841-854b-d25511fc79ee",
   "metadata": {},
   "source": [
    "### API V2 Archive"
   ]
  },
  {
   "cell_type": "code",
   "execution_count": null,
   "id": "acb95c46-b254-45d4-806d-d366fc3da77b",
   "metadata": {},
   "outputs": [],
   "source": [
    "#days = [\n",
    "    # {\n",
    "    #     'begin': '2022-08-25 00:00',\n",
    "    #     'ending': '2022-08-27 23:59',\n",
    "    #     'terms': ['#LADRAONOJN', 'BOBO DA CORTE']\n",
    "    # },\n",
    "day = {\n",
    "        'begin': '2022-08-28 00:00',\n",
    "        'ending': '2022-08-28 12:00',\n",
    "        'terms': ['#DebateNaBand']\n",
    "    }\n",
    "    # {\n",
    "    #     'begin': '2022-08-29 00:00',\n",
    "    #     'ending': '2022-08-31 23:59',\n",
    "    #     'terms': ['BOLSONARO ODEIA MULHERES', '#SouMulherEVotoBolsonaro']\n",
    "    # }\n",
    "#]"
   ]
  },
  {
   "cell_type": "code",
   "execution_count": null,
   "id": "db07ac4e-84d0-4126-a412-bc5e4df1ba53",
   "metadata": {},
   "outputs": [],
   "source": [
    "tts = search._archive_api2(query=day['terms'][0], lang='pt', since=day['begin'], until=day['ending'])"
   ]
  },
  {
   "cell_type": "code",
   "execution_count": null,
   "id": "88849b78-7c40-4795-b21d-7e810978c1a0",
   "metadata": {},
   "outputs": [],
   "source": [
    "for day in days:\n",
    "    date = day['begin']\n",
    "    for term in day['terms']:\n",
    "        tweets = search._archive_api2(query=term, lang='pt', since=day['begin'], until=day['ending'])\n",
    "        df = tweets.get_dataframe()\n",
    "        df.to_csv(f'../data/tweets/{date[:10]}-{term}.csv', index=False)\n",
    "        print(f'Finished term: {term}; Info: {tweets._info}')"
   ]
  },
  {
   "cell_type": "code",
   "execution_count": null,
   "id": "49efe0dd-f5e5-405a-aa03-f0ddb6a019f8",
   "metadata": {},
   "outputs": [],
   "source": [
    "import time"
   ]
  },
  {
   "cell_type": "code",
   "execution_count": null,
   "id": "2ac84a70-9a7b-4e85-9524-14319775961e",
   "metadata": {},
   "outputs": [],
   "source": [
    "start = time.time()\n",
    "time.sleep(0.5)\n",
    "now = time.time()\n",
    "if now - start < 1.0:\n",
    "    print(f'Waiting {now-start}')\n",
    "    time.sleep(now-start)"
   ]
  },
  {
   "cell_type": "code",
   "execution_count": null,
   "id": "521454f0-7e31-4e83-a58c-97b59be69253",
   "metadata": {},
   "outputs": [],
   "source": [
    "max_requests_15m = 300\n",
    "requests_count = 300"
   ]
  }
 ],
 "metadata": {
  "kernelspec": {
   "display_name": "Python 3 (ipykernel)",
   "language": "python",
   "name": "python3"
  },
  "language_info": {
   "codemirror_mode": {
    "name": "ipython",
    "version": 3
   },
   "file_extension": ".py",
   "mimetype": "text/x-python",
   "name": "python",
   "nbconvert_exporter": "python",
   "pygments_lexer": "ipython3",
   "version": "3.10.6"
  }
 },
 "nbformat": 4,
 "nbformat_minor": 5
}
