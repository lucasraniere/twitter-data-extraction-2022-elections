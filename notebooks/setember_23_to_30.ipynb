{
 "cells": [
  {
   "cell_type": "markdown",
   "id": "9fb92c31-2fcb-426a-a7aa-ecc1f21944cf",
   "metadata": {},
   "source": [
    "# __Tweet Extraction: from setember 23' to 30'__"
   ]
  },
  {
   "cell_type": "code",
   "execution_count": 1,
   "id": "17052776-4fab-4f42-bd5e-ad95a01a7876",
   "metadata": {},
   "outputs": [],
   "source": [
    "import sys\n",
    "\n",
    "sys.path.append('../')\n",
    "from modules.search import Search\n",
    "import pandas as pd\n",
    "from config import*"
   ]
  },
  {
   "cell_type": "code",
   "execution_count": 2,
   "id": "12e38a58-b2f6-464d-b7b2-fb73f24e5a84",
   "metadata": {},
   "outputs": [],
   "source": [
    "search = Search(API_KEY, API_SECRET, ACCESS_TOKEN, ACCESS_TOKEN_SECRET, BEARER_TOKEN, SANDBOX_LABEL)"
   ]
  },
  {
   "cell_type": "markdown",
   "id": "19bb75d5-18da-4841-854b-d25511fc79ee",
   "metadata": {},
   "source": [
    "### Recent Search (7 days)"
   ]
  },
  {
   "cell_type": "code",
   "execution_count": 3,
   "id": "acb95c46-b254-45d4-806d-d366fc3da77b",
   "metadata": {},
   "outputs": [],
   "source": [
    "days = [\n",
    "    {'begin': '2022-09-28',\n",
    "     'ending': '2022-09-29',\n",
    "     'terms': ['#DebateNaGlobo']},\n",
    "    # {'begin': '2022-09-26',\n",
    "    #  'ending': '2022-09-27',\n",
    "    #  'terms': ['#CiroManifestoANacao', '#BrasilVota22', 'AGORA É LULA',\n",
    "    #            'BRASIL RESISTE', 'Faltam 6', '#TiraGomes', '#BrasilDaEsperança',\n",
    "    #            'LULA NO PRIMEIRO TURNO', '#LulaNo1ºTurno', '#CiroNoFlow', 'Lula 48%',\n",
    "    #            'Bolsonaro 31%']}\n",
    "]"
   ]
  },
  {
   "cell_type": "code",
   "execution_count": 4,
   "id": "88849b78-7c40-4795-b21d-7e810978c1a0",
   "metadata": {},
   "outputs": [
    {
     "name": "stderr",
     "output_type": "stream",
     "text": [
      "Rate limit reached. Sleeping for: 366\n",
      "Rate limit reached. Sleeping for: 657\n"
     ]
    }
   ],
   "source": [
    "for day in days:\n",
    "    date = day['begin']\n",
    "    for term in day['terms']:\n",
    "        tweets = search._recent(query=term, until=day['ending'])\n",
    "        df = tweets.get_dataframe()\n",
    "        df.to_csv(f'../data/tweets/{date}-{term}.csv', index=False)"
   ]
  },
  {
   "cell_type": "markdown",
   "id": "14a56c4c-fcdc-466c-a24d-e5df347a099a",
   "metadata": {},
   "source": [
    "### Premium Search: 30 days"
   ]
  },
  {
   "cell_type": "code",
   "execution_count": null,
   "id": "77aefc58-fafa-4007-bf2b-b2864531fc86",
   "metadata": {},
   "outputs": [],
   "source": [
    "days_30 = [\n",
    "    {'since': '2022-09-06',\n",
    "     'until': '2022-09-06 23:59',\n",
    "     'terms': ['LULA SUBIU GASOLINA CAIU']\n",
    "    },\n",
    "]"
   ]
  },
  {
   "cell_type": "code",
   "execution_count": null,
   "id": "ec82b298-5a12-44b7-8d4d-669bf8104247",
   "metadata": {},
   "outputs": [],
   "source": [
    "for day in days_30:\n",
    "    date = day['since']\n",
    "    for term in day['terms']:\n",
    "        tweets = search._30_days(query=term, lang='pt', since=day['since']+' 00:00', until=day['until'])\n",
    "        df = tweets.get_dataframe()\n",
    "        df.to_csv(f'../data/tweets/{date}-{term}.csv', index=False)"
   ]
  },
  {
   "cell_type": "markdown",
   "id": "2ea81865-f6f8-4c68-b4b1-8d87bbe31b94",
   "metadata": {},
   "source": [
    "### Premium Search: Archive"
   ]
  },
  {
   "cell_type": "code",
   "execution_count": null,
   "id": "fa370021-273d-418d-92ad-28842a9e11a7",
   "metadata": {},
   "outputs": [],
   "source": [
    "days_arch = [\n",
    "    {'since': '2022-08-01',\n",
    "     'until': '2022-08-01 23:59',\n",
    "     'terms': ['BOLSONARO NÃO TRABALHA']\n",
    "    },\n",
    "]"
   ]
  },
  {
   "cell_type": "code",
   "execution_count": null,
   "id": "55cf3ac4-4dce-422f-a309-0ce7c9ab4e08",
   "metadata": {},
   "outputs": [],
   "source": [
    "for day in days_arch:\n",
    "    date = day['since']\n",
    "    for term in day['terms']:\n",
    "        tweets = search._archive(query=term, lang='pt', since=day['since']+' 00:00', until=day['until'])\n",
    "        df = tweets.get_dataframe()\n",
    "        df.to_csv(f'../data/tweets/{date}-{term}.csv', index=False)"
   ]
  },
  {
   "cell_type": "code",
   "execution_count": null,
   "id": "062bcc2e-03d0-45f7-b8d9-01890254fa68",
   "metadata": {},
   "outputs": [],
   "source": []
  }
 ],
 "metadata": {
  "kernelspec": {
   "display_name": "Python 3 (ipykernel)",
   "language": "python",
   "name": "python3"
  },
  "language_info": {
   "codemirror_mode": {
    "name": "ipython",
    "version": 3
   },
   "file_extension": ".py",
   "mimetype": "text/x-python",
   "name": "python",
   "nbconvert_exporter": "python",
   "pygments_lexer": "ipython3",
   "version": "3.10.4"
  }
 },
 "nbformat": 4,
 "nbformat_minor": 5
}
