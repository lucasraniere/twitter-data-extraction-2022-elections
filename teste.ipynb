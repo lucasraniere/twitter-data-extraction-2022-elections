{
 "cells": [
  {
   "cell_type": "code",
   "execution_count": 1,
   "id": "148ff2a9-aa33-40f7-8466-0d2da4de5870",
   "metadata": {},
   "outputs": [],
   "source": [
    "import tweepy as tw\n",
    "from config import *\n",
    "from modules.utils import *\n",
    "from modules.search import Search\n",
    "import pandas as pd"
   ]
  },
  {
   "cell_type": "code",
   "execution_count": 2,
   "id": "e66f0a9b-425d-4be5-b6a6-deca5322cb2a",
   "metadata": {},
   "outputs": [],
   "source": [
    "search = Search(API_KEY, API_SECRET, ACCESS_TOKEN, ACCESS_TOKEN_SECRET, BEARER_TOKEN, SANDBOX_LABEL)"
   ]
  },
  {
   "cell_type": "code",
   "execution_count": 3,
   "id": "481cc774-321e-4704-bcd6-0d42fec98b0f",
   "metadata": {},
   "outputs": [],
   "source": [
    "tts = search._archive_api2('#RingsOfPower', lang='pt', since='2022-10-6 00:00', until='2022-10-07 17:00')"
   ]
  },
  {
   "cell_type": "code",
   "execution_count": 4,
   "id": "14fd9e99-dd71-4bd2-933b-3e2ffd232de6",
   "metadata": {},
   "outputs": [
    {
     "data": {
      "text/plain": [
       "'This collection contains 474 tweets. Extraction method: archive_apiV2.'"
      ]
     },
     "execution_count": 4,
     "metadata": {},
     "output_type": "execute_result"
    }
   ],
   "source": [
    "tts._info"
   ]
  },
  {
   "cell_type": "code",
   "execution_count": 5,
   "id": "cfde29bb-b723-4405-a090-b524f987aa91",
   "metadata": {},
   "outputs": [],
   "source": [
    "tweets, includes = tts.get_tweets_dict()"
   ]
  },
  {
   "cell_type": "code",
   "execution_count": 6,
   "id": "65f2af42-4caf-468e-b7c4-f0e192f9fcdc",
   "metadata": {},
   "outputs": [],
   "source": [
    "df = tts.get_dataframe()"
   ]
  },
  {
   "cell_type": "code",
   "execution_count": 9,
   "id": "a337d367-6486-4deb-a1c4-f3343643b137",
   "metadata": {},
   "outputs": [
    {
     "data": {
      "text/html": [
       "<div>\n",
       "<style scoped>\n",
       "    .dataframe tbody tr th:only-of-type {\n",
       "        vertical-align: middle;\n",
       "    }\n",
       "\n",
       "    .dataframe tbody tr th {\n",
       "        vertical-align: top;\n",
       "    }\n",
       "\n",
       "    .dataframe thead th {\n",
       "        text-align: right;\n",
       "    }\n",
       "</style>\n",
       "<table border=\"1\" class=\"dataframe\">\n",
       "  <thead>\n",
       "    <tr style=\"text-align: right;\">\n",
       "      <th></th>\n",
       "      <th>created_at</th>\n",
       "      <th>tweet_id</th>\n",
       "      <th>tweet_content</th>\n",
       "      <th>user</th>\n",
       "      <th>user_info</th>\n",
       "      <th>has_mention</th>\n",
       "      <th>mentions</th>\n",
       "      <th>is_reply</th>\n",
       "      <th>reply_to</th>\n",
       "      <th>is_quote</th>\n",
       "      <th>quoted_from</th>\n",
       "      <th>is_retweet</th>\n",
       "      <th>retweeted_from</th>\n",
       "      <th>hashtags</th>\n",
       "    </tr>\n",
       "  </thead>\n",
       "  <tbody>\n",
       "    <tr>\n",
       "      <th>135</th>\n",
       "      <td>2022-10-07 13:50:34</td>\n",
       "      <td>1578382277419180033</td>\n",
       "      <td>Eu vendo tanta crítica a #RingsOfPower e eu am...</td>\n",
       "      <td>jessicamendes97</td>\n",
       "      <td>{'id': 1049306378383364096, 'name': '✨', 'desc...</td>\n",
       "      <td>0</td>\n",
       "      <td>0</td>\n",
       "      <td>0</td>\n",
       "      <td>0</td>\n",
       "      <td>0</td>\n",
       "      <td>0</td>\n",
       "      <td>0</td>\n",
       "      <td>0</td>\n",
       "      <td>0</td>\n",
       "    </tr>\n",
       "    <tr>\n",
       "      <th>131</th>\n",
       "      <td>2022-10-07 13:56:43</td>\n",
       "      <td>1578383823536066562</td>\n",
       "      <td>O episódio 7, intitulado de 'O Olho', de 'O Se...</td>\n",
       "      <td>Cinemacost</td>\n",
       "      <td>{'id': 1547998423349022722, 'name': 'Cinemacos...</td>\n",
       "      <td>0</td>\n",
       "      <td>0</td>\n",
       "      <td>0</td>\n",
       "      <td>0</td>\n",
       "      <td>0</td>\n",
       "      <td>0</td>\n",
       "      <td>0</td>\n",
       "      <td>0</td>\n",
       "      <td>0</td>\n",
       "    </tr>\n",
       "    <tr>\n",
       "      <th>293</th>\n",
       "      <td>2022-10-07 03:37:44</td>\n",
       "      <td>1578228054031503360</td>\n",
       "      <td>É HOJE O SAURON MDSSS #RingsofPower https://t....</td>\n",
       "      <td>gabsguimarxes</td>\n",
       "      <td>{'id': 3374631256, 'name': 'G(ay)eek Ψ📖', 'des...</td>\n",
       "      <td>0</td>\n",
       "      <td>0</td>\n",
       "      <td>0</td>\n",
       "      <td>0</td>\n",
       "      <td>0</td>\n",
       "      <td>0</td>\n",
       "      <td>0</td>\n",
       "      <td>0</td>\n",
       "      <td>0</td>\n",
       "    </tr>\n",
       "    <tr>\n",
       "      <th>167</th>\n",
       "      <td>2022-10-07 10:33:12</td>\n",
       "      <td>1578332607112437760</td>\n",
       "      <td>RT @LOTRROPBr: Hoje à noite, a partir de 00h30...</td>\n",
       "      <td>Darknes_Fr</td>\n",
       "      <td>{'id': 54251023, 'name': 'Darknes🥀🍂', 'descrip...</td>\n",
       "      <td>0</td>\n",
       "      <td>0</td>\n",
       "      <td>0</td>\n",
       "      <td>0</td>\n",
       "      <td>0</td>\n",
       "      <td>0</td>\n",
       "      <td>0</td>\n",
       "      <td>0</td>\n",
       "      <td>0</td>\n",
       "    </tr>\n",
       "    <tr>\n",
       "      <th>194</th>\n",
       "      <td>2022-10-07 06:54:17</td>\n",
       "      <td>1578277514228928514</td>\n",
       "      <td>RT @LOTRROPBr: O SEASON FINALE VEM AÍ. 🫣\\nTeas...</td>\n",
       "      <td>alexisvar96</td>\n",
       "      <td>{'id': 1172177113975263232, 'name': 'alexis va...</td>\n",
       "      <td>0</td>\n",
       "      <td>0</td>\n",
       "      <td>0</td>\n",
       "      <td>0</td>\n",
       "      <td>0</td>\n",
       "      <td>0</td>\n",
       "      <td>0</td>\n",
       "      <td>0</td>\n",
       "      <td>0</td>\n",
       "    </tr>\n",
       "    <tr>\n",
       "      <th>179</th>\n",
       "      <td>2022-10-07 08:27:45</td>\n",
       "      <td>1578301036842061824</td>\n",
       "      <td>RT @Wanders94514784: MANO DO CÉU, ESSE FINAL F...</td>\n",
       "      <td>N4u4K1ller</td>\n",
       "      <td>{'id': 1296242758471028737, 'name': 'coLd', 'd...</td>\n",
       "      <td>0</td>\n",
       "      <td>0</td>\n",
       "      <td>0</td>\n",
       "      <td>0</td>\n",
       "      <td>0</td>\n",
       "      <td>0</td>\n",
       "      <td>0</td>\n",
       "      <td>0</td>\n",
       "      <td>0</td>\n",
       "    </tr>\n",
       "    <tr>\n",
       "      <th>335</th>\n",
       "      <td>2022-10-07 01:41:55</td>\n",
       "      <td>1578198908311740417</td>\n",
       "      <td>RT @LOTRROPBr: Hoje à noite, a partir de 00h30...</td>\n",
       "      <td>dan_fromsp</td>\n",
       "      <td>{'id': 1034563808600236032, 'name': 'Dan Velar...</td>\n",
       "      <td>0</td>\n",
       "      <td>0</td>\n",
       "      <td>0</td>\n",
       "      <td>0</td>\n",
       "      <td>0</td>\n",
       "      <td>0</td>\n",
       "      <td>0</td>\n",
       "      <td>0</td>\n",
       "      <td>0</td>\n",
       "    </tr>\n",
       "    <tr>\n",
       "      <th>4</th>\n",
       "      <td>2022-10-07 19:35:53</td>\n",
       "      <td>1578469179090354177</td>\n",
       "      <td>RT @LOTRROPBr: \"Where the Shadows Lie\", aprese...</td>\n",
       "      <td>henriquemunz</td>\n",
       "      <td>{'id': 735213362112561152, 'name': 'Henrique M...</td>\n",
       "      <td>0</td>\n",
       "      <td>0</td>\n",
       "      <td>0</td>\n",
       "      <td>0</td>\n",
       "      <td>0</td>\n",
       "      <td>0</td>\n",
       "      <td>0</td>\n",
       "      <td>0</td>\n",
       "      <td>0</td>\n",
       "    </tr>\n",
       "    <tr>\n",
       "      <th>285</th>\n",
       "      <td>2022-10-07 03:56:05</td>\n",
       "      <td>1578232671414599682</td>\n",
       "      <td>A Elrold falou: Nós não dizemos Adeus\\n\\nminha...</td>\n",
       "      <td>Rennmoura</td>\n",
       "      <td>{'id': 3102261285, 'name': 'Renan', 'descripti...</td>\n",
       "      <td>0</td>\n",
       "      <td>0</td>\n",
       "      <td>0</td>\n",
       "      <td>0</td>\n",
       "      <td>0</td>\n",
       "      <td>0</td>\n",
       "      <td>0</td>\n",
       "      <td>0</td>\n",
       "      <td>0</td>\n",
       "    </tr>\n",
       "    <tr>\n",
       "      <th>123</th>\n",
       "      <td>2022-10-07 14:26:49</td>\n",
       "      <td>1578391400407769089</td>\n",
       "      <td>esse final do EP7 de #RingsofPower arrepiou dm...</td>\n",
       "      <td>surfl3xy</td>\n",
       "      <td>{'id': 831586751328174081, 'name': 'surflexy',...</td>\n",
       "      <td>0</td>\n",
       "      <td>0</td>\n",
       "      <td>0</td>\n",
       "      <td>0</td>\n",
       "      <td>0</td>\n",
       "      <td>0</td>\n",
       "      <td>0</td>\n",
       "      <td>0</td>\n",
       "      <td>0</td>\n",
       "    </tr>\n",
       "  </tbody>\n",
       "</table>\n",
       "</div>"
      ],
      "text/plain": [
       "              created_at             tweet_id  \\\n",
       "135  2022-10-07 13:50:34  1578382277419180033   \n",
       "131  2022-10-07 13:56:43  1578383823536066562   \n",
       "293  2022-10-07 03:37:44  1578228054031503360   \n",
       "167  2022-10-07 10:33:12  1578332607112437760   \n",
       "194  2022-10-07 06:54:17  1578277514228928514   \n",
       "179  2022-10-07 08:27:45  1578301036842061824   \n",
       "335  2022-10-07 01:41:55  1578198908311740417   \n",
       "4    2022-10-07 19:35:53  1578469179090354177   \n",
       "285  2022-10-07 03:56:05  1578232671414599682   \n",
       "123  2022-10-07 14:26:49  1578391400407769089   \n",
       "\n",
       "                                         tweet_content             user  \\\n",
       "135  Eu vendo tanta crítica a #RingsOfPower e eu am...  jessicamendes97   \n",
       "131  O episódio 7, intitulado de 'O Olho', de 'O Se...       Cinemacost   \n",
       "293  É HOJE O SAURON MDSSS #RingsofPower https://t....    gabsguimarxes   \n",
       "167  RT @LOTRROPBr: Hoje à noite, a partir de 00h30...       Darknes_Fr   \n",
       "194  RT @LOTRROPBr: O SEASON FINALE VEM AÍ. 🫣\\nTeas...      alexisvar96   \n",
       "179  RT @Wanders94514784: MANO DO CÉU, ESSE FINAL F...       N4u4K1ller   \n",
       "335  RT @LOTRROPBr: Hoje à noite, a partir de 00h30...       dan_fromsp   \n",
       "4    RT @LOTRROPBr: \"Where the Shadows Lie\", aprese...     henriquemunz   \n",
       "285  A Elrold falou: Nós não dizemos Adeus\\n\\nminha...        Rennmoura   \n",
       "123  esse final do EP7 de #RingsofPower arrepiou dm...         surfl3xy   \n",
       "\n",
       "                                             user_info has_mention mentions  \\\n",
       "135  {'id': 1049306378383364096, 'name': '✨', 'desc...           0        0   \n",
       "131  {'id': 1547998423349022722, 'name': 'Cinemacos...           0        0   \n",
       "293  {'id': 3374631256, 'name': 'G(ay)eek Ψ📖', 'des...           0        0   \n",
       "167  {'id': 54251023, 'name': 'Darknes🥀🍂', 'descrip...           0        0   \n",
       "194  {'id': 1172177113975263232, 'name': 'alexis va...           0        0   \n",
       "179  {'id': 1296242758471028737, 'name': 'coLd', 'd...           0        0   \n",
       "335  {'id': 1034563808600236032, 'name': 'Dan Velar...           0        0   \n",
       "4    {'id': 735213362112561152, 'name': 'Henrique M...           0        0   \n",
       "285  {'id': 3102261285, 'name': 'Renan', 'descripti...           0        0   \n",
       "123  {'id': 831586751328174081, 'name': 'surflexy',...           0        0   \n",
       "\n",
       "    is_reply reply_to is_quote quoted_from is_retweet retweeted_from hashtags  \n",
       "135        0        0        0           0          0              0        0  \n",
       "131        0        0        0           0          0              0        0  \n",
       "293        0        0        0           0          0              0        0  \n",
       "167        0        0        0           0          0              0        0  \n",
       "194        0        0        0           0          0              0        0  \n",
       "179        0        0        0           0          0              0        0  \n",
       "335        0        0        0           0          0              0        0  \n",
       "4          0        0        0           0          0              0        0  \n",
       "285        0        0        0           0          0              0        0  \n",
       "123        0        0        0           0          0              0        0  "
      ]
     },
     "execution_count": 9,
     "metadata": {},
     "output_type": "execute_result"
    }
   ],
   "source": [
    "df.sample(10)"
   ]
  },
  {
   "cell_type": "code",
   "execution_count": 7,
   "id": "50f400f5-910f-4929-9ffd-39f75015b508",
   "metadata": {},
   "outputs": [
    {
     "data": {
      "text/plain": [
       "474"
      ]
     },
     "execution_count": 7,
     "metadata": {},
     "output_type": "execute_result"
    }
   ],
   "source": [
    "len(tweets)"
   ]
  },
  {
   "cell_type": "code",
   "execution_count": 7,
   "id": "2bd6abf3-c786-472c-aebc-b76b5b2019d3",
   "metadata": {},
   "outputs": [
    {
     "data": {
      "text/plain": [
       "370"
      ]
     },
     "execution_count": 7,
     "metadata": {},
     "output_type": "execute_result"
    }
   ],
   "source": [
    "len(includes['users'])"
   ]
  },
  {
   "cell_type": "code",
   "execution_count": 9,
   "id": "d53274ff-7358-4c27-92ee-a58e707d9b04",
   "metadata": {},
   "outputs": [
    {
     "data": {
      "text/plain": [
       "{'author_id': '320835890',\n",
       " 'referenced_tweets': [{'type': 'quoted', 'id': '1578444304971796481'}],\n",
       " 'created_at': '2022-10-07T19:52:22.000Z',\n",
       " 'text': 'confirmo #RingsofPower https://t.co/WqLtKycMgN',\n",
       " 'entities': {'urls': [{'start': 23,\n",
       "    'end': 46,\n",
       "    'url': 'https://t.co/WqLtKycMgN',\n",
       "    'expanded_url': 'https://twitter.com/ToIkienverse/status/1578444304971796481',\n",
       "    'display_url': 'twitter.com/ToIkienverse/s…'}],\n",
       "  'hashtags': [{'start': 9, 'end': 22, 'tag': 'RingsofPower'}]},\n",
       " 'conversation_id': '1578473327785824256',\n",
       " 'edit_history_tweet_ids': ['1578473327785824256'],\n",
       " 'id': '1578473327785824256',\n",
       " 'public_metrics': {'retweet_count': 0,\n",
       "  'reply_count': 0,\n",
       "  'like_count': 0,\n",
       "  'quote_count': 0},\n",
       " 'source': 'Twitter Web App'}"
      ]
     },
     "execution_count": 9,
     "metadata": {},
     "output_type": "execute_result"
    }
   ],
   "source": [
    "tweets[0].data"
   ]
  },
  {
   "cell_type": "code",
   "execution_count": 10,
   "id": "22439764-cef9-4407-b25b-26355fcf8e64",
   "metadata": {},
   "outputs": [
    {
     "name": "stdout",
     "output_type": "stream",
     "text": [
      "{'author_id': '187485846', 'created_at': '2022-10-07T17:57:03.000Z', 'entities': {'annotations': [{'start': 14, 'end': 21, 'probability': 0.4196, 'type': 'Other', 'normalized_text': 'Durin IV'}], 'urls': [{'start': 95, 'end': 118, 'url': 'https://t.co/u8ZcoXkucS', 'expanded_url': 'https://twitter.com/ToIkienverse/status/1578444304971796481/photo/1', 'display_url': 'pic.twitter.com/u8ZcoXkucS', 'media_key': '3_1578444295769579520'}], 'hashtags': [{'start': 78, 'end': 94, 'tag': 'TheRingsOfPower'}]}, 'text': 'Os presento a Durin IV, también conocido como el mejor personaje de la serie. #TheRingsOfPower https://t.co/u8ZcoXkucS', 'attachments': {'media_keys': ['3_1578444295769579520']}, 'conversation_id': '1578444304971796481', 'edit_history_tweet_ids': ['1578444304971796481'], 'id': '1578444304971796481', 'public_metrics': {'retweet_count': 268, 'reply_count': 87, 'like_count': 3662, 'quote_count': 42}, 'source': 'Twitter Web App'}\n"
     ]
    }
   ],
   "source": [
    "for tweet in includes['tweets']:\n",
    "    if tweet.id == 1578444304971796481:\n",
    "        print(tweet.data)"
   ]
  },
  {
   "cell_type": "code",
   "execution_count": 13,
   "id": "47c0dc81-0f1b-40a8-b68b-446fe36159f9",
   "metadata": {},
   "outputs": [
    {
     "name": "stdout",
     "output_type": "stream",
     "text": [
      "{'name': 'Un Juan Mas', 'username': 'juan_k654', 'id': '320835890', 'public_metrics': {'followers_count': 77, 'following_count': 180, 'tweet_count': 1298, 'listed_count': 2}, 'created_at': '2011-06-20T16:17:18.000Z', 'description': 'abogado por conviccion, Rockero de corazon...music is my drug !!!'}\n"
     ]
    }
   ],
   "source": [
    "for user in includes['users']:\n",
    "    if user.id == 320835890:\n",
    "        print(user.data)"
   ]
  },
  {
   "cell_type": "code",
   "execution_count": 14,
   "id": "25456ab9-5d83-446f-90e8-6315d5229ebf",
   "metadata": {},
   "outputs": [
    {
     "name": "stdout",
     "output_type": "stream",
     "text": [
      "{'name': 'Tolkienverse ᚠ - #TheRingsOfPower', 'username': 'ToIkienverse', 'id': '187485846', 'public_metrics': {'followers_count': 98645, 'following_count': 443, 'tweet_count': 119889, 'listed_count': 208}, 'created_at': '2010-09-06T11:03:09.000Z', 'description': '💍Dando noticias sobre el mundo de la Tierra Media desde la primera Edad del Sol💍 \\n\\nContacto: Tolkienverse01@gmail.com'}\n"
     ]
    }
   ],
   "source": [
    "for user in includes['users']:\n",
    "    if user.id == 187485846:\n",
    "        print(user.data)"
   ]
  },
  {
   "cell_type": "code",
   "execution_count": 30,
   "id": "c089ab06-19a8-4546-aa07-0be501673c41",
   "metadata": {},
   "outputs": [],
   "source": [
    "for media in includes['media']:\n",
    "    if media.media_key == '3_1578444295769579520':\n",
    "        print(media.data)"
   ]
  },
  {
   "cell_type": "code",
   "execution_count": 36,
   "id": "907ae3f7-155e-426e-afd1-baf867083a9f",
   "metadata": {},
   "outputs": [
    {
     "data": {
      "text/plain": [
       "'abogado por conviccion, Rockero de corazon...music is my drug !!!'"
      ]
     },
     "execution_count": 36,
     "metadata": {},
     "output_type": "execute_result"
    }
   ],
   "source": [
    "includes['users'][0].description"
   ]
  },
  {
   "cell_type": "code",
   "execution_count": 31,
   "id": "aa7f2c29-89fe-4b05-ad31-b9acb2e8f617",
   "metadata": {},
   "outputs": [],
   "source": [
    "id_list = [user.id for user in includes['users']]"
   ]
  },
  {
   "cell_type": "code",
   "execution_count": 33,
   "id": "17a8c733-4288-4184-b4af-a9afccdf0c4a",
   "metadata": {},
   "outputs": [],
   "source": [
    "for idx,tweet in enumerate(tweets):\n",
    "    if tweet.author_id not in i\n",
    "    d_list:\n",
    "        print(f'author not found idx: {idx}')"
   ]
  },
  {
   "cell_type": "code",
   "execution_count": null,
   "id": "57b9b63c-5405-452f-aac1-a290c1b6faf3",
   "metadata": {},
   "outputs": [],
   "source": [
    "tweets_recent = search._recent('#HouseOfTheDragonEp6', amount=1000)"
   ]
  },
  {
   "cell_type": "code",
   "execution_count": null,
   "id": "3aefa722-c790-4f9b-b5c4-eb76c13cd499",
   "metadata": {},
   "outputs": [],
   "source": [
    "print(tweets_recent._info)"
   ]
  },
  {
   "cell_type": "code",
   "execution_count": null,
   "id": "01b57555-92ba-4022-b42e-e31a9587eb4a",
   "metadata": {},
   "outputs": [],
   "source": [
    "df_recent = tweets_recent.get_dataframe()\n",
    "df_recent.shape"
   ]
  },
  {
   "cell_type": "code",
   "execution_count": null,
   "id": "cfb4fba8-b1ee-471b-b2ba-219883d2d87a",
   "metadata": {},
   "outputs": [],
   "source": [
    "df_recent.query('is_reply==True')"
   ]
  },
  {
   "cell_type": "code",
   "execution_count": null,
   "id": "fa97a19f-aa68-4a25-b73d-daac00333637",
   "metadata": {},
   "outputs": [],
   "source": [
    "rt = {}\n",
    "\n",
    "for tweet in tweets_recent.get_tweets_dict():\n",
    "    if 'retweeted_status' in tweet.keys() and tweet['retweeted_status']['entities']['user_mentions']:\n",
    "        rt = tweet\n",
    "rt"
   ]
  },
  {
   "cell_type": "code",
   "execution_count": null,
   "id": "a819a894-07a0-4763-9221-6c062de7c4b5",
   "metadata": {},
   "outputs": [],
   "source": [
    "tweets_30_days = search._archive('#HouseOfTheDragonEp6', lang='pt', amount=500)"
   ]
  },
  {
   "cell_type": "code",
   "execution_count": null,
   "id": "0cda4d3a-6da3-4baa-9df0-bcdbc371de00",
   "metadata": {},
   "outputs": [],
   "source": [
    "tweets_30_days._info"
   ]
  },
  {
   "cell_type": "code",
   "execution_count": null,
   "id": "d05a7e30-e25d-42fc-804c-a7751c236db8",
   "metadata": {},
   "outputs": [],
   "source": [
    "df_old = tweets_30_days.get_dataframe()\n",
    "df_old.shape"
   ]
  },
  {
   "cell_type": "code",
   "execution_count": null,
   "id": "9da4a907-a1ab-4be4-9cd1-f324a39d35bd",
   "metadata": {},
   "outputs": [],
   "source": [
    "df_old.query('has_mention==True')"
   ]
  },
  {
   "cell_type": "code",
   "execution_count": null,
   "id": "3e8c65a2-b323-4657-a2d5-8920d128bf58",
   "metadata": {},
   "outputs": [],
   "source": [
    "df_old.sample(15)"
   ]
  },
  {
   "cell_type": "code",
   "execution_count": null,
   "id": "2735f681-ee80-4427-a939-e3be6188be48",
   "metadata": {},
   "outputs": [],
   "source": [
    "rt = {}\n",
    "\n",
    "for tweet in tweets_30_days.get_tweets_dict():\n",
    "    if 'retweeted_status' not in tweet.keys() and not tweet['truncated']:\n",
    "        rt = tweet\n",
    "rt"
   ]
  },
  {
   "cell_type": "code",
   "execution_count": null,
   "id": "a57dedb2-6dbc-4d15-93ea-46de9699e2c2",
   "metadata": {},
   "outputs": [],
   "source": [
    "for tweet in tweets_arquivo.get_tweets_dict():\n",
    "    if tweet['truncated'] == True:\n",
    "        trunc = tweet\n",
    "trunc"
   ]
  },
  {
   "cell_type": "code",
   "execution_count": null,
   "id": "bf333621-d0bd-4fda-9953-301541eaebc2",
   "metadata": {},
   "outputs": [],
   "source": [
    "tt_media= search._archive('Foils for the collection!', amount=10)"
   ]
  },
  {
   "cell_type": "code",
   "execution_count": null,
   "id": "f18ad7af-8a9b-42d5-8907-65ea07e39bd2",
   "metadata": {},
   "outputs": [],
   "source": [
    "tt_media.get_tweets_dict()[1]"
   ]
  },
  {
   "cell_type": "code",
   "execution_count": null,
   "id": "b6060a44-e500-422c-a334-d2e2d1b6fdbd",
   "metadata": {},
   "outputs": [],
   "source": [
    "one_media = search._recent('A direita tá se unindo né', amount=100).get_tweets_dict()"
   ]
  },
  {
   "cell_type": "code",
   "execution_count": null,
   "id": "9c9a2a7b-bf2b-44b0-b106-54a75b551d37",
   "metadata": {},
   "outputs": [],
   "source": [
    "one_media[23]"
   ]
  },
  {
   "cell_type": "code",
   "execution_count": null,
   "id": "f6ecd88f-65cb-4919-b85f-90680f5514c8",
   "metadata": {},
   "outputs": [],
   "source": [
    "tweets_hash = search._archive('#datafolha', amount=200)"
   ]
  },
  {
   "cell_type": "code",
   "execution_count": null,
   "id": "4881f7db-3197-4e4a-af60-2eadd200ea22",
   "metadata": {},
   "outputs": [],
   "source": [
    "tweets_hash.get_tweets_dict()[5]"
   ]
  },
  {
   "cell_type": "code",
   "execution_count": null,
   "id": "4a331a4b-d24c-4d4f-8e17-e7e7104cc91f",
   "metadata": {},
   "outputs": [],
   "source": [
    "tts = search._recent('#datafolha OR datafolha', lang='pt', amount=100000)"
   ]
  },
  {
   "cell_type": "code",
   "execution_count": null,
   "id": "bdcd698f-f942-4c96-800a-234efa698d48",
   "metadata": {},
   "outputs": [],
   "source": [
    "tts._info"
   ]
  },
  {
   "cell_type": "code",
   "execution_count": null,
   "id": "c562184c-32bf-4146-8c00-db280c2480e2",
   "metadata": {},
   "outputs": [],
   "source": [
    "df = tts.get_dataframe()\n",
    "df.sample(10)"
   ]
  },
  {
   "cell_type": "code",
   "execution_count": null,
   "id": "890df7c4-1d69-4f2e-bf60-ddc508df48c7",
   "metadata": {},
   "outputs": [],
   "source": [
    "df.to_csv('#datafolha.csv', index=False)"
   ]
  },
  {
   "cell_type": "code",
   "execution_count": null,
   "id": "bafdf1e8-5d3d-4a1b-8879-bc20b1faef72",
   "metadata": {},
   "outputs": [],
   "source": [
    "rt_df = df[df['retweeted_from'].notnull()]\n",
    "rt_df.shape"
   ]
  },
  {
   "cell_type": "code",
   "execution_count": null,
   "id": "594fbfef-615a-4812-9cd5-ab07642f229e",
   "metadata": {},
   "outputs": [],
   "source": [
    "rt_df.head()"
   ]
  },
  {
   "cell_type": "code",
   "execution_count": null,
   "id": "6bec17bf-6bb0-401e-98aa-772dfe559143",
   "metadata": {},
   "outputs": [],
   "source": [
    "rt_df[['user_info', 'retweeted_from']].sample()"
   ]
  },
  {
   "cell_type": "code",
   "execution_count": null,
   "id": "935fc910-b818-4481-9bfe-42bff66a33b8",
   "metadata": {},
   "outputs": [],
   "source": [
    "rt_match = []\n",
    "\n",
    "for idx, rt in rt_df[['user_info', 'retweeted_from']].iterrows():\n",
    "    rt_match.append((rt['user_info']['screen_name'], rt['retweeted_from']['user']))"
   ]
  },
  {
   "cell_type": "code",
   "execution_count": null,
   "id": "7dbba9f2-ab33-4078-9a41-30d6b0f179a6",
   "metadata": {},
   "outputs": [],
   "source": [
    "rt_match[:5]"
   ]
  },
  {
   "cell_type": "code",
   "execution_count": null,
   "id": "009a8266-61b6-4656-9692-ec085267fd34",
   "metadata": {},
   "outputs": [],
   "source": [
    "df_rt_match = pd.DataFrame(columns=['source', 'target'], data=rt_match)\n",
    "df_rt_match.head()"
   ]
  },
  {
   "cell_type": "code",
   "execution_count": null,
   "id": "537b42fa-833d-41fd-a324-24d434d63f53",
   "metadata": {},
   "outputs": [],
   "source": [
    "df_rt_match.value_counts()"
   ]
  },
  {
   "cell_type": "code",
   "execution_count": null,
   "id": "74c73b68-e5b7-4648-9ffe-027ed8c51401",
   "metadata": {},
   "outputs": [],
   "source": [
    "tts2 = search._30_days('#datafolha OR datafolha', since='2022-09-21', amount=10000)"
   ]
  },
  {
   "cell_type": "code",
   "execution_count": null,
   "id": "0e0b292a-453c-4174-a72e-73f3df5e1f4a",
   "metadata": {},
   "outputs": [],
   "source": [
    "tts2._info"
   ]
  },
  {
   "cell_type": "code",
   "execution_count": null,
   "id": "0f9f7ba5-6fd3-421f-8efb-831692c95955",
   "metadata": {},
   "outputs": [],
   "source": [
    "conv_date_ISO('2022-05-09 15:30')"
   ]
  },
  {
   "cell_type": "code",
   "execution_count": null,
   "id": "f12dca46-4fb5-4d37-afea-5b001bc232b1",
   "metadata": {},
   "outputs": [],
   "source": [
    "import tweepy as tw\n",
    "from config import *\n",
    "from modules.utils import *\n",
    "from modules.search import Search\n",
    "import pandas as pd"
   ]
  },
  {
   "cell_type": "code",
   "execution_count": null,
   "id": "6a8c02bf-d7e0-48d2-a891-f83076fa845d",
   "metadata": {},
   "outputs": [],
   "source": [
    "search = Search(API_KEY, API_SECRET, ACCESS_TOKEN, ACCESS_TOKEN_SECRET, BEARER_TOKEN, SANDBOX_LABEL)"
   ]
  },
  {
   "cell_type": "code",
   "execution_count": null,
   "id": "10991b50-4696-488e-8114-cc1e854d04de",
   "metadata": {},
   "outputs": [],
   "source": [
    "tt_list = search._archive_api2(query='magic the gathering', lang='pt', since='2022-10-02 12:30', until='2022-10-04 23:30', amount=100)"
   ]
  },
  {
   "cell_type": "code",
   "execution_count": null,
   "id": "000ba1fb-0137-4621-b434-bd3a08924156",
   "metadata": {},
   "outputs": [],
   "source": [
    "tt_list._info"
   ]
  },
  {
   "cell_type": "code",
   "execution_count": null,
   "id": "95aa1c0f-6c57-4b13-abaa-e61a5a26ee60",
   "metadata": {},
   "outputs": [],
   "source": [
    "tt_list.get_dataframe().head()"
   ]
  },
  {
   "cell_type": "code",
   "execution_count": null,
   "id": "51ad2210-a5ba-4422-ad5d-02605d3e7e9e",
   "metadata": {},
   "outputs": [],
   "source": [
    "tt_list.get_tweets_dict()[0].data."
   ]
  },
  {
   "cell_type": "code",
   "execution_count": null,
   "id": "ef71c3c1-1e6a-49c8-8117-45a609004b39",
   "metadata": {},
   "outputs": [],
   "source": [
    "client = search.get_client()"
   ]
  },
  {
   "cell_type": "code",
   "execution_count": null,
   "id": "beef4e2a-cc41-49a6-9a54-7460400524a8",
   "metadata": {},
   "outputs": [],
   "source": [
    "resp2 = client.search_recent_tweets(query='magic the gathering', next_token='b26v89c19zqg8o3fpzbmmcou6dzct5lznm2oeyglevibh')"
   ]
  }
 ],
 "metadata": {
  "kernelspec": {
   "display_name": "Python 3 (ipykernel)",
   "language": "python",
   "name": "python3"
  },
  "language_info": {
   "codemirror_mode": {
    "name": "ipython",
    "version": 3
   },
   "file_extension": ".py",
   "mimetype": "text/x-python",
   "name": "python",
   "nbconvert_exporter": "python",
   "pygments_lexer": "ipython3",
   "version": "3.10.4"
  }
 },
 "nbformat": 4,
 "nbformat_minor": 5
}
