{
 "cells": [
  {
   "cell_type": "code",
   "execution_count": 1,
   "id": "148ff2a9-aa33-40f7-8466-0d2da4de5870",
   "metadata": {},
   "outputs": [],
   "source": [
    "import tweepy as tw\n",
    "from config import *\n",
    "from modules.utils import *\n",
    "from modules.search import Search\n",
    "import pandas as pd"
   ]
  },
  {
   "cell_type": "code",
   "execution_count": 2,
   "id": "e66f0a9b-425d-4be5-b6a6-deca5322cb2a",
   "metadata": {},
   "outputs": [],
   "source": [
    "search = Search(API_KEY, API_SECRET, ACCESS_TOKEN, ACCESS_TOKEN_SECRET, BEARER_TOKEN, SANDBOX_LABEL)"
   ]
  },
  {
   "cell_type": "code",
   "execution_count": 3,
   "id": "57b9b63c-5405-452f-aac1-a290c1b6faf3",
   "metadata": {},
   "outputs": [],
   "source": [
    "tweets_recent = search._recent('#HouseOfTheDragonEp6', amount=1000)"
   ]
  },
  {
   "cell_type": "code",
   "execution_count": 4,
   "id": "3aefa722-c790-4f9b-b5c4-eb76c13cd499",
   "metadata": {},
   "outputs": [
    {
     "name": "stdout",
     "output_type": "stream",
     "text": [
      "This collection contains 715 tweets. Extraction method: recent.\n"
     ]
    }
   ],
   "source": [
    "print(tweets_recent._info)"
   ]
  },
  {
   "cell_type": "code",
   "execution_count": 5,
   "id": "01b57555-92ba-4022-b42e-e31a9587eb4a",
   "metadata": {},
   "outputs": [
    {
     "data": {
      "text/plain": [
       "(715, 15)"
      ]
     },
     "execution_count": 5,
     "metadata": {},
     "output_type": "execute_result"
    }
   ],
   "source": [
    "df_recent = tweets_recent.get_dataframe()\n",
    "df_recent.shape"
   ]
  },
  {
   "cell_type": "code",
   "execution_count": 6,
   "id": "cfb4fba8-b1ee-471b-b2ba-219883d2d87a",
   "metadata": {},
   "outputs": [
    {
     "data": {
      "text/html": [
       "<div>\n",
       "<style scoped>\n",
       "    .dataframe tbody tr th:only-of-type {\n",
       "        vertical-align: middle;\n",
       "    }\n",
       "\n",
       "    .dataframe tbody tr th {\n",
       "        vertical-align: top;\n",
       "    }\n",
       "\n",
       "    .dataframe thead th {\n",
       "        text-align: right;\n",
       "    }\n",
       "</style>\n",
       "<table border=\"1\" class=\"dataframe\">\n",
       "  <thead>\n",
       "    <tr style=\"text-align: right;\">\n",
       "      <th></th>\n",
       "      <th>created_at</th>\n",
       "      <th>tweet_id</th>\n",
       "      <th>tweet_content</th>\n",
       "      <th>user</th>\n",
       "      <th>user_info</th>\n",
       "      <th>has_mention</th>\n",
       "      <th>native_mentions</th>\n",
       "      <th>retweet_mentions</th>\n",
       "      <th>is_reply</th>\n",
       "      <th>reply_to</th>\n",
       "      <th>is_quote</th>\n",
       "      <th>quoted_from</th>\n",
       "      <th>is_retweet</th>\n",
       "      <th>retweeted_from</th>\n",
       "      <th>hashtags</th>\n",
       "    </tr>\n",
       "  </thead>\n",
       "  <tbody>\n",
       "    <tr>\n",
       "      <th>125</th>\n",
       "      <td>Mon Sep 26 22:12:55 +0000 2022</td>\n",
       "      <td>1574522432706207777</td>\n",
       "      <td>Todo domingo é a mesma emoção e eu só queria q...</td>\n",
       "      <td>uol_play</td>\n",
       "      <td>{'name': 'UOL Play', 'id': 1190345708605493248...</td>\n",
       "      <td>True</td>\n",
       "      <td>[{'user': 'HBOMaxBR', 'user_id': 1267893920970...</td>\n",
       "      <td>None</td>\n",
       "      <td>True</td>\n",
       "      <td>{'user': 'uol_play', 'user_id': 11903457086054...</td>\n",
       "      <td>False</td>\n",
       "      <td>None</td>\n",
       "      <td>False</td>\n",
       "      <td>None</td>\n",
       "      <td>[#ACasaDoDragão, #UOLPlay, #HouseOfTheDragon, ...</td>\n",
       "    </tr>\n",
       "    <tr>\n",
       "      <th>354</th>\n",
       "      <td>Mon Sep 26 03:13:58 +0000 2022</td>\n",
       "      <td>1574235805320728576</td>\n",
       "      <td>calma geovanna pq ainda tem o inicio da dança ...</td>\n",
       "      <td>blackthornn_</td>\n",
       "      <td>{'name': 'geov🇦nn🇦 🇮🇹🦊', 'id': 970758126, 'des...</td>\n",
       "      <td>False</td>\n",
       "      <td>None</td>\n",
       "      <td>None</td>\n",
       "      <td>True</td>\n",
       "      <td>{'user': 'blackthornn_', 'user_id': 970758126,...</td>\n",
       "      <td>False</td>\n",
       "      <td>None</td>\n",
       "      <td>False</td>\n",
       "      <td>None</td>\n",
       "      <td>[#HouseOfTheDragonEp6]</td>\n",
       "    </tr>\n",
       "    <tr>\n",
       "      <th>363</th>\n",
       "      <td>Mon Sep 26 03:12:06 +0000 2022</td>\n",
       "      <td>1574235335722422273</td>\n",
       "      <td>E principalmente também o spin-off que está se...</td>\n",
       "      <td>jannnfigueiredo</td>\n",
       "      <td>{'name': 'Janaína Figueiredo', 'id': 323490235...</td>\n",
       "      <td>False</td>\n",
       "      <td>None</td>\n",
       "      <td>None</td>\n",
       "      <td>True</td>\n",
       "      <td>{'user': 'jannnfigueiredo', 'user_id': 3234902...</td>\n",
       "      <td>False</td>\n",
       "      <td>None</td>\n",
       "      <td>False</td>\n",
       "      <td>None</td>\n",
       "      <td>[#hotd, #HOTD, #HouseOftheDragon, #HouseTargar...</td>\n",
       "    </tr>\n",
       "    <tr>\n",
       "      <th>387</th>\n",
       "      <td>Mon Sep 26 03:07:27 +0000 2022</td>\n",
       "      <td>1574234164131414016</td>\n",
       "      <td>Não vamos nos esquecer do hetero topzeira de W...</td>\n",
       "      <td>cirillo_</td>\n",
       "      <td>{'name': '𝗙𝗲𝗹𝗶𝗽𝗲', 'id': 66043334, 'descriptio...</td>\n",
       "      <td>False</td>\n",
       "      <td>None</td>\n",
       "      <td>None</td>\n",
       "      <td>True</td>\n",
       "      <td>{'user': 'cirillo_', 'user_id': 66043334, 'sta...</td>\n",
       "      <td>False</td>\n",
       "      <td>None</td>\n",
       "      <td>False</td>\n",
       "      <td>None</td>\n",
       "      <td>[#HouseOfTheDragonEp6, #HOTD, #HouseTargaryen]</td>\n",
       "    </tr>\n",
       "    <tr>\n",
       "      <th>396</th>\n",
       "      <td>Mon Sep 26 03:06:35 +0000 2022</td>\n",
       "      <td>1574233947835432960</td>\n",
       "      <td>Dizem que é previsto 6 spin-offs e tem que man...</td>\n",
       "      <td>jannnfigueiredo</td>\n",
       "      <td>{'name': 'Janaína Figueiredo', 'id': 323490235...</td>\n",
       "      <td>False</td>\n",
       "      <td>None</td>\n",
       "      <td>None</td>\n",
       "      <td>True</td>\n",
       "      <td>{'user': 'jannnfigueiredo', 'user_id': 3234902...</td>\n",
       "      <td>False</td>\n",
       "      <td>None</td>\n",
       "      <td>False</td>\n",
       "      <td>None</td>\n",
       "      <td>[#hotd, #HouseTargaryen, #HouseOfTheDragonEp6,...</td>\n",
       "    </tr>\n",
       "    <tr>\n",
       "      <th>424</th>\n",
       "      <td>Mon Sep 26 03:01:54 +0000 2022</td>\n",
       "      <td>1574232767843508224</td>\n",
       "      <td>Assim sem desenvolver, vai desgastar! Se vai t...</td>\n",
       "      <td>jannnfigueiredo</td>\n",
       "      <td>{'name': 'Janaína Figueiredo', 'id': 323490235...</td>\n",
       "      <td>False</td>\n",
       "      <td>None</td>\n",
       "      <td>None</td>\n",
       "      <td>True</td>\n",
       "      <td>{'user': 'jannnfigueiredo', 'user_id': 3234902...</td>\n",
       "      <td>False</td>\n",
       "      <td>None</td>\n",
       "      <td>False</td>\n",
       "      <td>None</td>\n",
       "      <td>[#hotd, #HouseTargaryen, #HouseOfTheDragonEp6,...</td>\n",
       "    </tr>\n",
       "    <tr>\n",
       "      <th>492</th>\n",
       "      <td>Mon Sep 26 02:50:18 +0000 2022</td>\n",
       "      <td>1574229848951705600</td>\n",
       "      <td>@iagohalmeida @housethedragons @MrMattNeedham ...</td>\n",
       "      <td>c_13HOTD</td>\n",
       "      <td>{'name': 'C_sousa', 'id': 1423670966513717248,...</td>\n",
       "      <td>True</td>\n",
       "      <td>[{'user': 'iagohalmeida', 'user_id': 127227052...</td>\n",
       "      <td>None</td>\n",
       "      <td>True</td>\n",
       "      <td>{'user': 'iagohalmeida', 'user_id': 1272270525...</td>\n",
       "      <td>False</td>\n",
       "      <td>None</td>\n",
       "      <td>False</td>\n",
       "      <td>None</td>\n",
       "      <td>[#HouseOfTheDragonEp6, #HouseOftheDragon]</td>\n",
       "    </tr>\n",
       "    <tr>\n",
       "      <th>506</th>\n",
       "      <td>Mon Sep 26 02:48:23 +0000 2022</td>\n",
       "      <td>1574229366976008192</td>\n",
       "      <td>@housethedragons Coitado.....Kskskskakakakak a...</td>\n",
       "      <td>LoriImSuper</td>\n",
       "      <td>{'name': 'Super iludida', 'id': 12219715235710...</td>\n",
       "      <td>True</td>\n",
       "      <td>[{'user': 'housethedragons', 'user_id': 144189...</td>\n",
       "      <td>None</td>\n",
       "      <td>True</td>\n",
       "      <td>{'user': 'housethedragons', 'user_id': 1441892...</td>\n",
       "      <td>False</td>\n",
       "      <td>None</td>\n",
       "      <td>False</td>\n",
       "      <td>None</td>\n",
       "      <td>[#HouseOfTheDragonEp6]</td>\n",
       "    </tr>\n",
       "    <tr>\n",
       "      <th>553</th>\n",
       "      <td>Mon Sep 26 02:42:02 +0000 2022</td>\n",
       "      <td>1574227770271375361</td>\n",
       "      <td>@semproblas Meu irmão, tem que ser ele cara!!!...</td>\n",
       "      <td>RaiSilva__</td>\n",
       "      <td>{'name': 'Raí Silva', 'id': 4776041206, 'descr...</td>\n",
       "      <td>True</td>\n",
       "      <td>[{'user': 'semproblas', 'user_id': 15729229120...</td>\n",
       "      <td>None</td>\n",
       "      <td>True</td>\n",
       "      <td>{'user': 'semproblas', 'user_id': 157292291201...</td>\n",
       "      <td>False</td>\n",
       "      <td>None</td>\n",
       "      <td>False</td>\n",
       "      <td>None</td>\n",
       "      <td>[#HouseOfTheDragonEp6, #houseofdragon]</td>\n",
       "    </tr>\n",
       "  </tbody>\n",
       "</table>\n",
       "</div>"
      ],
      "text/plain": [
       "                         created_at             tweet_id  \\\n",
       "125  Mon Sep 26 22:12:55 +0000 2022  1574522432706207777   \n",
       "354  Mon Sep 26 03:13:58 +0000 2022  1574235805320728576   \n",
       "363  Mon Sep 26 03:12:06 +0000 2022  1574235335722422273   \n",
       "387  Mon Sep 26 03:07:27 +0000 2022  1574234164131414016   \n",
       "396  Mon Sep 26 03:06:35 +0000 2022  1574233947835432960   \n",
       "424  Mon Sep 26 03:01:54 +0000 2022  1574232767843508224   \n",
       "492  Mon Sep 26 02:50:18 +0000 2022  1574229848951705600   \n",
       "506  Mon Sep 26 02:48:23 +0000 2022  1574229366976008192   \n",
       "553  Mon Sep 26 02:42:02 +0000 2022  1574227770271375361   \n",
       "\n",
       "                                         tweet_content             user  \\\n",
       "125  Todo domingo é a mesma emoção e eu só queria q...         uol_play   \n",
       "354  calma geovanna pq ainda tem o inicio da dança ...     blackthornn_   \n",
       "363  E principalmente também o spin-off que está se...  jannnfigueiredo   \n",
       "387  Não vamos nos esquecer do hetero topzeira de W...         cirillo_   \n",
       "396  Dizem que é previsto 6 spin-offs e tem que man...  jannnfigueiredo   \n",
       "424  Assim sem desenvolver, vai desgastar! Se vai t...  jannnfigueiredo   \n",
       "492  @iagohalmeida @housethedragons @MrMattNeedham ...         c_13HOTD   \n",
       "506  @housethedragons Coitado.....Kskskskakakakak a...      LoriImSuper   \n",
       "553  @semproblas Meu irmão, tem que ser ele cara!!!...       RaiSilva__   \n",
       "\n",
       "                                             user_info  has_mention  \\\n",
       "125  {'name': 'UOL Play', 'id': 1190345708605493248...         True   \n",
       "354  {'name': 'geov🇦nn🇦 🇮🇹🦊', 'id': 970758126, 'des...        False   \n",
       "363  {'name': 'Janaína Figueiredo', 'id': 323490235...        False   \n",
       "387  {'name': '𝗙𝗲𝗹𝗶𝗽𝗲', 'id': 66043334, 'descriptio...        False   \n",
       "396  {'name': 'Janaína Figueiredo', 'id': 323490235...        False   \n",
       "424  {'name': 'Janaína Figueiredo', 'id': 323490235...        False   \n",
       "492  {'name': 'C_sousa', 'id': 1423670966513717248,...         True   \n",
       "506  {'name': 'Super iludida', 'id': 12219715235710...         True   \n",
       "553  {'name': 'Raí Silva', 'id': 4776041206, 'descr...         True   \n",
       "\n",
       "                                       native_mentions retweet_mentions  \\\n",
       "125  [{'user': 'HBOMaxBR', 'user_id': 1267893920970...             None   \n",
       "354                                               None             None   \n",
       "363                                               None             None   \n",
       "387                                               None             None   \n",
       "396                                               None             None   \n",
       "424                                               None             None   \n",
       "492  [{'user': 'iagohalmeida', 'user_id': 127227052...             None   \n",
       "506  [{'user': 'housethedragons', 'user_id': 144189...             None   \n",
       "553  [{'user': 'semproblas', 'user_id': 15729229120...             None   \n",
       "\n",
       "     is_reply                                           reply_to  is_quote  \\\n",
       "125      True  {'user': 'uol_play', 'user_id': 11903457086054...     False   \n",
       "354      True  {'user': 'blackthornn_', 'user_id': 970758126,...     False   \n",
       "363      True  {'user': 'jannnfigueiredo', 'user_id': 3234902...     False   \n",
       "387      True  {'user': 'cirillo_', 'user_id': 66043334, 'sta...     False   \n",
       "396      True  {'user': 'jannnfigueiredo', 'user_id': 3234902...     False   \n",
       "424      True  {'user': 'jannnfigueiredo', 'user_id': 3234902...     False   \n",
       "492      True  {'user': 'iagohalmeida', 'user_id': 1272270525...     False   \n",
       "506      True  {'user': 'housethedragons', 'user_id': 1441892...     False   \n",
       "553      True  {'user': 'semproblas', 'user_id': 157292291201...     False   \n",
       "\n",
       "    quoted_from  is_retweet retweeted_from  \\\n",
       "125        None       False           None   \n",
       "354        None       False           None   \n",
       "363        None       False           None   \n",
       "387        None       False           None   \n",
       "396        None       False           None   \n",
       "424        None       False           None   \n",
       "492        None       False           None   \n",
       "506        None       False           None   \n",
       "553        None       False           None   \n",
       "\n",
       "                                              hashtags  \n",
       "125  [#ACasaDoDragão, #UOLPlay, #HouseOfTheDragon, ...  \n",
       "354                             [#HouseOfTheDragonEp6]  \n",
       "363  [#hotd, #HOTD, #HouseOftheDragon, #HouseTargar...  \n",
       "387     [#HouseOfTheDragonEp6, #HOTD, #HouseTargaryen]  \n",
       "396  [#hotd, #HouseTargaryen, #HouseOfTheDragonEp6,...  \n",
       "424  [#hotd, #HouseTargaryen, #HouseOfTheDragonEp6,...  \n",
       "492          [#HouseOfTheDragonEp6, #HouseOftheDragon]  \n",
       "506                             [#HouseOfTheDragonEp6]  \n",
       "553             [#HouseOfTheDragonEp6, #houseofdragon]  "
      ]
     },
     "execution_count": 6,
     "metadata": {},
     "output_type": "execute_result"
    }
   ],
   "source": [
    "df_recent.query('is_reply==True')"
   ]
  },
  {
   "cell_type": "code",
   "execution_count": null,
   "id": "fa97a19f-aa68-4a25-b73d-daac00333637",
   "metadata": {},
   "outputs": [],
   "source": [
    "rt = {}\n",
    "\n",
    "for tweet in tweets_recent.get_tweets_dict():\n",
    "    if 'retweeted_status' in tweet.keys() and tweet['retweeted_status']['entities']['user_mentions']:\n",
    "        rt = tweet\n",
    "rt"
   ]
  },
  {
   "cell_type": "code",
   "execution_count": null,
   "id": "a819a894-07a0-4763-9221-6c062de7c4b5",
   "metadata": {},
   "outputs": [],
   "source": [
    "tweets_30_days = search._archive('#HouseOfTheDragonEp6', lang='pt', amount=500)"
   ]
  },
  {
   "cell_type": "code",
   "execution_count": null,
   "id": "0cda4d3a-6da3-4baa-9df0-bcdbc371de00",
   "metadata": {},
   "outputs": [],
   "source": [
    "tweets_30_days._info"
   ]
  },
  {
   "cell_type": "code",
   "execution_count": null,
   "id": "d05a7e30-e25d-42fc-804c-a7751c236db8",
   "metadata": {},
   "outputs": [],
   "source": [
    "df_old = tweets_30_days.get_dataframe()\n",
    "df_old.shape"
   ]
  },
  {
   "cell_type": "code",
   "execution_count": null,
   "id": "9da4a907-a1ab-4be4-9cd1-f324a39d35bd",
   "metadata": {},
   "outputs": [],
   "source": [
    "df_old.query('has_mention==True')"
   ]
  },
  {
   "cell_type": "code",
   "execution_count": null,
   "id": "3e8c65a2-b323-4657-a2d5-8920d128bf58",
   "metadata": {},
   "outputs": [],
   "source": [
    "df_old.sample(15)"
   ]
  },
  {
   "cell_type": "code",
   "execution_count": null,
   "id": "2735f681-ee80-4427-a939-e3be6188be48",
   "metadata": {},
   "outputs": [],
   "source": [
    "rt = {}\n",
    "\n",
    "for tweet in tweets_30_days.get_tweets_dict():\n",
    "    if 'retweeted_status' not in tweet.keys() and not tweet['truncated']:\n",
    "        rt = tweet\n",
    "rt"
   ]
  },
  {
   "cell_type": "code",
   "execution_count": null,
   "id": "a57dedb2-6dbc-4d15-93ea-46de9699e2c2",
   "metadata": {},
   "outputs": [],
   "source": [
    "for tweet in tweets_arquivo.get_tweets_dict():\n",
    "    if tweet['truncated'] == True:\n",
    "        trunc = tweet\n",
    "trunc"
   ]
  },
  {
   "cell_type": "code",
   "execution_count": null,
   "id": "bf333621-d0bd-4fda-9953-301541eaebc2",
   "metadata": {},
   "outputs": [],
   "source": [
    "tt_media= search._archive('Foils for the collection!', amount=10)"
   ]
  },
  {
   "cell_type": "code",
   "execution_count": null,
   "id": "f18ad7af-8a9b-42d5-8907-65ea07e39bd2",
   "metadata": {},
   "outputs": [],
   "source": [
    "tt_media.get_tweets_dict()[1]"
   ]
  },
  {
   "cell_type": "code",
   "execution_count": null,
   "id": "b6060a44-e500-422c-a334-d2e2d1b6fdbd",
   "metadata": {},
   "outputs": [],
   "source": [
    "one_media = search._recent('A direita tá se unindo né', amount=100).get_tweets_dict()"
   ]
  },
  {
   "cell_type": "code",
   "execution_count": null,
   "id": "9c9a2a7b-bf2b-44b0-b106-54a75b551d37",
   "metadata": {},
   "outputs": [],
   "source": [
    "one_media[23]"
   ]
  },
  {
   "cell_type": "code",
   "execution_count": null,
   "id": "f6ecd88f-65cb-4919-b85f-90680f5514c8",
   "metadata": {},
   "outputs": [],
   "source": [
    "tweets_hash = search._archive('#datafolha', amount=200)"
   ]
  },
  {
   "cell_type": "code",
   "execution_count": null,
   "id": "4881f7db-3197-4e4a-af60-2eadd200ea22",
   "metadata": {},
   "outputs": [],
   "source": [
    "tweets_hash.get_tweets_dict()[5]"
   ]
  },
  {
   "cell_type": "code",
   "execution_count": null,
   "id": "4a331a4b-d24c-4d4f-8e17-e7e7104cc91f",
   "metadata": {},
   "outputs": [],
   "source": [
    "tts = search._recent('#datafolha OR datafolha', lang='pt', amount=100000)"
   ]
  },
  {
   "cell_type": "code",
   "execution_count": null,
   "id": "bdcd698f-f942-4c96-800a-234efa698d48",
   "metadata": {},
   "outputs": [],
   "source": [
    "tts._info"
   ]
  },
  {
   "cell_type": "code",
   "execution_count": null,
   "id": "c562184c-32bf-4146-8c00-db280c2480e2",
   "metadata": {},
   "outputs": [],
   "source": [
    "df = tts.get_dataframe()\n",
    "df.sample(10)"
   ]
  },
  {
   "cell_type": "code",
   "execution_count": null,
   "id": "890df7c4-1d69-4f2e-bf60-ddc508df48c7",
   "metadata": {},
   "outputs": [],
   "source": [
    "df.to_csv('#datafolha.csv', index=False)"
   ]
  },
  {
   "cell_type": "code",
   "execution_count": null,
   "id": "bafdf1e8-5d3d-4a1b-8879-bc20b1faef72",
   "metadata": {},
   "outputs": [],
   "source": [
    "rt_df = df[df['retweeted_from'].notnull()]\n",
    "rt_df.shape"
   ]
  },
  {
   "cell_type": "code",
   "execution_count": null,
   "id": "594fbfef-615a-4812-9cd5-ab07642f229e",
   "metadata": {},
   "outputs": [],
   "source": [
    "rt_df.head()"
   ]
  },
  {
   "cell_type": "code",
   "execution_count": null,
   "id": "6bec17bf-6bb0-401e-98aa-772dfe559143",
   "metadata": {},
   "outputs": [],
   "source": [
    "rt_df[['user_info', 'retweeted_from']].sample()"
   ]
  },
  {
   "cell_type": "code",
   "execution_count": null,
   "id": "935fc910-b818-4481-9bfe-42bff66a33b8",
   "metadata": {},
   "outputs": [],
   "source": [
    "rt_match = []\n",
    "\n",
    "for idx, rt in rt_df[['user_info', 'retweeted_from']].iterrows():\n",
    "    rt_match.append((rt['user_info']['screen_name'], rt['retweeted_from']['user']))"
   ]
  },
  {
   "cell_type": "code",
   "execution_count": null,
   "id": "7dbba9f2-ab33-4078-9a41-30d6b0f179a6",
   "metadata": {},
   "outputs": [],
   "source": [
    "rt_match[:5]"
   ]
  },
  {
   "cell_type": "code",
   "execution_count": null,
   "id": "009a8266-61b6-4656-9692-ec085267fd34",
   "metadata": {},
   "outputs": [],
   "source": [
    "df_rt_match = pd.DataFrame(columns=['source', 'target'], data=rt_match)\n",
    "df_rt_match.head()"
   ]
  },
  {
   "cell_type": "code",
   "execution_count": null,
   "id": "537b42fa-833d-41fd-a324-24d434d63f53",
   "metadata": {},
   "outputs": [],
   "source": [
    "df_rt_match.value_counts()"
   ]
  },
  {
   "cell_type": "code",
   "execution_count": null,
   "id": "74c73b68-e5b7-4648-9ffe-027ed8c51401",
   "metadata": {},
   "outputs": [],
   "source": [
    "tts2 = search._30_days('#datafolha OR datafolha', since='2022-09-21', amount=10000)"
   ]
  },
  {
   "cell_type": "code",
   "execution_count": null,
   "id": "0e0b292a-453c-4174-a72e-73f3df5e1f4a",
   "metadata": {},
   "outputs": [],
   "source": [
    "tts2._info"
   ]
  },
  {
   "cell_type": "code",
   "execution_count": null,
   "id": "0f9f7ba5-6fd3-421f-8efb-831692c95955",
   "metadata": {},
   "outputs": [],
   "source": []
  }
 ],
 "metadata": {
  "kernelspec": {
   "display_name": "Python 3 (ipykernel)",
   "language": "python",
   "name": "python3"
  },
  "language_info": {
   "codemirror_mode": {
    "name": "ipython",
    "version": 3
   },
   "file_extension": ".py",
   "mimetype": "text/x-python",
   "name": "python",
   "nbconvert_exporter": "python",
   "pygments_lexer": "ipython3",
   "version": "3.10.4"
  }
 },
 "nbformat": 4,
 "nbformat_minor": 5
}
