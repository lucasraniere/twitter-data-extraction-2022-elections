{
 "cells": [
  {
   "cell_type": "code",
   "execution_count": null,
   "id": "148ff2a9-aa33-40f7-8466-0d2da4de5870",
   "metadata": {},
   "outputs": [],
   "source": [
    "import tweepy as tw\n",
    "from config import *\n",
    "from modules.utils import *\n",
    "from modules.search import Search\n",
    "import pandas as pd"
   ]
  },
  {
   "cell_type": "code",
   "execution_count": null,
   "id": "e66f0a9b-425d-4be5-b6a6-deca5322cb2a",
   "metadata": {},
   "outputs": [],
   "source": [
    "search = Search(API_KEY, API_SECRET, ACCESS_TOKEN, ACCESS_TOKEN_SECRET, BEARER_TOKEN, SANDBOX_LABEL)"
   ]
  },
  {
   "cell_type": "code",
   "execution_count": null,
   "id": "5fc8ff09-2f0e-46b1-aa9b-85a837c14d87",
   "metadata": {},
   "outputs": [],
   "source": [
    "tt_teste = search._archive_api2(query='python', lang='pt', since='2022-08-01 00:00', until='2022-08-03 23:59')"
   ]
  },
  {
   "cell_type": "code",
   "execution_count": null,
   "id": "757054b6-d70c-4f52-bf82-93e61fa19a11",
   "metadata": {},
   "outputs": [],
   "source": [
    "tt_teste._info"
   ]
  },
  {
   "cell_type": "code",
   "execution_count": null,
   "id": "e55fa095-74ff-429e-8994-1f0cfde8a941",
   "metadata": {},
   "outputs": [],
   "source": [
    "tweets, includes = tt_teste.get_tweets_dict()"
   ]
  },
  {
   "cell_type": "code",
   "execution_count": null,
   "id": "d4143493-8387-4ee9-8f83-cd2a1818d3c0",
   "metadata": {},
   "outputs": [],
   "source": [
    "df = tt_teste.get_dataframe()"
   ]
  },
  {
   "cell_type": "code",
   "execution_count": null,
   "id": "284c066c-01d0-404f-a04f-810b9d71c43f",
   "metadata": {},
   "outputs": [],
   "source": [
    "tweets[1].data"
   ]
  },
  {
   "cell_type": "code",
   "execution_count": null,
   "id": "e6e5aca7-453d-438a-b6ec-fa17e10eb9c3",
   "metadata": {},
   "outputs": [],
   "source": [
    "tweets[430].data"
   ]
  },
  {
   "cell_type": "code",
   "execution_count": null,
   "id": "1cf42a9a-6003-4f1e-a074-e9784ec02ffc",
   "metadata": {},
   "outputs": [],
   "source": [
    "df.query('is_quote == True').sample(20)"
   ]
  },
  {
   "cell_type": "code",
   "execution_count": null,
   "id": "a6c09f0f-8d4d-4e57-b5b6-6f35e7426bdc",
   "metadata": {},
   "outputs": [],
   "source": [
    "for tweet in includes['tweets']:\n",
    "    if tweet.id == 1555016554089177091:\n",
    "        print(tweet)"
   ]
  },
  {
   "cell_type": "code",
   "execution_count": null,
   "id": "ae7ba379-4ecc-4f15-95e2-3aff767e94dd",
   "metadata": {},
   "outputs": [],
   "source": [
    "tt_teste.check_includes_tweet(1555016554089177091)"
   ]
  },
  {
   "cell_type": "code",
   "execution_count": null,
   "id": "94097c65-6fce-4fcd-b7a9-678a3f92ff4f",
   "metadata": {},
   "outputs": [],
   "source": [
    "search.get_client().get_tweet(id=1554153779519520771)"
   ]
  },
  {
   "cell_type": "code",
   "execution_count": null,
   "id": "42b7cb4a-1223-41ca-a54d-d5b616fc549e",
   "metadata": {},
   "outputs": [],
   "source": [
    "#tt_teste = search._archive_api2(query='BOLSONARO NÃO TRABALHA', lang='pt', since='2022-08-01 00:00', until='2022-08-03 23:59')"
   ]
  },
  {
   "cell_type": "code",
   "execution_count": null,
   "id": "5aaa1b0a-d03c-4c22-b644-ed0f33e54ab0",
   "metadata": {},
   "outputs": [],
   "source": [
    "tt_teste._info"
   ]
  },
  {
   "cell_type": "code",
   "execution_count": null,
   "id": "e18cdabf-49ec-4185-91bc-d563d8abff90",
   "metadata": {},
   "outputs": [],
   "source": [
    "tweets, includes = tt_teste.get_tweets_dict()"
   ]
  },
  {
   "cell_type": "code",
   "execution_count": null,
   "id": "a12a3967-3ad2-48c8-b650-bb6568711a9b",
   "metadata": {},
   "outputs": [],
   "source": [
    "tweets[0].entities['mentions']"
   ]
  },
  {
   "cell_type": "code",
   "execution_count": null,
   "id": "92e73d0b-9128-455c-95c4-93ab221659b4",
   "metadata": {},
   "outputs": [],
   "source": [
    "includes['tweets'][0].data"
   ]
  },
  {
   "cell_type": "code",
   "execution_count": null,
   "id": "cbe574be-7875-42c8-8fd6-89ee6235706d",
   "metadata": {},
   "outputs": [],
   "source": [
    "tt=[]\n",
    "for tweet in tweets:\n",
    "    if tweet.referenced_tweets:\n",
    "        if len(tweet.referenced_tweets)>1:\n",
    "            tt.append(tweet)"
   ]
  },
  {
   "cell_type": "code",
   "execution_count": null,
   "id": "7fe40f69-ab16-40f0-bded-741c778f001c",
   "metadata": {},
   "outputs": [],
   "source": [
    "len(tt)"
   ]
  },
  {
   "cell_type": "code",
   "execution_count": null,
   "id": "86ef8868-63c5-4578-a34a-0a0bb8a03d8d",
   "metadata": {},
   "outputs": [],
   "source": [
    "tt[7].data"
   ]
  },
  {
   "cell_type": "code",
   "execution_count": null,
   "id": "6dd2814e-cfa9-4442-b400-bc88883da981",
   "metadata": {},
   "outputs": [],
   "source": [
    "for user in includes['users']:\n",
    "    if user.id == 1245761099380686848:\n",
    "        print(user.username)\n",
    "        break"
   ]
  },
  {
   "cell_type": "code",
   "execution_count": null,
   "id": "61911ad3-1da7-4bbb-80fd-f10148c5ff18",
   "metadata": {},
   "outputs": [],
   "source": [
    "referenced_tweets = []\n",
    "includes_tweets = [tweet.id for tweet in includes['tweets']]\n",
    "\n",
    "for tweet in tweets:\n",
    "    if 'referenced_tweets' in tweet.data.keys():\n",
    "        for tt in tweet.referenced_tweets:\n",
    "            referenced_tweets.append(tt.id)"
   ]
  },
  {
   "cell_type": "code",
   "execution_count": null,
   "id": "19d2af07-0351-4e19-b41b-c2933f2d3b11",
   "metadata": {},
   "outputs": [],
   "source": [
    "not_inc_tt=[]\n",
    "for idx in referenced_tweets:\n",
    "    if idx not in includes_tweets:\n",
    "        not_inc_tt.append(idx)"
   ]
  },
  {
   "cell_type": "code",
   "execution_count": null,
   "id": "227d1dfc-927a-45be-97c7-84ec4b7ad67a",
   "metadata": {},
   "outputs": [],
   "source": [
    "len(set(not_inc_tt))"
   ]
  },
  {
   "cell_type": "code",
   "execution_count": null,
   "id": "769a2bce-b60e-4de6-a84c-26431a29e230",
   "metadata": {},
   "outputs": [],
   "source": [
    "list(set(not_inc_tt))[0]"
   ]
  },
  {
   "cell_type": "code",
   "execution_count": null,
   "id": "32b30d8a-8910-4123-9906-684c8094b677",
   "metadata": {},
   "outputs": [],
   "source": [
    "search.get_client().get_tweet(id=1554782862641078272)"
   ]
  },
  {
   "cell_type": "code",
   "execution_count": null,
   "id": "3269e196-ab19-4452-8daf-642ac67e78af",
   "metadata": {},
   "outputs": [],
   "source": [
    "for idx in not_inc_tt:\n",
    "    for tweet in includes['tweets']:\n",
    "        if tweet.id == idx:\n",
    "            print(tweet.data)\n",
    "            break"
   ]
  },
  {
   "cell_type": "code",
   "execution_count": null,
   "id": "8dab1eaa-cfc1-4a5e-859b-22fc5ba75073",
   "metadata": {},
   "outputs": [],
   "source": [
    "df_teste = tt_teste.get_dataframe()"
   ]
  },
  {
   "cell_type": "code",
   "execution_count": null,
   "id": "481cc774-321e-4704-bcd6-0d42fec98b0f",
   "metadata": {},
   "outputs": [],
   "source": [
    "tts = search._archive_api2('#RingsOfPower', lang='pt', since='2022-10-6 00:00', until='2022-10-09 17:00')"
   ]
  },
  {
   "cell_type": "code",
   "execution_count": null,
   "id": "14fd9e99-dd71-4bd2-933b-3e2ffd232de6",
   "metadata": {},
   "outputs": [],
   "source": [
    "tts._info"
   ]
  },
  {
   "cell_type": "code",
   "execution_count": null,
   "id": "cfde29bb-b723-4405-a090-b524f987aa91",
   "metadata": {},
   "outputs": [],
   "source": [
    "tweets, includes = tts.get_tweets_dict()"
   ]
  },
  {
   "cell_type": "code",
   "execution_count": null,
   "id": "65f2af42-4caf-468e-b7c4-f0e192f9fcdc",
   "metadata": {},
   "outputs": [],
   "source": [
    "df = tts.get_dataframe()"
   ]
  },
  {
   "cell_type": "code",
   "execution_count": null,
   "id": "f219a436-5ce0-462c-b129-9310fa006ffa",
   "metadata": {},
   "outputs": [],
   "source": [
    "tweets[194].data"
   ]
  },
  {
   "cell_type": "code",
   "execution_count": null,
   "id": "753de2dc-6749-4733-94e5-75b05d14ee0a",
   "metadata": {},
   "outputs": [],
   "source": [
    "df.iloc[194].tweet_content"
   ]
  },
  {
   "cell_type": "code",
   "execution_count": null,
   "id": "b985657f-2eb9-4668-bd04-0f3a3abe627e",
   "metadata": {},
   "outputs": [],
   "source": [
    "df.query('has_mention == True and is_retweet == True')"
   ]
  },
  {
   "cell_type": "code",
   "execution_count": null,
   "id": "0d064191-05f4-4c3e-aeb7-f0c4026cb98b",
   "metadata": {},
   "outputs": [],
   "source": [
    "includes['users'][0].data"
   ]
  },
  {
   "cell_type": "code",
   "execution_count": null,
   "id": "232b315f-986d-44d5-a561-2e212748dddf",
   "metadata": {},
   "outputs": [],
   "source": [
    "tweets[194].data"
   ]
  },
  {
   "cell_type": "code",
   "execution_count": null,
   "id": "775b4f38-2b03-466f-90b3-3cb92e30be53",
   "metadata": {},
   "outputs": [],
   "source": [
    "df.iloc[194]['referenced_user']"
   ]
  },
  {
   "cell_type": "code",
   "execution_count": null,
   "id": "a337d367-6486-4deb-a1c4-f3343643b137",
   "metadata": {},
   "outputs": [],
   "source": [
    "df.iloc[0]"
   ]
  },
  {
   "cell_type": "code",
   "execution_count": null,
   "id": "b9fe47d5-94d9-4193-b45e-e1158aa8edef",
   "metadata": {},
   "outputs": [],
   "source": [
    "tweets[0].data"
   ]
  },
  {
   "cell_type": "code",
   "execution_count": null,
   "id": "4a3bdf36-6b14-46d8-8150-d52101b48a68",
   "metadata": {},
   "outputs": [],
   "source": [
    "tt_sample = None\n",
    "ref_types = []\n",
    "\n",
    "for tweet in tweets:\n",
    "    if 'referenced_tweets' in tweet.data.keys() and len(tweet.data['referenced_tweets'])>1:\n",
    "        tt_sample=tweet\n",
    "        \n",
    "tt_sample"
   ]
  },
  {
   "cell_type": "code",
   "execution_count": null,
   "id": "2fd652b5-855b-4fa0-aef8-a0fce0ca2253",
   "metadata": {},
   "outputs": [],
   "source": [
    "tweet.data"
   ]
  },
  {
   "cell_type": "code",
   "execution_count": null,
   "id": "cdb22e97-5c5c-4810-8d3e-d9064339fb37",
   "metadata": {},
   "outputs": [],
   "source": [
    "tt=None\n",
    "for tweet in includes['tweets']:\n",
    "    if tweet.id==1577670057076965377:\n",
    "        tt=tweet\n",
    "\n",
    "tt.data"
   ]
  },
  {
   "cell_type": "code",
   "execution_count": null,
   "id": "9888bc70-357e-4712-905c-9b082612989e",
   "metadata": {},
   "outputs": [],
   "source": [
    "usr = None\n",
    "for user in includes['users']:\n",
    "    if user.id==1453052758840467461:\n",
    "        usr=user\n",
    "\n",
    "usr.data"
   ]
  },
  {
   "cell_type": "code",
   "execution_count": null,
   "id": "64fbb27a-04a9-4a30-8e3e-45d4920474bb",
   "metadata": {},
   "outputs": [],
   "source": [
    "import numpy as np\n",
    "np.unique(np.array(ref_types))"
   ]
  },
  {
   "cell_type": "code",
   "execution_count": null,
   "id": "9caa1c3e-52ae-4ab5-97fb-9ecdeded557a",
   "metadata": {},
   "outputs": [],
   "source": [
    "includes['users'][0].data"
   ]
  },
  {
   "cell_type": "code",
   "execution_count": null,
   "id": "50f400f5-910f-4929-9ffd-39f75015b508",
   "metadata": {},
   "outputs": [],
   "source": [
    "len(tweets)"
   ]
  },
  {
   "cell_type": "code",
   "execution_count": null,
   "id": "2bd6abf3-c786-472c-aebc-b76b5b2019d3",
   "metadata": {},
   "outputs": [],
   "source": [
    "len(includes['users'])"
   ]
  },
  {
   "cell_type": "code",
   "execution_count": null,
   "id": "d53274ff-7358-4c27-92ee-a58e707d9b04",
   "metadata": {},
   "outputs": [],
   "source": [
    "tweets[0].data"
   ]
  },
  {
   "cell_type": "code",
   "execution_count": null,
   "id": "22439764-cef9-4407-b25b-26355fcf8e64",
   "metadata": {},
   "outputs": [],
   "source": [
    "for tweet in includes['tweets']:\n",
    "    if tweet.id == 1578444304971796481:\n",
    "        print(tweet.data)"
   ]
  },
  {
   "cell_type": "code",
   "execution_count": null,
   "id": "47c0dc81-0f1b-40a8-b68b-446fe36159f9",
   "metadata": {},
   "outputs": [],
   "source": [
    "for user in includes['users']:\n",
    "    if user.id == 320835890:\n",
    "        print(user.data)"
   ]
  },
  {
   "cell_type": "code",
   "execution_count": null,
   "id": "25456ab9-5d83-446f-90e8-6315d5229ebf",
   "metadata": {},
   "outputs": [],
   "source": [
    "for user in includes['users']:\n",
    "    if user.id == 187485846:\n",
    "        print(user.data)"
   ]
  },
  {
   "cell_type": "code",
   "execution_count": null,
   "id": "c089ab06-19a8-4546-aa07-0be501673c41",
   "metadata": {},
   "outputs": [],
   "source": [
    "for media in includes['media']:\n",
    "    if media.media_key == '3_1578444295769579520':\n",
    "        print(media.data)"
   ]
  },
  {
   "cell_type": "code",
   "execution_count": null,
   "id": "907ae3f7-155e-426e-afd1-baf867083a9f",
   "metadata": {},
   "outputs": [],
   "source": [
    "includes['users'][0].description"
   ]
  },
  {
   "cell_type": "code",
   "execution_count": null,
   "id": "aa7f2c29-89fe-4b05-ad31-b9acb2e8f617",
   "metadata": {},
   "outputs": [],
   "source": [
    "id_list = [user.id for user in includes['users']]"
   ]
  },
  {
   "cell_type": "code",
   "execution_count": null,
   "id": "17a8c733-4288-4184-b4af-a9afccdf0c4a",
   "metadata": {},
   "outputs": [],
   "source": [
    "for idx,tweet in enumerate(tweets):\n",
    "    if tweet.author_id not in i\n",
    "    d_list:\n",
    "        print(f'author not found idx: {idx}')"
   ]
  },
  {
   "cell_type": "code",
   "execution_count": null,
   "id": "57b9b63c-5405-452f-aac1-a290c1b6faf3",
   "metadata": {},
   "outputs": [],
   "source": [
    "tweets_recent = search._recent('#HouseOfTheDragonEp6', amount=1000)"
   ]
  },
  {
   "cell_type": "code",
   "execution_count": null,
   "id": "3aefa722-c790-4f9b-b5c4-eb76c13cd499",
   "metadata": {},
   "outputs": [],
   "source": [
    "print(tweets_recent._info)"
   ]
  },
  {
   "cell_type": "code",
   "execution_count": null,
   "id": "01b57555-92ba-4022-b42e-e31a9587eb4a",
   "metadata": {},
   "outputs": [],
   "source": [
    "df_recent = tweets_recent.get_dataframe()\n",
    "df_recent.shape"
   ]
  },
  {
   "cell_type": "code",
   "execution_count": null,
   "id": "cfb4fba8-b1ee-471b-b2ba-219883d2d87a",
   "metadata": {},
   "outputs": [],
   "source": [
    "df_recent.query('is_reply==True')"
   ]
  },
  {
   "cell_type": "code",
   "execution_count": null,
   "id": "fa97a19f-aa68-4a25-b73d-daac00333637",
   "metadata": {},
   "outputs": [],
   "source": [
    "rt = {}\n",
    "\n",
    "for tweet in tweets_recent.get_tweets_dict():\n",
    "    if 'retweeted_status' in tweet.keys() and tweet['retweeted_status']['entities']['user_mentions']:\n",
    "        rt = tweet\n",
    "rt"
   ]
  },
  {
   "cell_type": "code",
   "execution_count": null,
   "id": "a819a894-07a0-4763-9221-6c062de7c4b5",
   "metadata": {},
   "outputs": [],
   "source": [
    "tweets_30_days = search._archive('#HouseOfTheDragonEp6', lang='pt', amount=500)"
   ]
  },
  {
   "cell_type": "code",
   "execution_count": null,
   "id": "0cda4d3a-6da3-4baa-9df0-bcdbc371de00",
   "metadata": {},
   "outputs": [],
   "source": [
    "tweets_30_days._info"
   ]
  },
  {
   "cell_type": "code",
   "execution_count": null,
   "id": "d05a7e30-e25d-42fc-804c-a7751c236db8",
   "metadata": {},
   "outputs": [],
   "source": [
    "df_old = tweets_30_days.get_dataframe()\n",
    "df_old.shape"
   ]
  },
  {
   "cell_type": "code",
   "execution_count": null,
   "id": "9da4a907-a1ab-4be4-9cd1-f324a39d35bd",
   "metadata": {},
   "outputs": [],
   "source": [
    "df_old.query('has_mention==True')"
   ]
  },
  {
   "cell_type": "code",
   "execution_count": null,
   "id": "3e8c65a2-b323-4657-a2d5-8920d128bf58",
   "metadata": {},
   "outputs": [],
   "source": [
    "df_old.sample(15)"
   ]
  },
  {
   "cell_type": "code",
   "execution_count": null,
   "id": "2735f681-ee80-4427-a939-e3be6188be48",
   "metadata": {},
   "outputs": [],
   "source": [
    "rt = {}\n",
    "\n",
    "for tweet in tweets_30_days.get_tweets_dict():\n",
    "    if 'retweeted_status' not in tweet.keys() and not tweet['truncated']:\n",
    "        rt = tweet\n",
    "rt"
   ]
  },
  {
   "cell_type": "code",
   "execution_count": null,
   "id": "a57dedb2-6dbc-4d15-93ea-46de9699e2c2",
   "metadata": {},
   "outputs": [],
   "source": [
    "for tweet in tweets_arquivo.get_tweets_dict():\n",
    "    if tweet['truncated'] == True:\n",
    "        trunc = tweet\n",
    "trunc"
   ]
  },
  {
   "cell_type": "code",
   "execution_count": null,
   "id": "bf333621-d0bd-4fda-9953-301541eaebc2",
   "metadata": {},
   "outputs": [],
   "source": [
    "tt_media= search._archive('Foils for the collection!', amount=10)"
   ]
  },
  {
   "cell_type": "code",
   "execution_count": null,
   "id": "f18ad7af-8a9b-42d5-8907-65ea07e39bd2",
   "metadata": {},
   "outputs": [],
   "source": [
    "tt_media.get_tweets_dict()[1]"
   ]
  },
  {
   "cell_type": "code",
   "execution_count": null,
   "id": "b6060a44-e500-422c-a334-d2e2d1b6fdbd",
   "metadata": {},
   "outputs": [],
   "source": [
    "one_media = search._recent('A direita tá se unindo né', amount=100).get_tweets_dict()"
   ]
  },
  {
   "cell_type": "code",
   "execution_count": null,
   "id": "9c9a2a7b-bf2b-44b0-b106-54a75b551d37",
   "metadata": {},
   "outputs": [],
   "source": [
    "one_media[23]"
   ]
  },
  {
   "cell_type": "code",
   "execution_count": null,
   "id": "f6ecd88f-65cb-4919-b85f-90680f5514c8",
   "metadata": {},
   "outputs": [],
   "source": [
    "tweets_hash = search._archive('#datafolha', amount=200)"
   ]
  },
  {
   "cell_type": "code",
   "execution_count": null,
   "id": "4881f7db-3197-4e4a-af60-2eadd200ea22",
   "metadata": {},
   "outputs": [],
   "source": [
    "tweets_hash.get_tweets_dict()[5]"
   ]
  },
  {
   "cell_type": "code",
   "execution_count": null,
   "id": "4a331a4b-d24c-4d4f-8e17-e7e7104cc91f",
   "metadata": {},
   "outputs": [],
   "source": [
    "tts = search._recent('#datafolha OR datafolha', lang='pt', amount=100000)"
   ]
  },
  {
   "cell_type": "code",
   "execution_count": null,
   "id": "bdcd698f-f942-4c96-800a-234efa698d48",
   "metadata": {},
   "outputs": [],
   "source": [
    "tts._info"
   ]
  },
  {
   "cell_type": "code",
   "execution_count": null,
   "id": "c562184c-32bf-4146-8c00-db280c2480e2",
   "metadata": {},
   "outputs": [],
   "source": [
    "df = tts.get_dataframe()\n",
    "df.sample(10)"
   ]
  },
  {
   "cell_type": "code",
   "execution_count": null,
   "id": "890df7c4-1d69-4f2e-bf60-ddc508df48c7",
   "metadata": {},
   "outputs": [],
   "source": [
    "df.to_csv('#datafolha.csv', index=False)"
   ]
  },
  {
   "cell_type": "code",
   "execution_count": null,
   "id": "bafdf1e8-5d3d-4a1b-8879-bc20b1faef72",
   "metadata": {},
   "outputs": [],
   "source": [
    "rt_df = df[df['retweeted_from'].notnull()]\n",
    "rt_df.shape"
   ]
  },
  {
   "cell_type": "code",
   "execution_count": null,
   "id": "594fbfef-615a-4812-9cd5-ab07642f229e",
   "metadata": {},
   "outputs": [],
   "source": [
    "rt_df.head()"
   ]
  },
  {
   "cell_type": "code",
   "execution_count": null,
   "id": "6bec17bf-6bb0-401e-98aa-772dfe559143",
   "metadata": {},
   "outputs": [],
   "source": [
    "rt_df[['user_info', 'retweeted_from']].sample()"
   ]
  },
  {
   "cell_type": "code",
   "execution_count": null,
   "id": "935fc910-b818-4481-9bfe-42bff66a33b8",
   "metadata": {},
   "outputs": [],
   "source": [
    "rt_match = []\n",
    "\n",
    "for idx, rt in rt_df[['user_info', 'retweeted_from']].iterrows():\n",
    "    rt_match.append((rt['user_info']['screen_name'], rt['retweeted_from']['user']))"
   ]
  },
  {
   "cell_type": "code",
   "execution_count": null,
   "id": "7dbba9f2-ab33-4078-9a41-30d6b0f179a6",
   "metadata": {},
   "outputs": [],
   "source": [
    "rt_match[:5]"
   ]
  },
  {
   "cell_type": "code",
   "execution_count": null,
   "id": "009a8266-61b6-4656-9692-ec085267fd34",
   "metadata": {},
   "outputs": [],
   "source": [
    "df_rt_match = pd.DataFrame(columns=['source', 'target'], data=rt_match)\n",
    "df_rt_match.head()"
   ]
  },
  {
   "cell_type": "code",
   "execution_count": null,
   "id": "537b42fa-833d-41fd-a324-24d434d63f53",
   "metadata": {},
   "outputs": [],
   "source": [
    "df_rt_match.value_counts()"
   ]
  },
  {
   "cell_type": "code",
   "execution_count": null,
   "id": "74c73b68-e5b7-4648-9ffe-027ed8c51401",
   "metadata": {},
   "outputs": [],
   "source": [
    "tts2 = search._30_days('#datafolha OR datafolha', since='2022-09-21', amount=10000)"
   ]
  },
  {
   "cell_type": "code",
   "execution_count": null,
   "id": "0e0b292a-453c-4174-a72e-73f3df5e1f4a",
   "metadata": {},
   "outputs": [],
   "source": [
    "tts2._info"
   ]
  },
  {
   "cell_type": "code",
   "execution_count": null,
   "id": "0f9f7ba5-6fd3-421f-8efb-831692c95955",
   "metadata": {},
   "outputs": [],
   "source": [
    "conv_date_ISO('2022-05-09 15:30')"
   ]
  },
  {
   "cell_type": "code",
   "execution_count": null,
   "id": "f12dca46-4fb5-4d37-afea-5b001bc232b1",
   "metadata": {},
   "outputs": [],
   "source": [
    "import tweepy as tw\n",
    "from config import *\n",
    "from modules.utils import *\n",
    "from modules.search import Search\n",
    "import pandas as pd"
   ]
  },
  {
   "cell_type": "code",
   "execution_count": null,
   "id": "6a8c02bf-d7e0-48d2-a891-f83076fa845d",
   "metadata": {},
   "outputs": [],
   "source": [
    "search = Search(API_KEY, API_SECRET, ACCESS_TOKEN, ACCESS_TOKEN_SECRET, BEARER_TOKEN, SANDBOX_LABEL)"
   ]
  },
  {
   "cell_type": "code",
   "execution_count": null,
   "id": "10991b50-4696-488e-8114-cc1e854d04de",
   "metadata": {},
   "outputs": [],
   "source": [
    "tt_list = search._archive_api2(query='magic the gathering', lang='pt', since='2022-10-02 12:30', until='2022-10-04 23:30', amount=100)"
   ]
  },
  {
   "cell_type": "code",
   "execution_count": null,
   "id": "000ba1fb-0137-4621-b434-bd3a08924156",
   "metadata": {},
   "outputs": [],
   "source": [
    "tt_list._info"
   ]
  },
  {
   "cell_type": "code",
   "execution_count": null,
   "id": "95aa1c0f-6c57-4b13-abaa-e61a5a26ee60",
   "metadata": {},
   "outputs": [],
   "source": [
    "tt_list.get_dataframe().head()"
   ]
  },
  {
   "cell_type": "code",
   "execution_count": null,
   "id": "51ad2210-a5ba-4422-ad5d-02605d3e7e9e",
   "metadata": {},
   "outputs": [],
   "source": [
    "tt_list.get_tweets_dict()[0].data."
   ]
  },
  {
   "cell_type": "code",
   "execution_count": null,
   "id": "ef71c3c1-1e6a-49c8-8117-45a609004b39",
   "metadata": {},
   "outputs": [],
   "source": [
    "client = search.get_client()"
   ]
  },
  {
   "cell_type": "code",
   "execution_count": null,
   "id": "beef4e2a-cc41-49a6-9a54-7460400524a8",
   "metadata": {},
   "outputs": [],
   "source": [
    "resp2 = client.search_recent_tweets(query='magic the gathering', next_token='b26v89c19zqg8o3fpzbmmcou6dzct5lznm2oeyglevibh')"
   ]
  }
 ],
 "metadata": {
  "kernelspec": {
   "display_name": "Python 3 (ipykernel)",
   "language": "python",
   "name": "python3"
  },
  "language_info": {
   "codemirror_mode": {
    "name": "ipython",
    "version": 3
   },
   "file_extension": ".py",
   "mimetype": "text/x-python",
   "name": "python",
   "nbconvert_exporter": "python",
   "pygments_lexer": "ipython3",
   "version": "3.10.4"
  }
 },
 "nbformat": 4,
 "nbformat_minor": 5
}
